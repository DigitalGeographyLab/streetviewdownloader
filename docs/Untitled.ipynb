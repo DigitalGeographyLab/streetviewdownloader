{
 "cells": [
  {
   "cell_type": "code",
   "execution_count": 2,
   "id": "3d3f27ea",
   "metadata": {
    "scrolled": true
   },
   "outputs": [
    {
     "name": "stderr",
     "output_type": "stream",
     "text": [
      "/usr/lib/python3.9/site-packages/geopandas/_compat.py:111: UserWarning: The Shapely GEOS version (3.9.1-CAPI-1.14.2) is incompatible with the GEOS version PyGEOS was compiled with (3.10.0-CAPI-1.16.0). Conversions between both will be slow.\n",
      "  warnings.warn(\n"
     ]
    }
   ],
   "source": [
    "import shapely.wkt\n",
    "\n",
    "from streetviewdownloader import StreetViewDownloader"
   ]
  },
  {
   "cell_type": "markdown",
   "id": "1e417b97",
   "metadata": {},
   "source": [
    "First, let’s define for which area we want to download data for:"
   ]
  },
  {
   "cell_type": "code",
   "execution_count": 3,
   "id": "846bfb43",
   "metadata": {},
   "outputs": [],
   "source": [
    "kirkkonummi = shapely.wkt.loads(\"POLYGON((24.40 60.12, 24.45 60.11, 24.46 60.13, 24.40 60.12))\")"
   ]
  },
  {
   "cell_type": "markdown",
   "id": "682f38d8",
   "metadata": {},
   "source": [
    "(TODO: plot kirkkonummi!)"
   ]
  },
  {
   "cell_type": "markdown",
   "id": "e9b1bd0f",
   "metadata": {},
   "source": [
    "Let’s also decide where to store the downloaded images and the associated metadata:"
   ]
  },
  {
   "cell_type": "code",
   "execution_count": 4,
   "id": "27333c5f",
   "metadata": {},
   "outputs": [],
   "source": [
    "output_directory = \"/home/${USER}/Downloads/StreetView/\""
   ]
  },
  {
   "cell_type": "markdown",
   "id": "1b059133",
   "metadata": {},
   "source": [
    "Finally, "
   ]
  }
 ],
 "metadata": {
  "kernelspec": {
   "display_name": "Python 3 (ipykernel)",
   "language": "python",
   "name": "python3"
  },
  "language_info": {
   "codemirror_mode": {
    "name": "ipython",
    "version": 3
   },
   "file_extension": ".py",
   "mimetype": "text/x-python",
   "name": "python",
   "nbconvert_exporter": "python",
   "pygments_lexer": "ipython3",
   "version": "3.9.7"
  }
 },
 "nbformat": 4,
 "nbformat_minor": 5
}
