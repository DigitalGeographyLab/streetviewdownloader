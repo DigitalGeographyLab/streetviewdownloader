{
 "cells": [
  {
   "cell_type": "markdown",
   "id": "f1c4253e",
   "metadata": {},
   "source": [
    "# Usage"
   ]
  },
  {
   "cell_type": "markdown",
   "id": "b9d160af",
   "metadata": {},
   "source": [
    "## API key\n",
    "\n",
    "Before you can download any images (or any metadata about them) from Google StreetView, you have to register for Google’s Static StreetView API. Go to https://developers.google.com/maps/documentation/streetview/get-api-key and follow the instructions there. Be sure to also generate an URL signing secret."
   ]
  },
  {
   "cell_type": "markdown",
   "id": "9319e933",
   "metadata": {},
   "source": [
    "## Command line utility\n",
    "\n",
    "The quickest way of downloading StreetView images and their metadata is to use the command line utility `streetviewdownloader`:"
   ]
  },
  {
   "cell_type": "markdown",
   "id": "0b7459d8",
   "metadata": {},
   "source": [
    "```bash\n",
    "$ streetviewdownloader --api-key ABCDEF --url-signing-key GHIJKL --extent \"POLYGON((24.40 60.12, 24.45 60.11, 24.46 60.13, 24.40 60.12))\"\n",
    "```"
   ]
  },
  {
   "cell_type": "markdown",
   "id": "cd224d77",
   "metadata": {},
   "source": [
    "## Python\n",
    "\n",
    "For more advanced applications, such as saving the metadata only, or for integrating the StreetView data download into a workflow pipeline, you can also use Streetviewdownloader’s [Python API](reference.html)."
   ]
  },
  {
   "cell_type": "code",
   "execution_count": 1,
   "id": "439ee015",
   "metadata": {
    "nbsphinx": "hidden",
    "tags": [
     "remove-cell"
    ]
   },
   "outputs": [],
   "source": [
    "# this cell is hidden from output\n",
    "# it’s used to \n",
    "# - import credentials\n",
    "# - hide the warnings that are displayed because \n",
    "#   of a current mismatch in geos versions between \n",
    "#   shapely and pygeos\n",
    "# - set sys.path to point to the local streetviewdownloader repo\n",
    "\n",
    "try:\n",
    "    import yaml\n",
    "    import os.path\n",
    "    with open(os.path.expanduser(\"~/.config/streetviewdownloader.yaml\")) as _config_file:\n",
    "        _config = yaml.safe_load(_config_file)\n",
    "\n",
    "    API_KEY = _config[\"API_KEY\"]\n",
    "    URL_SIGNING_KEY = _config[\"URL_SIGNING_KEY\"]\n",
    "    del _config\n",
    "except (ImportError, FileNotFoundError, KeyError):\n",
    "    try:\n",
    "        import os\n",
    "        API_KEY = os.environ[\"sv_API_KEY\"]\n",
    "        URL_SIGNING_KEY = os.environ[\"sv_URL_SIGNING_KEY\"]\n",
    "    except KeyError:\n",
    "        API_KEY = \"\"\n",
    "        URL_SIGNING_KEY = \"\"\n",
    "\n",
    "import warnings\n",
    "warnings.simplefilter(\"ignore\")\n",
    "\n",
    "import sys\n",
    "sys.path.append(\"../src/\")"
   ]
  },
  {
   "cell_type": "markdown",
   "id": "53f7a7cc",
   "metadata": {},
   "source": [
    "### Define download extent and download directory\n",
    "\n",
    "For all examples below, we’ll download data for an area in the municipality of Kirkkonummi, about 50 km west of Helsinki, Finland. We’ll save the downloaded images and/or an associated `metadata.gpkg` into a subfolder of `~/Downloads/`:"
   ]
  },
  {
   "cell_type": "code",
   "execution_count": 2,
   "id": "846bfb43",
   "metadata": {},
   "outputs": [
    {
     "data": {
      "application/vnd.jupyter.widget-view+json": {
       "model_id": "beeb0f40d13a418c9fdf80fe9e0dd0ce",
       "version_major": 2,
       "version_minor": 0
      },
      "text/plain": [
       "Map(center=[0.0, 0.0], controls=(ZoomControl(options=['position', 'zoom_in_text', 'zoom_in_title', 'zoom_out_t…"
      ]
     },
     "metadata": {},
     "output_type": "display_data"
    }
   ],
   "source": [
    "import shapely.wkt\n",
    "import ipyleaflet\n",
    "\n",
    "output_directory = \"/home/USER/Downloads/StreetView/\"\n",
    "kirkkonummi = shapely.wkt.loads(\"POLYGON((24.4343 60.1269, 24.4478 60.1272, 24.4384 60.1225, 24.4343 60.1269))\")\n",
    "\n",
    "map1 = ipyleaflet.Map()\n",
    "map1.add_layer(ipyleaflet.WKTLayer(wkt_string=kirkkonummi.wkt))\n",
    "map1.fit_bounds(((kirkkonummi.bounds[1],kirkkonummi.bounds[0]),(kirkkonummi.bounds[3],kirkkonummi.bounds[2])))\n",
    "\n",
    "map1"
   ]
  },
  {
   "cell_type": "markdown",
   "id": "e278cace",
   "metadata": {},
   "source": [
    "### Using `StreetViewDownloader()`\n",
    "\n",
    "The simplest way of accessing the Python API is to use the `StreetViewDownloader()` class."
   ]
  },
  {
   "cell_type": "code",
   "execution_count": 3,
   "id": "241d40a5",
   "metadata": {},
   "outputs": [],
   "source": [
    "from streetviewdownloader import StreetViewDownloader\n",
    "\n",
    "downloader = StreetViewDownloader(API_KEY, URL_SIGNING_KEY)\n",
    "downloader.download(kirkkonummi, output_directory)"
   ]
  },
  {
   "cell_type": "markdown",
   "id": "9727e479",
   "metadata": {},
   "source": [
    "This downloads the metadata to `metadata.gpkg`, and all images into the output directory. Note that, by default, data is appended to an existing metadata dataset, and images existing in the directory are not downloaded again. If you want the metadata only, call `download()` with `metadata_only=True`.\n",
    "\n",
    "Depending on the location and size of the extent, this operation can take a while. In the background, Streetviewdownloader carries out multiple steps:\n",
    "\n",
    "1. Decide which OSM extract from either geofabrik.de or bbbike.org fits best for the extent (the smallest extract in which the extent is fully contained)\n",
    "2. Download this OSM extract, and extract and clip the street network to the extent\n",
    "3. Generate a point data set on this street network with at most 25 meter distance between points\n",
    "4. Query the StreetView Static API for panoramas in the immediate vicinity of each point (and remove duplicates afterwards)\n",
    "5. Download six images each for every panorama.\n",
    "\n",
    "The results of the first two steps are cached for up to seven days, as they are the most expensive ones in respect to download time and processing time. They should complete fast in subsequent runs."
   ]
  },
  {
   "cell_type": "markdown",
   "id": "0ae1849c",
   "metadata": {},
   "source": [
    "### Step by step"
   ]
  },
  {
   "cell_type": "markdown",
   "id": "80391788",
   "metadata": {},
   "source": [
    "Some of these steps can be carried out individually, in order to fine-tune the results, or to save intermediary data sets."
   ]
  },
  {
   "cell_type": "markdown",
   "id": "9c5ce7cf",
   "metadata": {},
   "source": [
    "#### 1-3. Generate equidistant points on the street network"
   ]
  },
  {
   "cell_type": "code",
   "execution_count": 4,
   "id": "27333c5f",
   "metadata": {},
   "outputs": [
    {
     "data": {
      "text/html": [
       "<div>\n",
       "<style scoped>\n",
       "    .dataframe tbody tr th:only-of-type {\n",
       "        vertical-align: middle;\n",
       "    }\n",
       "\n",
       "    .dataframe tbody tr th {\n",
       "        vertical-align: top;\n",
       "    }\n",
       "\n",
       "    .dataframe thead th {\n",
       "        text-align: right;\n",
       "    }\n",
       "</style>\n",
       "<table border=\"1\" class=\"dataframe\">\n",
       "  <thead>\n",
       "    <tr style=\"text-align: right;\">\n",
       "      <th></th>\n",
       "      <th>geometry</th>\n",
       "    </tr>\n",
       "  </thead>\n",
       "  <tbody>\n",
       "    <tr>\n",
       "      <th>0</th>\n",
       "      <td>POINT (24.43637 60.12480)</td>\n",
       "    </tr>\n",
       "    <tr>\n",
       "      <th>1</th>\n",
       "      <td>POINT (24.43647 60.12464)</td>\n",
       "    </tr>\n",
       "    <tr>\n",
       "      <th>2</th>\n",
       "      <td>POINT (24.43623 60.12563)</td>\n",
       "    </tr>\n",
       "    <tr>\n",
       "      <th>3</th>\n",
       "      <td>POINT (24.43656 60.12565)</td>\n",
       "    </tr>\n",
       "    <tr>\n",
       "      <th>4</th>\n",
       "      <td>POINT (24.43689 60.12566)</td>\n",
       "    </tr>\n",
       "  </tbody>\n",
       "</table>\n",
       "</div>"
      ],
      "text/plain": [
       "                    geometry\n",
       "0  POINT (24.43637 60.12480)\n",
       "1  POINT (24.43647 60.12464)\n",
       "2  POINT (24.43623 60.12563)\n",
       "3  POINT (24.43656 60.12565)\n",
       "4  POINT (24.43689 60.12566)"
      ]
     },
     "execution_count": 4,
     "metadata": {},
     "output_type": "execute_result"
    }
   ],
   "source": [
    "from streetviewdownloader import StreetNetworkPointGenerator\n",
    "point_generator = StreetNetworkPointGenerator()\n",
    "points = point_generator.points_on_street_network(kirkkonummi)\n",
    "points.head()"
   ]
  },
  {
   "cell_type": "code",
   "execution_count": 5,
   "id": "ad054118",
   "metadata": {},
   "outputs": [
    {
     "data": {
      "application/vnd.jupyter.widget-view+json": {
       "model_id": "c59f07ee55464ebf9474130cdd99b4f3",
       "version_major": 2,
       "version_minor": 0
      },
      "text/plain": [
       "Map(center=[60.12485, 24.44105], controls=(ZoomControl(options=['position', 'zoom_in_text', 'zoom_in_title', '…"
      ]
     },
     "metadata": {},
     "output_type": "display_data"
    }
   ],
   "source": [
    "map2 = ipyleaflet.Map()\n",
    "map2.add_layer(ipyleaflet.WKTLayer(wkt_string=kirkkonummi.wkt))\n",
    "map2.add_layer(ipyleaflet.GeoData(geo_dataframe=points, point_style={\"radius\": 1, \"color\": \"black\"}))\n",
    "map2.center = map1.center\n",
    "map2.zoom = map1.zoom + 2\n",
    "\n",
    "map2"
   ]
  },
  {
   "cell_type": "markdown",
   "id": "8302d304",
   "metadata": {},
   "source": [
    "#### 4. Query the StreetView API for panoramas close to each point"
   ]
  },
  {
   "cell_type": "code",
   "execution_count": 6,
   "id": "e31f3879",
   "metadata": {},
   "outputs": [
    {
     "data": {
      "text/html": [
       "<div>\n",
       "<style scoped>\n",
       "    .dataframe tbody tr th:only-of-type {\n",
       "        vertical-align: middle;\n",
       "    }\n",
       "\n",
       "    .dataframe tbody tr th {\n",
       "        vertical-align: top;\n",
       "    }\n",
       "\n",
       "    .dataframe thead th {\n",
       "        text-align: right;\n",
       "    }\n",
       "</style>\n",
       "<table border=\"1\" class=\"dataframe\">\n",
       "  <thead>\n",
       "    <tr style=\"text-align: right;\">\n",
       "      <th></th>\n",
       "      <th>date</th>\n",
       "      <th>geometry</th>\n",
       "      <th>pano_id</th>\n",
       "    </tr>\n",
       "  </thead>\n",
       "  <tbody>\n",
       "    <tr>\n",
       "      <th>0</th>\n",
       "      <td>2011-09-01</td>\n",
       "      <td>POINT (24.43912 60.12362)</td>\n",
       "      <td>PlXovlB4YBzyej0heen1Gg</td>\n",
       "    </tr>\n",
       "    <tr>\n",
       "      <th>1</th>\n",
       "      <td>2009-04-01</td>\n",
       "      <td>POINT (24.44201 60.12680)</td>\n",
       "      <td>B2__1tBk90fwLCrwB-v8SA</td>\n",
       "    </tr>\n",
       "    <tr>\n",
       "      <th>2</th>\n",
       "      <td>2009-04-01</td>\n",
       "      <td>POINT (24.44218 60.12693)</td>\n",
       "      <td>Okj0BUnoMay_siKBMEslHw</td>\n",
       "    </tr>\n",
       "    <tr>\n",
       "      <th>3</th>\n",
       "      <td>2011-09-01</td>\n",
       "      <td>POINT (24.43624 60.12556)</td>\n",
       "      <td>fPZ0jHcEIMMfybmYV0kPLA</td>\n",
       "    </tr>\n",
       "    <tr>\n",
       "      <th>4</th>\n",
       "      <td>2011-09-01</td>\n",
       "      <td>POINT (24.43620 60.12580)</td>\n",
       "      <td>-_XoNtKLvLBGcGL2k06-bg</td>\n",
       "    </tr>\n",
       "  </tbody>\n",
       "</table>\n",
       "</div>"
      ],
      "text/plain": [
       "         date                   geometry                 pano_id\n",
       "0  2011-09-01  POINT (24.43912 60.12362)  PlXovlB4YBzyej0heen1Gg\n",
       "1  2009-04-01  POINT (24.44201 60.12680)  B2__1tBk90fwLCrwB-v8SA\n",
       "2  2009-04-01  POINT (24.44218 60.12693)  Okj0BUnoMay_siKBMEslHw\n",
       "3  2011-09-01  POINT (24.43624 60.12556)  fPZ0jHcEIMMfybmYV0kPLA\n",
       "4  2011-09-01  POINT (24.43620 60.12580)  -_XoNtKLvLBGcGL2k06-bg"
      ]
     },
     "execution_count": 6,
     "metadata": {},
     "output_type": "execute_result"
    }
   ],
   "source": [
    "from streetviewdownloader import StreetViewMetadataDownloader\n",
    "metadata_downloader = StreetViewMetadataDownloader(API_KEY, URL_SIGNING_KEY)\n",
    "metadata = metadata_downloader.download(points)\n",
    "metadata.head()"
   ]
  },
  {
   "cell_type": "code",
   "execution_count": 7,
   "id": "346a3522",
   "metadata": {},
   "outputs": [
    {
     "data": {
      "application/vnd.jupyter.widget-view+json": {
       "model_id": "6c9d8e1bb49a4ad9ae9e099a1d9330f3",
       "version_major": 2,
       "version_minor": 0
      },
      "text/plain": [
       "Map(center=[60.12485, 24.44105], controls=(ZoomControl(options=['position', 'zoom_in_text', 'zoom_in_title', '…"
      ]
     },
     "metadata": {},
     "output_type": "display_data"
    }
   ],
   "source": [
    "map3 = ipyleaflet.Map()\n",
    "map3.add_layer(ipyleaflet.WKTLayer(wkt_string=kirkkonummi.wkt))\n",
    "map3.add_layer(ipyleaflet.GeoData(geo_dataframe=metadata[[\"geometry\"]], point_style={\"radius\": 0.5, \"color\": \"black\" }))\n",
    "map3.center = map1.center\n",
    "map3.zoom = map1.zoom + 2\n",
    "map3"
   ]
  },
  {
   "cell_type": "markdown",
   "id": "0e896fa9",
   "metadata": {},
   "source": [
    "The metadata describes all panoramas that are available inside in the extent.\\\n",
    "\n",
    "This is a good moment to estimate the costs of downloading all images (querying metadata is free). At the time of this writing, the [price for downloading one image is 0.007 USD](https://developers.google.com/maps/documentation/streetview/usage-and-billing#static-street-view). The way Streetviewdownloader obtains the images, each panorama consists of six individual images covering a field-of-view of 60°, each."
   ]
  },
  {
   "cell_type": "code",
   "execution_count": 8,
   "id": "5a8a0efd",
   "metadata": {},
   "outputs": [
    {
     "data": {
      "text/plain": [
       "5.7540000000000004"
      ]
     },
     "execution_count": 8,
     "metadata": {},
     "output_type": "execute_result"
    }
   ],
   "source": [
    "estimated_costs = len(metadata) * 6 * 0.007\n",
    "estimated_costs"
   ]
  },
  {
   "cell_type": "markdown",
   "id": "1b059133",
   "metadata": {},
   "source": [
    "#### 5. Download the individual images"
   ]
  },
  {
   "cell_type": "code",
   "execution_count": 9,
   "id": "2d78c98a",
   "metadata": {},
   "outputs": [],
   "source": [
    "from streetviewdownloader import StreetViewImageDownloader\n",
    "image_downloader = StreetViewImageDownloader(API_KEY, URL_SIGNING_KEY)\n",
    "image_downloader.download(metadata, output_directory)"
   ]
  },
  {
   "cell_type": "markdown",
   "id": "f332db5d",
   "metadata": {},
   "source": [
    "## Output files"
   ]
  },
  {
   "cell_type": "markdown",
   "id": "22c8bd7a",
   "metadata": {},
   "source": [
    "The downloaded images and metadata are saved into the specified output folder. \n",
    "\n",
    "The metadata are saved in GeoPackage format that can be opened using any GIS software, e.g. [QGIS](https://qgis.org/) or [Geopandas](https://geopandas.org/). \n",
    "\n",
    "The images are saved into a directory structure derived from their IDs. Each panorama’s ID is a case-sensitive (!) alphanumeric+underscore+dash string (see above for some sample IDs in the metadata table). To optimise access times when handling thousands or millions of panoramas, Streetviewdownloader creates a three-tier subfolder structure, with the top-most directory being the first character of the ID, the second directory the first two characters, the third layer of directories the full ID. Inside each panorama’s directory, the individal images are named `{ID}_{HEADING}.jpg`, where `{ID}` is the panorama ID, and `{HEADING}` one of `000`, `060`, `120`, `180`, `240`, `300` for the direction the camera pointed to. In general, all six images should exist for each panorama.\n",
    "\n",
    "For example, an image for heading 0 (North) for the StreetView panorama with `ID = \"ABCDEF123456ABC\"` would be saved to `output_directory/A/AB/ABCDEF123456ABC_000.jpg`."
   ]
  }
 ],
 "metadata": {
  "kernelspec": {
   "display_name": "Python 3 (ipykernel)",
   "language": "python",
   "name": "python3"
  },
  "language_info": {
   "codemirror_mode": {
    "name": "ipython",
    "version": 3
   },
   "file_extension": ".py",
   "mimetype": "text/x-python",
   "name": "python",
   "nbconvert_exporter": "python",
   "pygments_lexer": "ipython3",
   "version": "3.10.1"
  },
  "widgets": {
   "application/vnd.jupyter.widget-state+json": {
    "state": {
     "00e2a9ba1e494f40b23d2dbbe8604b36": {
      "model_module": "jupyter-leaflet",
      "model_module_version": "^0.15.0",
      "model_name": "LeafletZoomControlModel",
      "state": {
       "_model_module_version": "^0.15.0",
       "_view_module_version": "^0.15.0",
       "options": [
        "position",
        "zoom_in_text",
        "zoom_in_title",
        "zoom_out_text",
        "zoom_out_title"
       ]
      }
     },
     "01956be68bbb40f6a3d04edb9410fffa": {
      "model_module": "jupyter-leaflet",
      "model_module_version": "^0.15.0",
      "model_name": "LeafletZoomControlModel",
      "state": {
       "_model_module_version": "^0.15.0",
       "_view_module_version": "^0.15.0",
       "options": [
        "position",
        "zoom_in_text",
        "zoom_in_title",
        "zoom_out_text",
        "zoom_out_title"
       ]
      }
     },
     "04017434839f493e9f629d7ca7efaec4": {
      "model_module": "jupyter-leaflet",
      "model_module_version": "^0.15.0",
      "model_name": "LeafletMapStyleModel",
      "state": {
       "_model_module_version": "^0.15.0"
      }
     },
     "08daec86d61e41adb9bb398b7aba1cc6": {
      "model_module": "jupyter-leaflet",
      "model_module_version": "^0.15.0",
      "model_name": "LeafletMapModel",
      "state": {
       "_model_module_version": "^0.15.0",
       "_view_module_version": "^0.15.0",
       "bottom": 1511,
       "center": [
        60.12485,
        24.44105
       ],
       "controls": [
        "IPY_MODEL_8875396766004f988894eb2c18e3e847",
        "IPY_MODEL_b5bc066704cb454285108a82d296ffa3"
       ],
       "default_style": "IPY_MODEL_4255fad49204413bbd2e43893b4e3bf3",
       "dragging_style": "IPY_MODEL_96a9d876078044008956793af45fb409",
       "east": 71.63035287676387,
       "fullscreen": false,
       "interpolation": "bilinear",
       "layers": [
        "IPY_MODEL_d68c0be16be84c9eb394b363d301f885",
        "IPY_MODEL_3f6e8286783341c78b586cd3675259e4"
       ],
       "layout": "IPY_MODEL_0d77e64b087647d9b381b10f4caee5f9",
       "left": 1884.9942371756242,
       "modisdate": "2021-12-20",
       "north": 63.27318217465046,
       "options": [
        "bounce_at_zoom_limits",
        "box_zoom",
        "center",
        "close_popup_on_click",
        "double_click_zoom",
        "dragging",
        "fullscreen",
        "inertia",
        "inertia_deceleration",
        "inertia_max_speed",
        "interpolation",
        "keyboard",
        "keyboard_pan_offset",
        "keyboard_zoom_offset",
        "max_zoom",
        "min_zoom",
        "prefer_canvas",
        "scroll_wheel_zoom",
        "tap",
        "tap_tolerance",
        "touch_zoom",
        "world_copy_jump",
        "zoom",
        "zoom_animation_threshold",
        "zoom_delta",
        "zoom_snap",
        "zoom_start"
       ],
       "prefer_canvas": false,
       "right": 2862.994237175624,
       "south": 42.61779143282346,
       "style": "IPY_MODEL_4255fad49204413bbd2e43893b4e3bf3",
       "top": 1111,
       "west": -14.326678373236156,
       "window_url": "http://[fdcf::3]:8888/notebooks/basic-usage.ipynb",
       "zoom": 5
      }
     },
     "0d77e64b087647d9b381b10f4caee5f9": {
      "model_module": "@jupyter-widgets/base",
      "model_module_version": "1.2.0",
      "model_name": "LayoutModel",
      "state": {}
     },
     "0e0db5e1819244a6ba61148eb8b96863": {
      "model_module": "jupyter-leaflet",
      "model_module_version": "^0.15.0",
      "model_name": "LeafletMapStyleModel",
      "state": {
       "_model_module_version": "^0.15.0",
       "cursor": "move"
      }
     },
     "2c476d55b2c9475d9da8cf605d49336f": {
      "model_module": "jupyter-leaflet",
      "model_module_version": "^0.15.0",
      "model_name": "LeafletGeoJSONModel",
      "state": {
       "_model_module_version": "^0.15.0",
       "_view_module_version": "^0.15.0",
       "data": {
        "geometry": {
         "coordinates": [
          [
           [
            24.4343,
            60.1269
           ],
           [
            24.4478,
            60.1272
           ],
           [
            24.4384,
            60.1225
           ],
           [
            24.4343,
            60.1269
           ]
          ]
         ],
         "type": "Polygon"
        },
        "properties": {},
        "type": "Feature"
       }
      }
     },
     "305640a031094c2aa6b72d014a169bdb": {
      "model_module": "jupyter-leaflet",
      "model_module_version": "^0.15.0",
      "model_name": "LeafletMapStyleModel",
      "state": {
       "_model_module_version": "^0.15.0",
       "cursor": "move"
      }
     },
     "30da4e4ee44a4d8eb4b28fe9468d220a": {
      "model_module": "jupyter-leaflet",
      "model_module_version": "^0.15.0",
      "model_name": "LeafletMapStyleModel",
      "state": {
       "_model_module_version": "^0.15.0"
      }
     },
     "311f58e8f65e4c83abe8f67cf0af8d8e": {
      "model_module": "jupyter-leaflet",
      "model_module_version": "^0.15.0",
      "model_name": "LeafletMapStyleModel",
      "state": {
       "_model_module_version": "^0.15.0",
       "cursor": "move"
      }
     },
     "3183fd32caa04a69b254b0b92d28247e": {
      "model_module": "jupyter-leaflet",
      "model_module_version": "^0.15.0",
      "model_name": "LeafletMapStyleModel",
      "state": {
       "_model_module_version": "^0.15.0"
      }
     },
     "345a8fba119d4a909cde30e2999d9f9f": {
      "model_module": "jupyter-leaflet",
      "model_module_version": "^0.15.0",
      "model_name": "LeafletMapStyleModel",
      "state": {
       "_model_module_version": "^0.15.0"
      }
     },
     "3af11ef019a74d40898bcb610600abc7": {
      "model_module": "@jupyter-widgets/base",
      "model_module_version": "1.2.0",
      "model_name": "LayoutModel",
      "state": {}
     },
     "3b6ea09ee56e470d978105053b28ccd6": {
      "model_module": "jupyter-leaflet",
      "model_module_version": "^0.15.0",
      "model_name": "LeafletMapStyleModel",
      "state": {
       "_model_module_version": "^0.15.0"
      }
     },
     "3f6e8286783341c78b586cd3675259e4": {
      "model_module": "jupyter-leaflet",
      "model_module_version": "^0.15.0",
      "model_name": "LeafletGeoJSONModel",
      "state": {
       "_model_module_version": "^0.15.0",
       "_view_module_version": "^0.15.0",
       "data": {
        "geometry": {
         "coordinates": [
          [
           [
            24.4343,
            60.1269
           ],
           [
            24.4478,
            60.1272
           ],
           [
            24.4384,
            60.1225
           ],
           [
            24.4343,
            60.1269
           ]
          ]
         ],
         "type": "Polygon"
        },
        "properties": {},
        "type": "Feature"
       }
      }
     },
     "4255fad49204413bbd2e43893b4e3bf3": {
      "model_module": "jupyter-leaflet",
      "model_module_version": "^0.15.0",
      "model_name": "LeafletMapStyleModel",
      "state": {
       "_model_module_version": "^0.15.0"
      }
     },
     "47bfeb1a403f49f6ba011d687a99dd25": {
      "model_module": "jupyter-leaflet",
      "model_module_version": "^0.15.0",
      "model_name": "LeafletMapStyleModel",
      "state": {
       "_model_module_version": "^0.15.0"
      }
     },
     "47ed54dff11f49b7ab5839b626d02e74": {
      "model_module": "jupyter-leaflet",
      "model_module_version": "^0.15.0",
      "model_name": "LeafletTileLayerModel",
      "state": {
       "_model_module_version": "^0.15.0",
       "_view_module_version": "^0.15.0",
       "attribution": "&copy; <a href=\"https://www.openstreetmap.org/copyright\">OpenStreetMap</a> contributors",
       "base": true,
       "max_native_zoom": 18,
       "max_zoom": 19,
       "min_native_zoom": 0,
       "min_zoom": 1,
       "name": "OpenStreetMap.Mapnik",
       "options": [
        "attribution",
        "detect_retina",
        "max_native_zoom",
        "max_zoom",
        "min_native_zoom",
        "min_zoom",
        "no_wrap",
        "tile_size",
        "tms"
       ],
       "url": "https://a.tile.openstreetmap.org/{z}/{x}/{y}.png"
      }
     },
     "49d374b440f64175ada3eaade4bd8103": {
      "model_module": "jupyter-leaflet",
      "model_module_version": "^0.15.0",
      "model_name": "LeafletGeoJSONModel",
      "state": {
       "_model_module_version": "^0.15.0",
       "_view_module_version": "^0.15.0",
       "data": {
        "geometry": {
         "coordinates": [
          [
           [
            24.4343,
            60.1269
           ],
           [
            24.4478,
            60.1272
           ],
           [
            24.4384,
            60.1225
           ],
           [
            24.4343,
            60.1269
           ]
          ]
         ],
         "type": "Polygon"
        },
        "properties": {},
        "type": "Feature"
       }
      }
     },
     "5678295c490a416a97da29ec1474fb4c": {
      "model_module": "jupyter-leaflet",
      "model_module_version": "^0.15.0",
      "model_name": "LeafletGeoJSONModel",
      "state": {
       "_model_module_version": "^0.15.0",
       "_view_module_version": "^0.15.0",
       "data": {
        "geometry": {
         "coordinates": [
          [
           [
            24.4343,
            60.1269
           ],
           [
            24.4478,
            60.1272
           ],
           [
            24.4384,
            60.1225
           ],
           [
            24.4343,
            60.1269
           ]
          ]
         ],
         "type": "Polygon"
        },
        "properties": {},
        "type": "Feature"
       }
      }
     },
     "5733aae919a04e908ce1ff7f5c77c9b5": {
      "model_module": "@jupyter-widgets/base",
      "model_module_version": "1.2.0",
      "model_name": "LayoutModel",
      "state": {}
     },
     "5842855121d24d29afc263d968906d75": {
      "model_module": "jupyter-leaflet",
      "model_module_version": "^0.15.0",
      "model_name": "LeafletZoomControlModel",
      "state": {
       "_model_module_version": "^0.15.0",
       "_view_module_version": "^0.15.0",
       "options": [
        "position",
        "zoom_in_text",
        "zoom_in_title",
        "zoom_out_text",
        "zoom_out_title"
       ]
      }
     },
     "58fd4db0acd54b5e99f6be620e13e4da": {
      "model_module": "jupyter-leaflet",
      "model_module_version": "^0.15.0",
      "model_name": "LeafletTileLayerModel",
      "state": {
       "_model_module_version": "^0.15.0",
       "_view_module_version": "^0.15.0",
       "attribution": "&copy; <a href=\"https://www.openstreetmap.org/copyright\">OpenStreetMap</a> contributors",
       "base": true,
       "max_native_zoom": 18,
       "max_zoom": 19,
       "min_native_zoom": 0,
       "min_zoom": 1,
       "name": "OpenStreetMap.Mapnik",
       "options": [
        "attribution",
        "detect_retina",
        "max_native_zoom",
        "max_zoom",
        "min_native_zoom",
        "min_zoom",
        "no_wrap",
        "tile_size",
        "tms"
       ],
       "url": "https://a.tile.openstreetmap.org/{z}/{x}/{y}.png"
      }
     },
     "5a831bf2cf45461e9251c01e6260139f": {
      "model_module": "@jupyter-widgets/base",
      "model_module_version": "1.2.0",
      "model_name": "LayoutModel",
      "state": {}
     },
     "5bd421a244a14a9f817c4bc513b1ba63": {
      "model_module": "jupyter-leaflet",
      "model_module_version": "^0.15.0",
      "model_name": "LeafletMapStyleModel",
      "state": {
       "_model_module_version": "^0.15.0",
       "cursor": "move"
      }
     },
     "61a4de3e1c084fcea8f1888b248a41aa": {
      "model_module": "jupyter-leaflet",
      "model_module_version": "^0.15.0",
      "model_name": "LeafletAttributionControlModel",
      "state": {
       "_model_module_version": "^0.15.0",
       "_view_module_version": "^0.15.0",
       "options": [
        "position",
        "prefix"
       ],
       "position": "bottomright",
       "prefix": "ipyleaflet"
      }
     },
     "62e078cb5b854148a7f467f17453e09a": {
      "model_module": "jupyter-leaflet",
      "model_module_version": "^0.15.0",
      "model_name": "LeafletTileLayerModel",
      "state": {
       "_model_module_version": "^0.15.0",
       "_view_module_version": "^0.15.0",
       "attribution": "&copy; <a href=\"https://www.openstreetmap.org/copyright\">OpenStreetMap</a> contributors",
       "base": true,
       "max_native_zoom": 18,
       "max_zoom": 19,
       "min_native_zoom": 0,
       "min_zoom": 1,
       "name": "OpenStreetMap.Mapnik",
       "options": [
        "attribution",
        "detect_retina",
        "max_native_zoom",
        "max_zoom",
        "min_native_zoom",
        "min_zoom",
        "no_wrap",
        "tile_size",
        "tms"
       ],
       "url": "https://a.tile.openstreetmap.org/{z}/{x}/{y}.png"
      }
     },
     "665996599331478895daf02e72f3aa5e": {
      "model_module": "jupyter-leaflet",
      "model_module_version": "^0.15.0",
      "model_name": "LeafletAttributionControlModel",
      "state": {
       "_model_module_version": "^0.15.0",
       "_view_module_version": "^0.15.0",
       "options": [
        "position",
        "prefix"
       ],
       "position": "bottomright",
       "prefix": "ipyleaflet"
      }
     },
     "6c9d8e1bb49a4ad9ae9e099a1d9330f3": {
      "model_module": "jupyter-leaflet",
      "model_module_version": "^0.15.0",
      "model_name": "LeafletMapModel",
      "state": {
       "_model_module_version": "^0.15.0",
       "_view_module_version": "^0.15.0",
       "bottom": 9721077,
       "center": [
        60.12485,
        24.44105
       ],
       "controls": [
        "IPY_MODEL_5842855121d24d29afc263d968906d75",
        "IPY_MODEL_7c2e2fea176e425a97b64f7504a23ddd"
       ],
       "default_style": "IPY_MODEL_ba3f26bf27fc47718ef30ddf97253254",
       "dragging_style": "IPY_MODEL_5bd421a244a14a9f817c4bc513b1ba63",
       "east": 24.44629669189453,
       "fullscreen": false,
       "interpolation": "bilinear",
       "layers": [
        "IPY_MODEL_47ed54dff11f49b7ab5839b626d02e74",
        "IPY_MODEL_e337b56b0b5c469dafeb00a94b6f4bd4",
        "IPY_MODEL_9f46d0d2200a4abe8188a670f28147e1"
       ],
       "layout": "IPY_MODEL_99c9160c085f4f30b76c20ad0f7686fe",
       "left": 19054798,
       "modisdate": "2021-12-20",
       "north": 60.12592002147673,
       "options": [
        "bounce_at_zoom_limits",
        "box_zoom",
        "center",
        "close_popup_on_click",
        "double_click_zoom",
        "dragging",
        "fullscreen",
        "inertia",
        "inertia_deceleration",
        "inertia_max_speed",
        "interpolation",
        "keyboard",
        "keyboard_pan_offset",
        "keyboard_zoom_offset",
        "max_zoom",
        "min_zoom",
        "prefer_canvas",
        "scroll_wheel_zoom",
        "tap",
        "tap_tolerance",
        "touch_zoom",
        "world_copy_jump",
        "zoom",
        "zoom_animation_threshold",
        "zoom_delta",
        "zoom_snap",
        "zoom_start"
       ],
       "prefer_canvas": false,
       "right": 19055776,
       "south": 60.1237823580159,
       "style": "IPY_MODEL_76ee4ee61fee48209e12b99d3ca805b1",
       "top": 9720677,
       "west": 24.435803890228275,
       "window_url": "http://[fdcf::3]:8888/notebooks/basic-usage.ipynb#",
       "zoom": 17
      }
     },
     "6fbece728df843e696df3b8c89b0d8f3": {
      "model_module": "jupyter-leaflet",
      "model_module_version": "^0.15.0",
      "model_name": "LeafletMapStyleModel",
      "state": {
       "_model_module_version": "^0.15.0"
      }
     },
     "721c5af694ef4da796fe68ba6dcfe92d": {
      "model_module": "jupyter-leaflet",
      "model_module_version": "^0.15.0",
      "model_name": "LeafletMapModel",
      "state": {
       "_model_module_version": "^0.15.0",
       "_view_module_version": "^0.15.0",
       "bottom": 9693,
       "center": [
        60.12485,
        24.44105
       ],
       "controls": [
        "IPY_MODEL_01956be68bbb40f6a3d04edb9410fffa",
        "IPY_MODEL_9b35e7b1d4f5419fbeb5c75c7f70632b"
       ],
       "default_style": "IPY_MODEL_04017434839f493e9f629d7ca7efaec4",
       "dragging_style": "IPY_MODEL_0e0db5e1819244a6ba61148eb8b96863",
       "east": 29.816894531250004,
       "fullscreen": false,
       "interpolation": "bilinear",
       "layers": [
        "IPY_MODEL_af8dd861e2bd41499ebb6b491c4adee6",
        "IPY_MODEL_dc048b63e21b460ba2336c6b054667a0"
       ],
       "layout": "IPY_MODEL_9335fa880c2340d690a31d21c91ce2cc",
       "left": 18120,
       "modisdate": "2021-12-20",
       "north": 61.201506036385375,
       "options": [
        "bounce_at_zoom_limits",
        "box_zoom",
        "center",
        "close_popup_on_click",
        "double_click_zoom",
        "dragging",
        "fullscreen",
        "inertia",
        "inertia_deceleration",
        "inertia_max_speed",
        "interpolation",
        "keyboard",
        "keyboard_pan_offset",
        "keyboard_zoom_offset",
        "max_zoom",
        "min_zoom",
        "prefer_canvas",
        "scroll_wheel_zoom",
        "tap",
        "tap_tolerance",
        "touch_zoom",
        "world_copy_jump",
        "zoom",
        "zoom_animation_threshold",
        "zoom_delta",
        "zoom_snap",
        "zoom_start"
       ],
       "prefer_canvas": false,
       "right": 19098,
       "south": 59.012284446745994,
       "style": "IPY_MODEL_04017434839f493e9f629d7ca7efaec4",
       "top": 9293,
       "west": 19.072265625000004,
       "window_url": "http://[fdcf::3]:8888/notebooks/basic-usage.ipynb",
       "zoom": 7
      }
     },
     "76ee4ee61fee48209e12b99d3ca805b1": {
      "model_module": "jupyter-leaflet",
      "model_module_version": "^0.15.0",
      "model_name": "LeafletMapStyleModel",
      "state": {
       "_model_module_version": "^0.15.0"
      }
     },
     "7c2e2fea176e425a97b64f7504a23ddd": {
      "model_module": "jupyter-leaflet",
      "model_module_version": "^0.15.0",
      "model_name": "LeafletAttributionControlModel",
      "state": {
       "_model_module_version": "^0.15.0",
       "_view_module_version": "^0.15.0",
       "options": [
        "position",
        "prefix"
       ],
       "position": "bottomright",
       "prefix": "ipyleaflet"
      }
     },
     "7c5aa30a5ce04da59cba428cf039e303": {
      "model_module": "jupyter-leaflet",
      "model_module_version": "^0.15.0",
      "model_name": "LeafletTileLayerModel",
      "state": {
       "_model_module_version": "^0.15.0",
       "_view_module_version": "^0.15.0",
       "attribution": "&copy; <a href=\"https://www.openstreetmap.org/copyright\">OpenStreetMap</a> contributors",
       "base": true,
       "max_native_zoom": 18,
       "max_zoom": 19,
       "min_native_zoom": 0,
       "min_zoom": 1,
       "name": "OpenStreetMap.Mapnik",
       "options": [
        "attribution",
        "detect_retina",
        "max_native_zoom",
        "max_zoom",
        "min_native_zoom",
        "min_zoom",
        "no_wrap",
        "tile_size",
        "tms"
       ],
       "url": "https://a.tile.openstreetmap.org/{z}/{x}/{y}.png"
      }
     },
     "818e196775184ab1924518900d787e4d": {
      "model_module": "jupyter-leaflet",
      "model_module_version": "^0.15.0",
      "model_name": "LeafletZoomControlModel",
      "state": {
       "_model_module_version": "^0.15.0",
       "_view_module_version": "^0.15.0",
       "options": [
        "position",
        "zoom_in_text",
        "zoom_in_title",
        "zoom_out_text",
        "zoom_out_title"
       ]
      }
     },
     "881b9f4b83d6434695d25be34f5316f3": {
      "model_module": "jupyter-leaflet",
      "model_module_version": "^0.15.0",
      "model_name": "LeafletAttributionControlModel",
      "state": {
       "_model_module_version": "^0.15.0",
       "_view_module_version": "^0.15.0",
       "options": [
        "position",
        "prefix"
       ],
       "position": "bottomright",
       "prefix": "ipyleaflet"
      }
     },
     "8875396766004f988894eb2c18e3e847": {
      "model_module": "jupyter-leaflet",
      "model_module_version": "^0.15.0",
      "model_name": "LeafletZoomControlModel",
      "state": {
       "_model_module_version": "^0.15.0",
       "_view_module_version": "^0.15.0",
       "options": [
        "position",
        "zoom_in_text",
        "zoom_in_title",
        "zoom_out_text",
        "zoom_out_title"
       ]
      }
     },
     "9055f4438852490e8e4fcd8d0746a21c": {
      "model_module": "jupyter-leaflet",
      "model_module_version": "^0.15.0",
      "model_name": "LeafletMapStyleModel",
      "state": {
       "_model_module_version": "^0.15.0",
       "cursor": "move"
      }
     },
     "91d78e33010a4abc994e193d86ef54ad": {
      "model_module": "jupyter-leaflet",
      "model_module_version": "^0.15.0",
      "model_name": "LeafletMapStyleModel",
      "state": {
       "_model_module_version": "^0.15.0"
      }
     },
     "9335fa880c2340d690a31d21c91ce2cc": {
      "model_module": "@jupyter-widgets/base",
      "model_module_version": "1.2.0",
      "model_name": "LayoutModel",
      "state": {}
     },
     "96a9d876078044008956793af45fb409": {
      "model_module": "jupyter-leaflet",
      "model_module_version": "^0.15.0",
      "model_name": "LeafletMapStyleModel",
      "state": {
       "_model_module_version": "^0.15.0",
       "cursor": "move"
      }
     },
     "99c9160c085f4f30b76c20ad0f7686fe": {
      "model_module": "@jupyter-widgets/base",
      "model_module_version": "1.2.0",
      "model_name": "LayoutModel",
      "state": {}
     },
     "9b35e7b1d4f5419fbeb5c75c7f70632b": {
      "model_module": "jupyter-leaflet",
      "model_module_version": "^0.15.0",
      "model_name": "LeafletAttributionControlModel",
      "state": {
       "_model_module_version": "^0.15.0",
       "_view_module_version": "^0.15.0",
       "options": [
        "position",
        "prefix"
       ],
       "position": "bottomright",
       "prefix": "ipyleaflet"
      }
     },
     "9e962e59619b44e1b8370eb1d7145f45": {
      "model_module": "jupyter-leaflet",
      "model_module_version": "^0.15.0",
      "model_name": "LeafletMapStyleModel",
      "state": {
       "_model_module_version": "^0.15.0"
      }
     },
     "9f46d0d2200a4abe8188a670f28147e1": {
      "model_module": "jupyter-leaflet",
      "model_module_version": "^0.15.0",
      "model_name": "LeafletGeoJSONModel",
      "state": {
       "_model_module_version": "^0.15.0",
       "_view_module_version": "^0.15.0",
       "data": {
        "features": [
         {
          "geometry": {
           "coordinates": [
            24.43912321482639,
            60.12362046388745
           ],
           "type": "Point"
          },
          "id": "0",
          "properties": {},
          "type": "Feature"
         },
         {
          "geometry": {
           "coordinates": [
            24.44200852150751,
            60.12680304443344
           ],
           "type": "Point"
          },
          "id": "1",
          "properties": {},
          "type": "Feature"
         },
         {
          "geometry": {
           "coordinates": [
            24.44217740240297,
            60.12692934383158
           ],
           "type": "Point"
          },
          "id": "2",
          "properties": {},
          "type": "Feature"
         },
         {
          "geometry": {
           "coordinates": [
            24.43623870347072,
            60.12555643694152
           ],
           "type": "Point"
          },
          "id": "3",
          "properties": {},
          "type": "Feature"
         },
         {
          "geometry": {
           "coordinates": [
            24.43619558571012,
            60.12580317085809
           ],
           "type": "Point"
          },
          "id": "4",
          "properties": {},
          "type": "Feature"
         },
         {
          "geometry": {
           "coordinates": [
            24.43615807009025,
            60.125987024367
           ],
           "type": "Point"
          },
          "id": "5",
          "properties": {},
          "type": "Feature"
         },
         {
          "geometry": {
           "coordinates": [
            24.43611814140143,
            60.12616993893089
           ],
           "type": "Point"
          },
          "id": "6",
          "properties": {},
          "type": "Feature"
         },
         {
          "geometry": {
           "coordinates": [
            24.43571224912083,
            60.12624752266594
           ],
           "type": "Point"
          },
          "id": "7",
          "properties": {},
          "type": "Feature"
         },
         {
          "geometry": {
           "coordinates": [
            24.43555380625058,
            60.12620591042104
           ],
           "type": "Point"
          },
          "id": "8",
          "properties": {},
          "type": "Feature"
         },
         {
          "geometry": {
           "coordinates": [
            24.44033242450795,
            60.12657298860195
           ],
           "type": "Point"
          },
          "id": "9",
          "properties": {},
          "type": "Feature"
         },
         {
          "geometry": {
           "coordinates": [
            24.4399852915652,
            60.12663434464496
           ],
           "type": "Point"
          },
          "id": "10",
          "properties": {},
          "type": "Feature"
         },
         {
          "geometry": {
           "coordinates": [
            24.43963231869162,
            60.12668507313798
           ],
           "type": "Point"
          },
          "id": "11",
          "properties": {},
          "type": "Feature"
         },
         {
          "geometry": {
           "coordinates": [
            24.43927545569406,
            60.12672347284073
           ],
           "type": "Point"
          },
          "id": "12",
          "properties": {},
          "type": "Feature"
         },
         {
          "geometry": {
           "coordinates": [
            24.43890602620848,
            60.12674992818724
           ],
           "type": "Point"
          },
          "id": "13",
          "properties": {},
          "type": "Feature"
         },
         {
          "geometry": {
           "coordinates": [
            24.43862387618012,
            60.12675237678445
           ],
           "type": "Point"
          },
          "id": "14",
          "properties": {},
          "type": "Feature"
         },
         {
          "geometry": {
           "coordinates": [
            24.43823969912278,
            60.12674433487624
           ],
           "type": "Point"
          },
          "id": "15",
          "properties": {},
          "type": "Feature"
         },
         {
          "geometry": {
           "coordinates": [
            24.43786950741239,
            60.12671979668566
           ],
           "type": "Point"
          },
          "id": "16",
          "properties": {},
          "type": "Feature"
         },
         {
          "geometry": {
           "coordinates": [
            24.43768752993986,
            60.12669712046304
           ],
           "type": "Point"
          },
          "id": "17",
          "properties": {},
          "type": "Feature"
         },
         {
          "geometry": {
           "coordinates": [
            24.43732925773475,
            60.12663313461762
           ],
           "type": "Point"
          },
          "id": "18",
          "properties": {},
          "type": "Feature"
         },
         {
          "geometry": {
           "coordinates": [
            24.43697434123898,
            60.12655134875058
           ],
           "type": "Point"
          },
          "id": "19",
          "properties": {},
          "type": "Feature"
         },
         {
          "geometry": {
           "coordinates": [
            24.43660911519513,
            60.12646179087405
           ],
           "type": "Point"
          },
          "id": "20",
          "properties": {},
          "type": "Feature"
         },
         {
          "geometry": {
           "coordinates": [
            24.43627222602522,
            60.12637665420783
           ],
           "type": "Point"
          },
          "id": "21",
          "properties": {},
          "type": "Feature"
         },
         {
          "geometry": {
           "coordinates": [
            24.43908481630475,
            60.12370598096459
           ],
           "type": "Point"
          },
          "id": "22",
          "properties": {},
          "type": "Feature"
         },
         {
          "geometry": {
           "coordinates": [
            24.43925249192033,
            60.12371676720446
           ],
           "type": "Point"
          },
          "id": "23",
          "properties": {},
          "type": "Feature"
         },
         {
          "geometry": {
           "coordinates": [
            24.43978587140813,
            60.12365765211315
           ],
           "type": "Point"
          },
          "id": "27",
          "properties": {},
          "type": "Feature"
         },
         {
          "geometry": {
           "coordinates": [
            24.44019582460995,
            60.12368209568215
           ],
           "type": "Point"
          },
          "id": "28",
          "properties": {},
          "type": "Feature"
         },
         {
          "geometry": {
           "coordinates": [
            24.44038429841681,
            60.12367118627327
           ],
           "type": "Point"
          },
          "id": "29",
          "properties": {},
          "type": "Feature"
         },
         {
          "geometry": {
           "coordinates": [
            24.4406675778357,
            60.12650870870446
           ],
           "type": "Point"
          },
          "id": "30",
          "properties": {},
          "type": "Feature"
         },
         {
          "geometry": {
           "coordinates": [
            24.43960700936835,
            60.12364689631033
           ],
           "type": "Point"
          },
          "id": "32",
          "properties": {},
          "type": "Feature"
         },
         {
          "geometry": {
           "coordinates": [
            24.43857734394478,
            60.12358427072669
           ],
           "type": "Point"
          },
          "id": "34",
          "properties": {},
          "type": "Feature"
         },
         {
          "geometry": {
           "coordinates": [
            24.43819846165621,
            60.12355956275668
           ],
           "type": "Point"
          },
          "id": "35",
          "properties": {},
          "type": "Feature"
         },
         {
          "geometry": {
           "coordinates": [
            24.43959582440947,
            60.12323960260791
           ],
           "type": "Point"
          },
          "id": "36",
          "properties": {},
          "type": "Feature"
         },
         {
          "geometry": {
           "coordinates": [
            24.4399274,
            60.12540300000001
           ],
           "type": "Point"
          },
          "id": "0",
          "properties": {},
          "type": "Feature"
         },
         {
          "geometry": {
           "coordinates": [
            24.4395414,
            60.1247349
           ],
           "type": "Point"
          },
          "id": "1",
          "properties": {},
          "type": "Feature"
         },
         {
          "geometry": {
           "coordinates": [
            24.4361400856799,
            60.12607503225124
           ],
           "type": "Point"
          },
          "id": "16",
          "properties": {},
          "type": "Feature"
         },
         {
          "geometry": {
           "coordinates": [
            24.44116934391555,
            60.12516099525811
           ],
           "type": "Point"
          },
          "id": "17",
          "properties": {},
          "type": "Feature"
         },
         {
          "geometry": {
           "coordinates": [
            24.44132000675012,
            60.12542347520943
           ],
           "type": "Point"
          },
          "id": "18",
          "properties": {},
          "type": "Feature"
         },
         {
          "geometry": {
           "coordinates": [
            24.44131999979075,
            60.12560656473607
           ],
           "type": "Point"
          },
          "id": "19",
          "properties": {},
          "type": "Feature"
         },
         {
          "geometry": {
           "coordinates": [
            24.4417121442784,
            60.12674358956602
           ],
           "type": "Point"
          },
          "id": "20",
          "properties": {},
          "type": "Feature"
         },
         {
          "geometry": {
           "coordinates": [
            24.44157206999906,
            60.12662689303259
           ],
           "type": "Point"
          },
          "id": "21",
          "properties": {},
          "type": "Feature"
         },
         {
          "geometry": {
           "coordinates": [
            24.44132090958843,
            60.12637264680765
           ],
           "type": "Point"
          },
          "id": "22",
          "properties": {},
          "type": "Feature"
         },
         {
          "geometry": {
           "coordinates": [
            24.44111870049561,
            60.12642213450244
           ],
           "type": "Point"
          },
          "id": "23",
          "properties": {},
          "type": "Feature"
         },
         {
          "geometry": {
           "coordinates": [
            24.44125889105499,
            60.12579939735072
           ],
           "type": "Point"
          },
          "id": "24",
          "properties": {},
          "type": "Feature"
         },
         {
          "geometry": {
           "coordinates": [
            24.44132904912464,
            60.12587424111
           ],
           "type": "Point"
          },
          "id": "25",
          "properties": {},
          "type": "Feature"
         },
         {
          "geometry": {
           "coordinates": [
            24.44135950894106,
            60.12604042564533
           ],
           "type": "Point"
          },
          "id": "26",
          "properties": {},
          "type": "Feature"
         },
         {
          "geometry": {
           "coordinates": [
            24.44144241146635,
            60.1262385094376
           ],
           "type": "Point"
          },
          "id": "27",
          "properties": {},
          "type": "Feature"
         },
         {
          "geometry": {
           "coordinates": [
            24.44123983523189,
            60.12619982133225
           ],
           "type": "Point"
          },
          "id": "28",
          "properties": {},
          "type": "Feature"
         },
         {
          "geometry": {
           "coordinates": [
            24.44116690967521,
            60.12600326396854
           ],
           "type": "Point"
          },
          "id": "29",
          "properties": {},
          "type": "Feature"
         },
         {
          "geometry": {
           "coordinates": [
            24.44114148292372,
            60.12581377067486
           ],
           "type": "Point"
          },
          "id": "30",
          "properties": {},
          "type": "Feature"
         },
         {
          "geometry": {
           "coordinates": [
            24.44113725933848,
            60.12562039810939
           ],
           "type": "Point"
          },
          "id": "31",
          "properties": {},
          "type": "Feature"
         },
         {
          "geometry": {
           "coordinates": [
            24.4411511912758,
            60.12534190121183
           ],
           "type": "Point"
          },
          "id": "32",
          "properties": {},
          "type": "Feature"
         },
         {
          "geometry": {
           "coordinates": [
            24.44144002655262,
            60.12650513546459
           ],
           "type": "Point"
          },
          "id": "35",
          "properties": {},
          "type": "Feature"
         },
         {
          "geometry": {
           "coordinates": [
            24.44090565135765,
            60.12646301289389
           ],
           "type": "Point"
          },
          "id": "36",
          "properties": {},
          "type": "Feature"
         },
         {
          "geometry": {
           "coordinates": [
            24.43909169507439,
            60.1267385382819
           ],
           "type": "Point"
          },
          "id": "42",
          "properties": {},
          "type": "Feature"
         },
         {
          "geometry": {
           "coordinates": [
            24.43858888516662,
            60.12705996362012
           ],
           "type": "Point"
          },
          "id": "43",
          "properties": {},
          "type": "Feature"
         },
         {
          "geometry": {
           "coordinates": [
            24.43804891639649,
            60.12673563073136
           ],
           "type": "Point"
          },
          "id": "44",
          "properties": {},
          "type": "Feature"
         },
         {
          "geometry": {
           "coordinates": [
            24.4392895,
            60.12495010000001
           ],
           "type": "Point"
          },
          "id": "45",
          "properties": {},
          "type": "Feature"
         },
         {
          "geometry": {
           "coordinates": [
            24.4390899,
            60.1249018
           ],
           "type": "Point"
          },
          "id": "46",
          "properties": {},
          "type": "Feature"
         },
         {
          "geometry": {
           "coordinates": [
            24.43875605784509,
            60.12359590456085
           ],
           "type": "Point"
          },
          "id": "15",
          "properties": {},
          "type": "Feature"
         },
         {
          "geometry": {
           "coordinates": [
            24.4389531441018,
            60.12360892338464
           ],
           "type": "Point"
          },
          "id": "16",
          "properties": {},
          "type": "Feature"
         },
         {
          "geometry": {
           "coordinates": [
            24.43955357423633,
            60.12344397600994
           ],
           "type": "Point"
          },
          "id": "17",
          "properties": {},
          "type": "Feature"
         },
         {
          "geometry": {
           "coordinates": [
            24.43957502331757,
            60.12333372049787
           ],
           "type": "Point"
          },
          "id": "18",
          "properties": {},
          "type": "Feature"
         },
         {
          "geometry": {
           "coordinates": [
            24.44184141579812,
            60.12667809197601
           ],
           "type": "Point"
          },
          "id": "20",
          "properties": {},
          "type": "Feature"
         },
         {
          "geometry": {
           "coordinates": [
            24.44298352537347,
            60.12575175894367
           ],
           "type": "Point"
          },
          "id": "23",
          "properties": {},
          "type": "Feature"
         },
         {
          "geometry": {
           "coordinates": [
            24.44135490626547,
            60.12498282699067
           ],
           "type": "Point"
          },
          "id": "24",
          "properties": {},
          "type": "Feature"
         },
         {
          "geometry": {
           "coordinates": [
            24.44134643561213,
            60.12507207795802
           ],
           "type": "Point"
          },
          "id": "25",
          "properties": {},
          "type": "Feature"
         },
         {
          "geometry": {
           "coordinates": [
            24.44133209909916,
            60.12524865601121
           ],
           "type": "Point"
          },
          "id": "26",
          "properties": {},
          "type": "Feature"
         },
         {
          "geometry": {
           "coordinates": [
            24.44132220645061,
            60.12578921998967
           ],
           "type": "Point"
          },
          "id": "29",
          "properties": {},
          "type": "Feature"
         },
         {
          "geometry": {
           "coordinates": [
            24.44133651153152,
            60.1259569744653
           ],
           "type": "Point"
          },
          "id": "30",
          "properties": {},
          "type": "Feature"
         },
         {
          "geometry": {
           "coordinates": [
            24.44139984852361,
            60.12614712605937
           ],
           "type": "Point"
          },
          "id": "31",
          "properties": {},
          "type": "Feature"
         },
         {
          "geometry": {
           "coordinates": [
            24.44148382200213,
            60.12632710530578
           ],
           "type": "Point"
          },
          "id": "32",
          "properties": {},
          "type": "Feature"
         },
         {
          "geometry": {
           "coordinates": [
            24.44162051309283,
            60.12648373939087
           ],
           "type": "Point"
          },
          "id": "33",
          "properties": {},
          "type": "Feature"
         },
         {
          "geometry": {
           "coordinates": [
            24.43433464833849,
            60.12659584196675
           ],
           "type": "Point"
          },
          "id": "35",
          "properties": {},
          "type": "Feature"
         },
         {
          "geometry": {
           "coordinates": [
            24.43633441164534,
            60.12501308015783
           ],
           "type": "Point"
          },
          "id": "40",
          "properties": {},
          "type": "Feature"
         },
         {
          "geometry": {
           "coordinates": [
            24.43841713319081,
            60.12357380792499
           ],
           "type": "Point"
          },
          "id": "46",
          "properties": {},
          "type": "Feature"
         },
         {
          "geometry": {
           "coordinates": [
            24.43622689433166,
            60.12564963685429
           ],
           "type": "Point"
          },
          "id": "2",
          "properties": {},
          "type": "Feature"
         },
         {
          "geometry": {
           "coordinates": [
            24.43661595162537,
            60.12565371098329
           ],
           "type": "Point"
          },
          "id": "3",
          "properties": {},
          "type": "Feature"
         },
         {
          "geometry": {
           "coordinates": [
            24.43695912630109,
            60.12566528198402
           ],
           "type": "Point"
          },
          "id": "4",
          "properties": {},
          "type": "Feature"
         },
         {
          "geometry": {
           "coordinates": [
            24.43728648913532,
            60.12567637655584
           ],
           "type": "Point"
          },
          "id": "5",
          "properties": {},
          "type": "Feature"
         },
         {
          "geometry": {
           "coordinates": [
            24.43752622084275,
            60.12567001128208
           ],
           "type": "Point"
          },
          "id": "6",
          "properties": {},
          "type": "Feature"
         },
         {
          "geometry": {
           "coordinates": [
            24.4363019918695,
            60.12518011084671
           ],
           "type": "Point"
          },
          "id": "7",
          "properties": {},
          "type": "Feature"
         },
         {
          "geometry": {
           "coordinates": [
            24.43608854186108,
            60.12633830075944
           ],
           "type": "Point"
          },
          "id": "10",
          "properties": {},
          "type": "Feature"
         },
         {
          "geometry": {
           "coordinates": [
            24.43620910677192,
            60.12573732341778
           ],
           "type": "Point"
          },
          "id": "13",
          "properties": {},
          "type": "Feature"
         },
         {
          "geometry": {
           "coordinates": [
            24.43627055727833,
            60.12535975659971
           ],
           "type": "Point"
          },
          "id": "15",
          "properties": {},
          "type": "Feature"
         },
         {
          "geometry": {
           "coordinates": [
            24.43742203526977,
            60.12352049311088
           ],
           "type": "Point"
          },
          "id": "18",
          "properties": {},
          "type": "Feature"
         },
         {
          "geometry": {
           "coordinates": [
            24.43868406905089,
            60.12695699003719
           ],
           "type": "Point"
          },
          "id": "26",
          "properties": {},
          "type": "Feature"
         },
         {
          "geometry": {
           "coordinates": [
            24.44282106863447,
            60.12488280250042
           ],
           "type": "Point"
          },
          "id": "27",
          "properties": {},
          "type": "Feature"
         },
         {
          "geometry": {
           "coordinates": [
            24.44280886735867,
            60.12507629214916
           ],
           "type": "Point"
          },
          "id": "28",
          "properties": {},
          "type": "Feature"
         },
         {
          "geometry": {
           "coordinates": [
            24.44279673399432,
            60.12527136981701
           ],
           "type": "Point"
          },
          "id": "29",
          "properties": {},
          "type": "Feature"
         },
         {
          "geometry": {
           "coordinates": [
            24.44278373613735,
            60.12544938218052
           ],
           "type": "Point"
          },
          "id": "30",
          "properties": {},
          "type": "Feature"
         },
         {
          "geometry": {
           "coordinates": [
            24.44277405598309,
            60.12562005653243
           ],
           "type": "Point"
          },
          "id": "31",
          "properties": {},
          "type": "Feature"
         },
         {
          "geometry": {
           "coordinates": [
            24.44333939927114,
            60.12576486979493
           ],
           "type": "Point"
          },
          "id": "33",
          "properties": {},
          "type": "Feature"
         },
         {
          "geometry": {
           "coordinates": [
            24.44351620121701,
            60.12576924602941
           ],
           "type": "Point"
          },
          "id": "34",
          "properties": {},
          "type": "Feature"
         },
         {
          "geometry": {
           "coordinates": [
            24.44391465424284,
            60.12577898787418
           ],
           "type": "Point"
          },
          "id": "35",
          "properties": {},
          "type": "Feature"
         },
         {
          "geometry": {
           "coordinates": [
            24.44431530410665,
            60.12578726118099
           ],
           "type": "Point"
          },
          "id": "36",
          "properties": {},
          "type": "Feature"
         },
         {
          "geometry": {
           "coordinates": [
            24.44480447512067,
            60.12598488602637
           ],
           "type": "Point"
          },
          "id": "37",
          "properties": {},
          "type": "Feature"
         },
         {
          "geometry": {
           "coordinates": [
            24.44440182255669,
            60.12588960512612
           ],
           "type": "Point"
          },
          "id": "38",
          "properties": {},
          "type": "Feature"
         },
         {
          "geometry": {
           "coordinates": [
            24.4444945618879,
            60.12578804589064
           ],
           "type": "Point"
          },
          "id": "39",
          "properties": {},
          "type": "Feature"
         },
         {
          "geometry": {
           "coordinates": [
            24.44488189190352,
            60.1257951651608
           ],
           "type": "Point"
          },
          "id": "40",
          "properties": {},
          "type": "Feature"
         },
         {
          "geometry": {
           "coordinates": [
            24.44496204290542,
            60.12593341864248
           ],
           "type": "Point"
          },
          "id": "41",
          "properties": {},
          "type": "Feature"
         },
         {
          "geometry": {
           "coordinates": [
            24.44159669044521,
            60.12646102812457
           ],
           "type": "Point"
          },
          "id": "42",
          "properties": {},
          "type": "Feature"
         },
         {
          "geometry": {
           "coordinates": [
            24.44176331649072,
            60.12661487490202
           ],
           "type": "Point"
          },
          "id": "43",
          "properties": {},
          "type": "Feature"
         },
         {
          "geometry": {
           "coordinates": [
            24.44232336389963,
            60.12706296799657
           ],
           "type": "Point"
          },
          "id": "10",
          "properties": {},
          "type": "Feature"
         },
         {
          "geometry": {
           "coordinates": [
            24.44270096969363,
            60.12730011706782
           ],
           "type": "Point"
          },
          "id": "11",
          "properties": {},
          "type": "Feature"
         },
         {
          "geometry": {
           "coordinates": [
            24.44279112126588,
            60.12536062581601
           ],
           "type": "Point"
          },
          "id": "12",
          "properties": {},
          "type": "Feature"
         },
         {
          "geometry": {
           "coordinates": [
            24.44280247204213,
            60.1251785103678
           ],
           "type": "Point"
          },
          "id": "13",
          "properties": {},
          "type": "Feature"
         },
         {
          "geometry": {
           "coordinates": [
            24.43953545484743,
            60.12354368922087
           ],
           "type": "Point"
          },
          "id": "16",
          "properties": {},
          "type": "Feature"
         },
         {
          "geometry": {
           "coordinates": [
            24.44115089870973,
            60.12590817568433
           ],
           "type": "Point"
          },
          "id": "28",
          "properties": {},
          "type": "Feature"
         },
         {
          "geometry": {
           "coordinates": [
            24.43945401232629,
            60.12670566128909
           ],
           "type": "Point"
          },
          "id": "31",
          "properties": {},
          "type": "Feature"
         },
         {
          "geometry": {
           "coordinates": [
            24.43980983187133,
            60.12666068477239
           ],
           "type": "Point"
          },
          "id": "32",
          "properties": {},
          "type": "Feature"
         },
         {
          "geometry": {
           "coordinates": [
            24.44016137097654,
            60.12660571641287
           ],
           "type": "Point"
          },
          "id": "33",
          "properties": {},
          "type": "Feature"
         },
         {
          "geometry": {
           "coordinates": [
            24.44114004671908,
            60.12552557566957
           ],
           "type": "Point"
          },
          "id": "37",
          "properties": {},
          "type": "Feature"
         },
         {
          "geometry": {
           "coordinates": [
            24.44114133409704,
            60.12571886519687
           ],
           "type": "Point"
          },
          "id": "38",
          "properties": {},
          "type": "Feature"
         },
         {
          "geometry": {
           "coordinates": [
            24.44152333493205,
            60.12409611146197
           ],
           "type": "Point"
          },
          "id": "7",
          "properties": {},
          "type": "Feature"
         },
         {
          "geometry": {
           "coordinates": [
            24.4415022486619,
            60.12419367766931
           ],
           "type": "Point"
          },
          "id": "8",
          "properties": {},
          "type": "Feature"
         },
         {
          "geometry": {
           "coordinates": [
            24.44133003648473,
            60.12432580819679
           ],
           "type": "Point"
          },
          "id": "9",
          "properties": {},
          "type": "Feature"
         },
         {
          "geometry": {
           "coordinates": [
            24.43951495854995,
            60.1236228671691
           ],
           "type": "Point"
          },
          "id": "10",
          "properties": {},
          "type": "Feature"
         },
         {
          "geometry": {
           "coordinates": [
            24.44457977741342,
            60.12596410846685
           ],
           "type": "Point"
          },
          "id": "13",
          "properties": {},
          "type": "Feature"
         },
         {
          "geometry": {
           "coordinates": [
            24.44280306619612,
            60.12570684819679
           ],
           "type": "Point"
          },
          "id": "18",
          "properties": {},
          "type": "Feature"
         },
         {
          "geometry": {
           "coordinates": [
            24.44277590270631,
            60.12553483605664
           ],
           "type": "Point"
          },
          "id": "23",
          "properties": {},
          "type": "Feature"
         },
         {
          "geometry": {
           "coordinates": [
            24.44281547423919,
            60.12497309065481
           ],
           "type": "Point"
          },
          "id": "26",
          "properties": {},
          "type": "Feature"
         },
         {
          "geometry": {
           "coordinates": [
            24.44316935570171,
            60.12576048509298
           ],
           "type": "Point"
          },
          "id": "27",
          "properties": {},
          "type": "Feature"
         },
         {
          "geometry": {
           "coordinates": [
            24.44371490268431,
            60.12577412600029
           ],
           "type": "Point"
          },
          "id": "36",
          "properties": {},
          "type": "Feature"
         },
         {
          "geometry": {
           "coordinates": [
            24.44133852047696,
            60.12515999557692
           ],
           "type": "Point"
          },
          "id": "44",
          "properties": {},
          "type": "Feature"
         },
         {
          "geometry": {
           "coordinates": [
            24.44132582390422,
            60.12533644017445
           ],
           "type": "Point"
          },
          "id": "45",
          "properties": {},
          "type": "Feature"
         },
         {
          "geometry": {
           "coordinates": [
            24.44132003267076,
            60.12551284800266
           ],
           "type": "Point"
          },
          "id": "46",
          "properties": {},
          "type": "Feature"
         },
         {
          "geometry": {
           "coordinates": [
            24.44132409517085,
            60.125696928267
           ],
           "type": "Point"
          },
          "id": "47",
          "properties": {},
          "type": "Feature"
         },
         {
          "geometry": {
           "coordinates": [
            24.43617660779011,
            60.12589598839674
           ],
           "type": "Point"
          },
          "id": "1",
          "properties": {},
          "type": "Feature"
         },
         {
          "geometry": {
           "coordinates": [
            24.43642395071433,
            60.12564722248126
           ],
           "type": "Point"
          },
          "id": "2",
          "properties": {},
          "type": "Feature"
         },
         {
          "geometry": {
           "coordinates": [
            24.4394531,
            60.12494659999999
           ],
           "type": "Point"
          },
          "id": "23",
          "properties": {},
          "type": "Feature"
         },
         {
          "geometry": {
           "coordinates": [
            24.44037988742351,
            60.12369305413851
           ],
           "type": "Point"
          },
          "id": "27",
          "properties": {},
          "type": "Feature"
         },
         {
          "geometry": {
           "coordinates": [
            24.44054762887998,
            60.1237028839831
           ],
           "type": "Point"
          },
          "id": "29",
          "properties": {},
          "type": "Feature"
         },
         {
          "geometry": {
           "coordinates": [
            24.44128813662804,
            60.12449734204763
           ],
           "type": "Point"
          },
          "id": "31",
          "properties": {},
          "type": "Feature"
         },
         {
          "geometry": {
           "coordinates": [
            24.44126696780329,
            60.12458484724139
           ],
           "type": "Point"
          },
          "id": "32",
          "properties": {},
          "type": "Feature"
         },
         {
          "geometry": {
           "coordinates": [
            24.44122103770725,
            60.12480162566749
           ],
           "type": "Point"
          },
          "id": "33",
          "properties": {},
          "type": "Feature"
         },
         {
          "geometry": {
           "coordinates": [
            24.44119133594401,
            60.12498103109399
           ],
           "type": "Point"
          },
          "id": "34",
          "properties": {},
          "type": "Feature"
         },
         {
          "geometry": {
           "coordinates": [
            24.43995928767303,
            60.12366796979573
           ],
           "type": "Point"
          },
          "id": "39",
          "properties": {},
          "type": "Feature"
         }
        ],
        "type": "FeatureCollection"
       },
       "point_style": {
        "color": "black",
        "radius": 0.5
       }
      }
     },
     "a08d98f247db4079b4a2d22d8d4f1b2f": {
      "model_module": "jupyter-leaflet",
      "model_module_version": "^0.15.0",
      "model_name": "LeafletMapStyleModel",
      "state": {
       "_model_module_version": "^0.15.0"
      }
     },
     "a585425e64a043e08a66d3010a4b528f": {
      "model_module": "jupyter-leaflet",
      "model_module_version": "^0.15.0",
      "model_name": "LeafletMapModel",
      "state": {
       "_dragging": true,
       "_model_module_version": "^0.15.0",
       "_view_module_version": "^0.15.0",
       "bottom": 2430419,
       "center": [
        60.12485,
        24.44105
       ],
       "controls": [
        "IPY_MODEL_d785a4d4501548ddbc84dbdda4d1b65f",
        "IPY_MODEL_665996599331478895daf02e72f3aa5e"
       ],
       "default_style": "IPY_MODEL_47bfeb1a403f49f6ba011d687a99dd25",
       "dragging_style": "IPY_MODEL_ec5978acac664f408adbf6bba0154f3f",
       "east": 24.462046623229984,
       "fullscreen": false,
       "interpolation": "bilinear",
       "layers": [
        "IPY_MODEL_e6a006abd8904236be29a4882eca1693",
        "IPY_MODEL_bc35555d14da4001acc7f7d15ea77352"
       ],
       "layout": "IPY_MODEL_c5f988125d97436e9f2f70f3107f365b",
       "left": 4763333,
       "modisdate": "2021-12-20",
       "north": 60.129131599820425,
       "options": [
        "bounce_at_zoom_limits",
        "box_zoom",
        "center",
        "close_popup_on_click",
        "double_click_zoom",
        "dragging",
        "fullscreen",
        "inertia",
        "inertia_deceleration",
        "inertia_max_speed",
        "interpolation",
        "keyboard",
        "keyboard_pan_offset",
        "keyboard_zoom_offset",
        "max_zoom",
        "min_zoom",
        "prefer_canvas",
        "scroll_wheel_zoom",
        "tap",
        "tap_tolerance",
        "touch_zoom",
        "world_copy_jump",
        "zoom",
        "zoom_animation_threshold",
        "zoom_delta",
        "zoom_snap",
        "zoom_start"
       ],
       "prefer_canvas": false,
       "right": 4764311,
       "south": 60.12058094735028,
       "style": "IPY_MODEL_47bfeb1a403f49f6ba011d687a99dd25",
       "top": 2430019,
       "west": 24.420075416564945,
       "window_url": "http://[fdcf::3]:8888/notebooks/basic-usage.ipynb#",
       "zoom": 15
      }
     },
     "af8dd861e2bd41499ebb6b491c4adee6": {
      "model_module": "jupyter-leaflet",
      "model_module_version": "^0.15.0",
      "model_name": "LeafletTileLayerModel",
      "state": {
       "_model_module_version": "^0.15.0",
       "_view_module_version": "^0.15.0",
       "attribution": "&copy; <a href=\"https://www.openstreetmap.org/copyright\">OpenStreetMap</a> contributors",
       "base": true,
       "max_native_zoom": 18,
       "max_zoom": 19,
       "min_native_zoom": 0,
       "min_zoom": 1,
       "name": "OpenStreetMap.Mapnik",
       "options": [
        "attribution",
        "detect_retina",
        "max_native_zoom",
        "max_zoom",
        "min_native_zoom",
        "min_zoom",
        "no_wrap",
        "tile_size",
        "tms"
       ],
       "url": "https://a.tile.openstreetmap.org/{z}/{x}/{y}.png"
      }
     },
     "b27eb1feadb94ff98a927c2b735b8d64": {
      "model_module": "jupyter-leaflet",
      "model_module_version": "^0.15.0",
      "model_name": "LeafletZoomControlModel",
      "state": {
       "_model_module_version": "^0.15.0",
       "_view_module_version": "^0.15.0",
       "options": [
        "position",
        "zoom_in_text",
        "zoom_in_title",
        "zoom_out_text",
        "zoom_out_title"
       ]
      }
     },
     "b3afe6cdcd144745bffc0cc0d8462241": {
      "model_module": "jupyter-leaflet",
      "model_module_version": "^0.15.0",
      "model_name": "LeafletAttributionControlModel",
      "state": {
       "_model_module_version": "^0.15.0",
       "_view_module_version": "^0.15.0",
       "options": [
        "position",
        "prefix"
       ],
       "position": "bottomright",
       "prefix": "ipyleaflet"
      }
     },
     "b5bc066704cb454285108a82d296ffa3": {
      "model_module": "jupyter-leaflet",
      "model_module_version": "^0.15.0",
      "model_name": "LeafletAttributionControlModel",
      "state": {
       "_model_module_version": "^0.15.0",
       "_view_module_version": "^0.15.0",
       "options": [
        "position",
        "prefix"
       ],
       "position": "bottomright",
       "prefix": "ipyleaflet"
      }
     },
     "ba3f26bf27fc47718ef30ddf97253254": {
      "model_module": "jupyter-leaflet",
      "model_module_version": "^0.15.0",
      "model_name": "LeafletMapStyleModel",
      "state": {
       "_model_module_version": "^0.15.0"
      }
     },
     "bc35555d14da4001acc7f7d15ea77352": {
      "model_module": "jupyter-leaflet",
      "model_module_version": "^0.15.0",
      "model_name": "LeafletGeoJSONModel",
      "state": {
       "_model_module_version": "^0.15.0",
       "_view_module_version": "^0.15.0",
       "data": {
        "geometry": {
         "coordinates": [
          [
           [
            24.4343,
            60.1269
           ],
           [
            24.4478,
            60.1272
           ],
           [
            24.4384,
            60.1225
           ],
           [
            24.4343,
            60.1269
           ]
          ]
         ],
         "type": "Polygon"
        },
        "properties": {},
        "type": "Feature"
       }
      }
     },
     "beeb0f40d13a418c9fdf80fe9e0dd0ce": {
      "model_module": "jupyter-leaflet",
      "model_module_version": "^0.15.0",
      "model_name": "LeafletMapModel",
      "state": {
       "_dragging": true,
       "_model_module_version": "^0.15.0",
       "_view_module_version": "^0.15.0",
       "bottom": 2430419,
       "center": [
        60.12485,
        24.44105
       ],
       "controls": [
        "IPY_MODEL_b27eb1feadb94ff98a927c2b735b8d64",
        "IPY_MODEL_881b9f4b83d6434695d25be34f5316f3"
       ],
       "default_style": "IPY_MODEL_30da4e4ee44a4d8eb4b28fe9468d220a",
       "dragging_style": "IPY_MODEL_311f58e8f65e4c83abe8f67cf0af8d8e",
       "east": 24.462046623229984,
       "fullscreen": false,
       "interpolation": "bilinear",
       "layers": [
        "IPY_MODEL_7c5aa30a5ce04da59cba428cf039e303",
        "IPY_MODEL_49d374b440f64175ada3eaade4bd8103"
       ],
       "layout": "IPY_MODEL_3af11ef019a74d40898bcb610600abc7",
       "left": 4763333,
       "modisdate": "2021-12-20",
       "north": 60.129131599820425,
       "options": [
        "bounce_at_zoom_limits",
        "box_zoom",
        "center",
        "close_popup_on_click",
        "double_click_zoom",
        "dragging",
        "fullscreen",
        "inertia",
        "inertia_deceleration",
        "inertia_max_speed",
        "interpolation",
        "keyboard",
        "keyboard_pan_offset",
        "keyboard_zoom_offset",
        "max_zoom",
        "min_zoom",
        "prefer_canvas",
        "scroll_wheel_zoom",
        "tap",
        "tap_tolerance",
        "touch_zoom",
        "world_copy_jump",
        "zoom",
        "zoom_animation_threshold",
        "zoom_delta",
        "zoom_snap",
        "zoom_start"
       ],
       "prefer_canvas": false,
       "right": 4764311,
       "south": 60.12058094735028,
       "style": "IPY_MODEL_30da4e4ee44a4d8eb4b28fe9468d220a",
       "top": 2430019,
       "west": 24.420075416564945,
       "window_url": "http://[fdcf::3]:8888/notebooks/basic-usage.ipynb#",
       "zoom": 15
      }
     },
     "c59f07ee55464ebf9474130cdd99b4f3": {
      "model_module": "jupyter-leaflet",
      "model_module_version": "^0.15.0",
      "model_name": "LeafletMapModel",
      "state": {
       "_model_module_version": "^0.15.0",
       "_view_module_version": "^0.15.0",
       "bottom": 9721077,
       "center": [
        60.12485,
        24.44105
       ],
       "controls": [
        "IPY_MODEL_00e2a9ba1e494f40b23d2dbbe8604b36",
        "IPY_MODEL_b3afe6cdcd144745bffc0cc0d8462241"
       ],
       "default_style": "IPY_MODEL_9e962e59619b44e1b8370eb1d7145f45",
       "dragging_style": "IPY_MODEL_305640a031094c2aa6b72d014a169bdb",
       "east": 24.44629669189453,
       "fullscreen": false,
       "interpolation": "bilinear",
       "layers": [
        "IPY_MODEL_62e078cb5b854148a7f467f17453e09a",
        "IPY_MODEL_2c476d55b2c9475d9da8cf605d49336f",
        "IPY_MODEL_f7e96af3089e42ac92cf804d111d59c2"
       ],
       "layout": "IPY_MODEL_5a831bf2cf45461e9251c01e6260139f",
       "left": 19054798,
       "modisdate": "2021-12-20",
       "north": 60.12592002147673,
       "options": [
        "bounce_at_zoom_limits",
        "box_zoom",
        "center",
        "close_popup_on_click",
        "double_click_zoom",
        "dragging",
        "fullscreen",
        "inertia",
        "inertia_deceleration",
        "inertia_max_speed",
        "interpolation",
        "keyboard",
        "keyboard_pan_offset",
        "keyboard_zoom_offset",
        "max_zoom",
        "min_zoom",
        "prefer_canvas",
        "scroll_wheel_zoom",
        "tap",
        "tap_tolerance",
        "touch_zoom",
        "world_copy_jump",
        "zoom",
        "zoom_animation_threshold",
        "zoom_delta",
        "zoom_snap",
        "zoom_start"
       ],
       "prefer_canvas": false,
       "right": 19055776,
       "south": 60.1237823580159,
       "style": "IPY_MODEL_91d78e33010a4abc994e193d86ef54ad",
       "top": 9720677,
       "west": 24.435803890228275,
       "window_url": "http://[fdcf::3]:8888/notebooks/basic-usage.ipynb#",
       "zoom": 17
      }
     },
     "c5f988125d97436e9f2f70f3107f365b": {
      "model_module": "@jupyter-widgets/base",
      "model_module_version": "1.2.0",
      "model_name": "LayoutModel",
      "state": {}
     },
     "d68c0be16be84c9eb394b363d301f885": {
      "model_module": "jupyter-leaflet",
      "model_module_version": "^0.15.0",
      "model_name": "LeafletTileLayerModel",
      "state": {
       "_model_module_version": "^0.15.0",
       "_view_module_version": "^0.15.0",
       "attribution": "&copy; <a href=\"https://www.openstreetmap.org/copyright\">OpenStreetMap</a> contributors",
       "base": true,
       "max_native_zoom": 18,
       "max_zoom": 19,
       "min_native_zoom": 0,
       "min_zoom": 1,
       "name": "OpenStreetMap.Mapnik",
       "options": [
        "attribution",
        "detect_retina",
        "max_native_zoom",
        "max_zoom",
        "min_native_zoom",
        "min_zoom",
        "no_wrap",
        "tile_size",
        "tms"
       ],
       "url": "https://a.tile.openstreetmap.org/{z}/{x}/{y}.png"
      }
     },
     "d7557d72b6134a71b5c9a27b30b0ffa7": {
      "model_module": "jupyter-leaflet",
      "model_module_version": "^0.15.0",
      "model_name": "LeafletMapStyleModel",
      "state": {
       "_model_module_version": "^0.15.0"
      }
     },
     "d785a4d4501548ddbc84dbdda4d1b65f": {
      "model_module": "jupyter-leaflet",
      "model_module_version": "^0.15.0",
      "model_name": "LeafletZoomControlModel",
      "state": {
       "_model_module_version": "^0.15.0",
       "_view_module_version": "^0.15.0",
       "options": [
        "position",
        "zoom_in_text",
        "zoom_in_title",
        "zoom_out_text",
        "zoom_out_title"
       ]
      }
     },
     "dc048b63e21b460ba2336c6b054667a0": {
      "model_module": "jupyter-leaflet",
      "model_module_version": "^0.15.0",
      "model_name": "LeafletGeoJSONModel",
      "state": {
       "_model_module_version": "^0.15.0",
       "_view_module_version": "^0.15.0",
       "data": {
        "geometry": {
         "coordinates": [
          [
           [
            24.4343,
            60.1269
           ],
           [
            24.4478,
            60.1272
           ],
           [
            24.4384,
            60.1225
           ],
           [
            24.4343,
            60.1269
           ]
          ]
         ],
         "type": "Polygon"
        },
        "properties": {},
        "type": "Feature"
       }
      }
     },
     "e337b56b0b5c469dafeb00a94b6f4bd4": {
      "model_module": "jupyter-leaflet",
      "model_module_version": "^0.15.0",
      "model_name": "LeafletGeoJSONModel",
      "state": {
       "_model_module_version": "^0.15.0",
       "_view_module_version": "^0.15.0",
       "data": {
        "geometry": {
         "coordinates": [
          [
           [
            24.4343,
            60.1269
           ],
           [
            24.4478,
            60.1272
           ],
           [
            24.4384,
            60.1225
           ],
           [
            24.4343,
            60.1269
           ]
          ]
         ],
         "type": "Polygon"
        },
        "properties": {},
        "type": "Feature"
       }
      }
     },
     "e6a006abd8904236be29a4882eca1693": {
      "model_module": "jupyter-leaflet",
      "model_module_version": "^0.15.0",
      "model_name": "LeafletTileLayerModel",
      "state": {
       "_model_module_version": "^0.15.0",
       "_view_module_version": "^0.15.0",
       "attribution": "&copy; <a href=\"https://www.openstreetmap.org/copyright\">OpenStreetMap</a> contributors",
       "base": true,
       "max_native_zoom": 18,
       "max_zoom": 19,
       "min_native_zoom": 0,
       "min_zoom": 1,
       "name": "OpenStreetMap.Mapnik",
       "options": [
        "attribution",
        "detect_retina",
        "max_native_zoom",
        "max_zoom",
        "min_native_zoom",
        "min_zoom",
        "no_wrap",
        "tile_size",
        "tms"
       ],
       "url": "https://a.tile.openstreetmap.org/{z}/{x}/{y}.png"
      }
     },
     "ec5978acac664f408adbf6bba0154f3f": {
      "model_module": "jupyter-leaflet",
      "model_module_version": "^0.15.0",
      "model_name": "LeafletMapStyleModel",
      "state": {
       "_model_module_version": "^0.15.0",
       "cursor": "move"
      }
     },
     "ee589a04a62f466d8263efeee5435d7b": {
      "model_module": "jupyter-leaflet",
      "model_module_version": "^0.15.0",
      "model_name": "LeafletMapModel",
      "state": {
       "_dragging": true,
       "_model_module_version": "^0.15.0",
       "_view_module_version": "^0.15.0",
       "bottom": 2430419,
       "center": [
        60.12485,
        24.44105
       ],
       "controls": [
        "IPY_MODEL_818e196775184ab1924518900d787e4d",
        "IPY_MODEL_61a4de3e1c084fcea8f1888b248a41aa"
       ],
       "default_style": "IPY_MODEL_a08d98f247db4079b4a2d22d8d4f1b2f",
       "dragging_style": "IPY_MODEL_9055f4438852490e8e4fcd8d0746a21c",
       "east": 24.462046623229984,
       "fullscreen": false,
       "interpolation": "bilinear",
       "layers": [
        "IPY_MODEL_58fd4db0acd54b5e99f6be620e13e4da",
        "IPY_MODEL_5678295c490a416a97da29ec1474fb4c"
       ],
       "layout": "IPY_MODEL_5733aae919a04e908ce1ff7f5c77c9b5",
       "left": 4763333,
       "modisdate": "2021-12-20",
       "north": 60.129131599820425,
       "options": [
        "bounce_at_zoom_limits",
        "box_zoom",
        "center",
        "close_popup_on_click",
        "double_click_zoom",
        "dragging",
        "fullscreen",
        "inertia",
        "inertia_deceleration",
        "inertia_max_speed",
        "interpolation",
        "keyboard",
        "keyboard_pan_offset",
        "keyboard_zoom_offset",
        "max_zoom",
        "min_zoom",
        "prefer_canvas",
        "scroll_wheel_zoom",
        "tap",
        "tap_tolerance",
        "touch_zoom",
        "world_copy_jump",
        "zoom",
        "zoom_animation_threshold",
        "zoom_delta",
        "zoom_snap",
        "zoom_start"
       ],
       "prefer_canvas": false,
       "right": 4764311,
       "south": 60.12058094735028,
       "style": "IPY_MODEL_a08d98f247db4079b4a2d22d8d4f1b2f",
       "top": 2430019,
       "west": 24.420075416564945,
       "window_url": "http://[fdcf::3]:8888/notebooks/basic-usage.ipynb",
       "zoom": 15
      }
     },
     "f7e96af3089e42ac92cf804d111d59c2": {
      "model_module": "jupyter-leaflet",
      "model_module_version": "^0.15.0",
      "model_name": "LeafletGeoJSONModel",
      "state": {
       "_model_module_version": "^0.15.0",
       "_view_module_version": "^0.15.0",
       "data": {
        "features": [
         {
          "geometry": {
           "coordinates": [
            24.4363702,
            60.12480490000001
           ],
           "type": "Point"
          },
          "id": "0",
          "properties": {},
          "type": "Feature"
         },
         {
          "geometry": {
           "coordinates": [
            24.4364727,
            60.124635100000006
           ],
           "type": "Point"
          },
          "id": "1",
          "properties": {},
          "type": "Feature"
         },
         {
          "geometry": {
           "coordinates": [
            24.436230900000005,
            60.12563400000001
           ],
           "type": "Point"
          },
          "id": "2",
          "properties": {},
          "type": "Feature"
         },
         {
          "geometry": {
           "coordinates": [
            24.43655956238822,
            60.125646423451784
           ],
           "type": "Point"
          },
          "id": "3",
          "properties": {},
          "type": "Feature"
         },
         {
          "geometry": {
           "coordinates": [
            24.43688822280003,
            60.125658861267254
           ],
           "type": "Point"
          },
          "id": "4",
          "properties": {},
          "type": "Feature"
         },
         {
          "geometry": {
           "coordinates": [
            24.4372166103531,
            60.12567289744318
           ],
           "type": "Point"
          },
          "id": "5",
          "properties": {},
          "type": "Feature"
         },
         {
          "geometry": {
           "coordinates": [
            24.4375451,
            60.12568639999999
           ],
           "type": "Point"
          },
          "id": "6",
          "properties": {},
          "type": "Feature"
         },
         {
          "geometry": {
           "coordinates": [
            24.436298300000004,
            60.12521809999997
           ],
           "type": "Point"
          },
          "id": "7",
          "properties": {},
          "type": "Feature"
         },
         {
          "geometry": {
           "coordinates": [
            24.4360824315494,
            60.12516332687459
           ],
           "type": "Point"
          },
          "id": "8",
          "properties": {},
          "type": "Feature"
         },
         {
          "geometry": {
           "coordinates": [
            24.4363272,
            60.12502870000001
           ],
           "type": "Point"
          },
          "id": "9",
          "properties": {},
          "type": "Feature"
         },
         {
          "geometry": {
           "coordinates": [
            24.4360137,
            60.126315099999985
           ],
           "type": "Point"
          },
          "id": "10",
          "properties": {},
          "type": "Feature"
         },
         {
          "geometry": {
           "coordinates": [
            24.43611650649499,
            60.1261338440217
           ],
           "type": "Point"
          },
          "id": "11",
          "properties": {},
          "type": "Feature"
         },
         {
          "geometry": {
           "coordinates": [
            24.436168338397323,
            60.12594488618363
           ],
           "type": "Point"
          },
          "id": "12",
          "properties": {},
          "type": "Feature"
         },
         {
          "geometry": {
           "coordinates": [
            24.436206533838632,
            60.12575508305029
           ],
           "type": "Point"
          },
          "id": "13",
          "properties": {},
          "type": "Feature"
         },
         {
          "geometry": {
           "coordinates": [
            24.436240426258667,
            60.12556509815659
           ],
           "type": "Point"
          },
          "id": "14",
          "properties": {},
          "type": "Feature"
         },
         {
          "geometry": {
           "coordinates": [
            24.436272082180327,
            60.12537499607903
           ],
           "type": "Point"
          },
          "id": "15",
          "properties": {},
          "type": "Feature"
         },
         {
          "geometry": {
           "coordinates": [
            24.436303369100518,
            60.12518487914607
           ],
           "type": "Point"
          },
          "id": "16",
          "properties": {},
          "type": "Feature"
         },
         {
          "geometry": {
           "coordinates": [
            24.436332099275827,
            60.124994661322205
           ],
           "type": "Point"
          },
          "id": "17",
          "properties": {},
          "type": "Feature"
         },
         {
          "geometry": {
           "coordinates": [
            24.4372616,
            60.12376230000001
           ],
           "type": "Point"
          },
          "id": "19",
          "properties": {},
          "type": "Feature"
         },
         {
          "geometry": {
           "coordinates": [
            24.437231956696806,
            60.12391612928753
           ],
           "type": "Point"
          },
          "id": "20",
          "properties": {},
          "type": "Feature"
         },
         {
          "geometry": {
           "coordinates": [
            24.437285470322205,
            60.12406617317154
           ],
           "type": "Point"
          },
          "id": "21",
          "properties": {},
          "type": "Feature"
         },
         {
          "geometry": {
           "coordinates": [
            24.4372654,
            60.124219999999994
           ],
           "type": "Point"
          },
          "id": "22",
          "properties": {},
          "type": "Feature"
         },
         {
          "geometry": {
           "coordinates": [
            24.4382708,
            60.1242075
           ],
           "type": "Point"
          },
          "id": "23",
          "properties": {},
          "type": "Feature"
         },
         {
          "geometry": {
           "coordinates": [
            24.438395397713855,
            60.124054790142644
           ],
           "type": "Point"
          },
          "id": "24",
          "properties": {},
          "type": "Feature"
         },
         {
          "geometry": {
           "coordinates": [
            24.438789400000005,
            60.12408739999998
           ],
           "type": "Point"
          },
          "id": "25",
          "properties": {},
          "type": "Feature"
         },
         {
          "geometry": {
           "coordinates": [
            24.4387833,
            60.12676199999999
           ],
           "type": "Point"
          },
          "id": "26",
          "properties": {},
          "type": "Feature"
         },
         {
          "geometry": {
           "coordinates": [
            24.4386954,
            60.12697049999999
           ],
           "type": "Point"
          },
          "id": "27",
          "properties": {},
          "type": "Feature"
         },
         {
          "geometry": {
           "coordinates": [
            24.4428463,
            60.1249207
           ],
           "type": "Point"
          },
          "id": "28",
          "properties": {},
          "type": "Feature"
         },
         {
          "geometry": {
           "coordinates": [
            24.442834409399826,
            60.12509358159783
           ],
           "type": "Point"
          },
          "id": "29",
          "properties": {},
          "type": "Feature"
         },
         {
          "geometry": {
           "coordinates": [
            24.44282251132506,
            60.12526646306445
           ],
           "type": "Point"
          },
          "id": "30",
          "properties": {},
          "type": "Feature"
         },
         {
          "geometry": {
           "coordinates": [
            24.44281061310225,
            60.12543934452512
           ],
           "type": "Point"
          },
          "id": "31",
          "properties": {},
          "type": "Feature"
         },
         {
          "geometry": {
           "coordinates": [
            24.44279871473139,
            60.125612225979815
           ],
           "type": "Point"
          },
          "id": "32",
          "properties": {},
          "type": "Feature"
         },
         {
          "geometry": {
           "coordinates": [
            24.442918787428336,
            60.12575115589727
           ],
           "type": "Point"
          },
          "id": "33",
          "properties": {},
          "type": "Feature"
         },
         {
          "geometry": {
           "coordinates": [
            24.443264617001137,
            60.125761701074914
           ],
           "type": "Point"
          },
          "id": "34",
          "properties": {},
          "type": "Feature"
         },
         {
          "geometry": {
           "coordinates": [
            24.443611070307877,
            60.12576823093718
           ],
           "type": "Point"
          },
          "id": "35",
          "properties": {},
          "type": "Feature"
         },
         {
          "geometry": {
           "coordinates": [
            24.443957137072193,
            60.125778749194325
           ],
           "type": "Point"
          },
          "id": "36",
          "properties": {},
          "type": "Feature"
         },
         {
          "geometry": {
           "coordinates": [
            24.4443032,
            60.125789299999994
           ],
           "type": "Point"
          },
          "id": "37",
          "properties": {},
          "type": "Feature"
         },
         {
          "geometry": {
           "coordinates": [
            24.4447346,
            60.12598199999999
           ],
           "type": "Point"
          },
          "id": "38",
          "properties": {},
          "type": "Feature"
         },
         {
          "geometry": {
           "coordinates": [
            24.444437480421122,
            60.125888044615195
           ],
           "type": "Point"
          },
          "id": "39",
          "properties": {},
          "type": "Feature"
         },
         {
          "geometry": {
           "coordinates": [
            24.44443014263307,
            60.12579381834416
           ],
           "type": "Point"
          },
          "id": "40",
          "properties": {},
          "type": "Feature"
         },
         {
          "geometry": {
           "coordinates": [
            24.444795645642653,
            60.12580682722265
           ],
           "type": "Point"
          },
          "id": "41",
          "properties": {},
          "type": "Feature"
         },
         {
          "geometry": {
           "coordinates": [
            24.445035794804053,
            60.125901956378215
           ],
           "type": "Point"
          },
          "id": "42",
          "properties": {},
          "type": "Feature"
         },
         {
          "geometry": {
           "coordinates": [
            24.4415877,
            60.1264428
           ],
           "type": "Point"
          },
          "id": "44",
          "properties": {},
          "type": "Feature"
         },
         {
          "geometry": {
           "coordinates": [
            24.44179123742651,
            60.126641268553605
           ],
           "type": "Point"
          },
          "id": "45",
          "properties": {},
          "type": "Feature"
         },
         {
          "geometry": {
           "coordinates": [
            24.441968,
            60.12684610000001
           ],
           "type": "Point"
          },
          "id": "46",
          "properties": {},
          "type": "Feature"
         },
         {
          "geometry": {
           "coordinates": [
            24.4380044,
            60.124462199999996
           ],
           "type": "Point"
          },
          "id": "47",
          "properties": {},
          "type": "Feature"
         },
         {
          "geometry": {
           "coordinates": [
            24.437913997446174,
            60.124628465009806
           ],
           "type": "Point"
          },
          "id": "48",
          "properties": {},
          "type": "Feature"
         },
         {
          "geometry": {
           "coordinates": [
            24.43761344904965,
            60.12463979455295
           ],
           "type": "Point"
          },
          "id": "49",
          "properties": {},
          "type": "Feature"
         },
         {
          "geometry": {
           "coordinates": [
            24.43751193644647,
            60.124779778186074
           ],
           "type": "Point"
          },
          "id": "50",
          "properties": {},
          "type": "Feature"
         },
         {
          "geometry": {
           "coordinates": [
            24.437730674510657,
            60.12483367751707
           ],
           "type": "Point"
          },
          "id": "51",
          "properties": {},
          "type": "Feature"
         },
         {
          "geometry": {
           "coordinates": [
            24.437591274652515,
            60.12495390166136
           ],
           "type": "Point"
          },
          "id": "52",
          "properties": {},
          "type": "Feature"
         },
         {
          "geometry": {
           "coordinates": [
            24.437868450517787,
            60.12502338128905
           ],
           "type": "Point"
          },
          "id": "53",
          "properties": {},
          "type": "Feature"
         },
         {
          "geometry": {
           "coordinates": [
            24.438216504340623,
            60.12499117365105
           ],
           "type": "Point"
          },
          "id": "54",
          "properties": {},
          "type": "Feature"
         },
         {
          "geometry": {
           "coordinates": [
            24.43826252423418,
            60.12483309948072
           ],
           "type": "Point"
          },
          "id": "55",
          "properties": {},
          "type": "Feature"
         },
         {
          "geometry": {
           "coordinates": [
            24.4383062334401,
            60.12465577847115
           ],
           "type": "Point"
          },
          "id": "56",
          "properties": {},
          "type": "Feature"
         },
         {
          "geometry": {
           "coordinates": [
            24.43824606877758,
            60.12452464228138
           ],
           "type": "Point"
          },
          "id": "57",
          "properties": {},
          "type": "Feature"
         },
         {
          "geometry": {
           "coordinates": [
            24.4374945,
            60.1246935
           ],
           "type": "Point"
          },
          "id": "59",
          "properties": {},
          "type": "Feature"
         },
         {
          "geometry": {
           "coordinates": [
            24.437152987249995,
            60.124670746795545
           ],
           "type": "Point"
          },
          "id": "60",
          "properties": {},
          "type": "Feature"
         },
         {
          "geometry": {
           "coordinates": [
            24.436811487373447,
            60.12464794633712
           ],
           "type": "Point"
          },
          "id": "61",
          "properties": {},
          "type": "Feature"
         },
         {
          "geometry": {
           "coordinates": [
            24.43652731759299,
            60.12466352139151
           ],
           "type": "Point"
          },
          "id": "62",
          "properties": {},
          "type": "Feature"
         },
         {
          "geometry": {
           "coordinates": [
            24.43647368549319,
            60.12483333514759
           ],
           "type": "Point"
          },
          "id": "63",
          "properties": {},
          "type": "Feature"
         },
         {
          "geometry": {
           "coordinates": [
            24.436615402154704,
            60.12492944306449
           ],
           "type": "Point"
          },
          "id": "64",
          "properties": {},
          "type": "Feature"
         },
         {
          "geometry": {
           "coordinates": [
            24.436910341339555,
            60.12496880298472
           ],
           "type": "Point"
          },
          "id": "65",
          "properties": {},
          "type": "Feature"
         },
         {
          "geometry": {
           "coordinates": [
            24.43725340058484,
            60.12498476164317
           ],
           "type": "Point"
          },
          "id": "66",
          "properties": {},
          "type": "Feature"
         },
         {
          "geometry": {
           "coordinates": [
            24.43755427869432,
            60.12497495845838
           ],
           "type": "Point"
          },
          "id": "67",
          "properties": {},
          "type": "Feature"
         },
         {
          "geometry": {
           "coordinates": [
            24.437442460659057,
            60.124863436124826
           ],
           "type": "Point"
          },
          "id": "68",
          "properties": {},
          "type": "Feature"
         },
         {
          "geometry": {
           "coordinates": [
            24.4369834,
            60.1244196
           ],
           "type": "Point"
          },
          "id": "70",
          "properties": {},
          "type": "Feature"
         },
         {
          "geometry": {
           "coordinates": [
            24.437334710608376,
            60.12444408910244
           ],
           "type": "Point"
          },
          "id": "71",
          "properties": {},
          "type": "Feature"
         },
         {
          "geometry": {
           "coordinates": [
            24.437685527501866,
            60.124470190790134
           ],
           "type": "Point"
          },
          "id": "72",
          "properties": {},
          "type": "Feature"
         },
         {
          "geometry": {
           "coordinates": [
            24.438038100000004,
            60.12448389999999
           ],
           "type": "Point"
          },
          "id": "73",
          "properties": {},
          "type": "Feature"
         },
         {
          "geometry": {
           "coordinates": [
            24.437658900000002,
            60.12498789999998
           ],
           "type": "Point"
          },
          "id": "74",
          "properties": {},
          "type": "Feature"
         },
         {
          "geometry": {
           "coordinates": [
            24.437629463204168,
            60.12516850758218
           ],
           "type": "Point"
          },
          "id": "75",
          "properties": {},
          "type": "Feature"
         },
         {
          "geometry": {
           "coordinates": [
            24.437600185535725,
            60.12534912177519
           ],
           "type": "Point"
          },
          "id": "76",
          "properties": {},
          "type": "Feature"
         },
         {
          "geometry": {
           "coordinates": [
            24.43757081924697,
            60.1255297323704
           ],
           "type": "Point"
          },
          "id": "77",
          "properties": {},
          "type": "Feature"
         },
         {
          "geometry": {
           "coordinates": [
            24.437541420499677,
            60.125710341387354
           ],
           "type": "Point"
          },
          "id": "78",
          "properties": {},
          "type": "Feature"
         },
         {
          "geometry": {
           "coordinates": [
            24.437513652982297,
            60.125891014939434
           ],
           "type": "Point"
          },
          "id": "79",
          "properties": {},
          "type": "Feature"
         },
         {
          "geometry": {
           "coordinates": [
            24.437485920004345,
            60.12607168981161
           ],
           "type": "Point"
          },
          "id": "80",
          "properties": {},
          "type": "Feature"
         },
         {
          "geometry": {
           "coordinates": [
            24.437458214601044,
            60.126252365737784
           ],
           "type": "Point"
          },
          "id": "81",
          "properties": {},
          "type": "Feature"
         },
         {
          "geometry": {
           "coordinates": [
            24.43743043844427,
            60.12643303896043
           ],
           "type": "Point"
          },
          "id": "82",
          "properties": {},
          "type": "Feature"
         },
         {
          "geometry": {
           "coordinates": [
            24.437587736498898,
            60.12658672427745
           ],
           "type": "Point"
          },
          "id": "83",
          "properties": {},
          "type": "Feature"
         },
         {
          "geometry": {
           "coordinates": [
            24.4375321,
            60.12676330000001
           ],
           "type": "Point"
          },
          "id": "84",
          "properties": {},
          "type": "Feature"
         },
         {
          "geometry": {
           "coordinates": [
            24.437870509778048,
            60.12681263911718
           ],
           "type": "Point"
          },
          "id": "86",
          "properties": {},
          "type": "Feature"
         },
         {
          "geometry": {
           "coordinates": [
            24.43821613324199,
            60.12684514180859
           ],
           "type": "Point"
          },
          "id": "87",
          "properties": {},
          "type": "Feature"
         },
         {
          "geometry": {
           "coordinates": [
            24.438566112896623,
            60.12686578595932
           ],
           "type": "Point"
          },
          "id": "88",
          "properties": {},
          "type": "Feature"
         },
         {
          "geometry": {
           "coordinates": [
            24.438918102044212,
            60.126874652989265
           ],
           "type": "Point"
          },
          "id": "89",
          "properties": {},
          "type": "Feature"
         },
         {
          "geometry": {
           "coordinates": [
            24.439270543270826,
            60.12687424059544
           ],
           "type": "Point"
          },
          "id": "90",
          "properties": {},
          "type": "Feature"
         },
         {
          "geometry": {
           "coordinates": [
            24.439620204675006,
            60.12685879670697
           ],
           "type": "Point"
          },
          "id": "91",
          "properties": {},
          "type": "Feature"
         },
         {
          "geometry": {
           "coordinates": [
            24.43996345596915,
            60.12681962949862
           ],
           "type": "Point"
          },
          "id": "92",
          "properties": {},
          "type": "Feature"
         },
         {
          "geometry": {
           "coordinates": [
            24.44031504935114,
            60.12682022801578
           ],
           "type": "Point"
          },
          "id": "93",
          "properties": {},
          "type": "Feature"
         },
         {
          "geometry": {
           "coordinates": [
            24.440665576662855,
            60.12680310638243
           ],
           "type": "Point"
          },
          "id": "94",
          "properties": {},
          "type": "Feature"
         },
         {
          "geometry": {
           "coordinates": [
            24.44095683549501,
            60.12671174977317
           ],
           "type": "Point"
          },
          "id": "95",
          "properties": {},
          "type": "Feature"
         },
         {
          "geometry": {
           "coordinates": [
            24.441286285356714,
            60.12668611519254
           ],
           "type": "Point"
          },
          "id": "96",
          "properties": {},
          "type": "Feature"
         },
         {
          "geometry": {
           "coordinates": [
            24.44162319258156,
            60.12668885846589
           ],
           "type": "Point"
          },
          "id": "97",
          "properties": {},
          "type": "Feature"
         },
         {
          "geometry": {
           "coordinates": [
            24.4419418,
            60.12661499999999
           ],
           "type": "Point"
          },
          "id": "98",
          "properties": {},
          "type": "Feature"
         },
         {
          "geometry": {
           "coordinates": [
            24.440132100000003,
            60.1264547
           ],
           "type": "Point"
          },
          "id": "99",
          "properties": {},
          "type": "Feature"
         },
         {
          "geometry": {
           "coordinates": [
            24.440001335004258,
            60.12628721464628
           ],
           "type": "Point"
          },
          "id": "100",
          "properties": {},
          "type": "Feature"
         },
         {
          "geometry": {
           "coordinates": [
            24.43984044245933,
            60.12612596733088
           ],
           "type": "Point"
          },
          "id": "101",
          "properties": {},
          "type": "Feature"
         },
         {
          "geometry": {
           "coordinates": [
            24.439682425530464,
            60.12596401814957
           ],
           "type": "Point"
          },
          "id": "102",
          "properties": {},
          "type": "Feature"
         },
         {
          "geometry": {
           "coordinates": [
            24.439509537372732,
            60.125806248234056
           ],
           "type": "Point"
          },
          "id": "103",
          "properties": {},
          "type": "Feature"
         },
         {
          "geometry": {
           "coordinates": [
            24.439307160744658,
            60.12565733510799
           ],
           "type": "Point"
          },
          "id": "104",
          "properties": {},
          "type": "Feature"
         },
         {
          "geometry": {
           "coordinates": [
            24.439077798136466,
            60.12551828841804
           ],
           "type": "Point"
          },
          "id": "105",
          "properties": {},
          "type": "Feature"
         },
         {
          "geometry": {
           "coordinates": [
            24.438834099123497,
            60.125385457987925
           ],
           "type": "Point"
          },
          "id": "106",
          "properties": {},
          "type": "Feature"
         },
         {
          "geometry": {
           "coordinates": [
            24.438583859026963,
            60.12525562768954
           ],
           "type": "Point"
          },
          "id": "107",
          "properties": {},
          "type": "Feature"
         },
         {
          "geometry": {
           "coordinates": [
            24.438386563311937,
            60.12510520214254
           ],
           "type": "Point"
          },
          "id": "108",
          "properties": {},
          "type": "Feature"
         },
         {
          "geometry": {
           "coordinates": [
            24.438274412921245,
            60.12493422398251
           ],
           "type": "Point"
          },
          "id": "109",
          "properties": {},
          "type": "Feature"
         },
         {
          "geometry": {
           "coordinates": [
            24.4382695,
            60.124755400000005
           ],
           "type": "Point"
          },
          "id": "110",
          "properties": {},
          "type": "Feature"
         },
         {
          "geometry": {
           "coordinates": [
            24.440376800000003,
            60.12687549999999
           ],
           "type": "Point"
          },
          "id": "111",
          "properties": {},
          "type": "Feature"
         },
         {
          "geometry": {
           "coordinates": [
            24.440304300000005,
            60.1267476
           ],
           "type": "Point"
          },
          "id": "112",
          "properties": {},
          "type": "Feature"
         },
         {
          "geometry": {
           "coordinates": [
            24.437185098046633,
            60.1267368088911
           ],
           "type": "Point"
          },
          "id": "114",
          "properties": {},
          "type": "Feature"
         },
         {
          "geometry": {
           "coordinates": [
            24.436879558426103,
            60.12664248503522
           ],
           "type": "Point"
          },
          "id": "115",
          "properties": {},
          "type": "Feature"
         },
         {
          "geometry": {
           "coordinates": [
            24.436551100817525,
            60.12656138719196
           ],
           "type": "Point"
          },
          "id": "116",
          "properties": {},
          "type": "Feature"
         },
         {
          "geometry": {
           "coordinates": [
            24.436222644841582,
            60.12648028854313
           ],
           "type": "Point"
          },
          "id": "117",
          "properties": {},
          "type": "Feature"
         },
         {
          "geometry": {
           "coordinates": [
            24.4358958,
            60.12639759999999
           ],
           "type": "Point"
          },
          "id": "118",
          "properties": {},
          "type": "Feature"
         },
         {
          "geometry": {
           "coordinates": [
            24.4459108,
            60.1270694
           ],
           "type": "Point"
          },
          "id": "119",
          "properties": {},
          "type": "Feature"
         },
         {
          "geometry": {
           "coordinates": [
            24.445675258752168,
            60.1269388350046
           ],
           "type": "Point"
          },
          "id": "120",
          "properties": {},
          "type": "Feature"
         },
         {
          "geometry": {
           "coordinates": [
            24.44543881616536,
            60.12680867818236
           ],
           "type": "Point"
          },
          "id": "121",
          "properties": {},
          "type": "Feature"
         },
         {
          "geometry": {
           "coordinates": [
            24.445201480074495,
            60.12667892561231
           ],
           "type": "Point"
          },
          "id": "122",
          "properties": {},
          "type": "Feature"
         },
         {
          "geometry": {
           "coordinates": [
            24.444964145850644,
            60.12654917262634
           ],
           "type": "Point"
          },
          "id": "123",
          "properties": {},
          "type": "Feature"
         },
         {
          "geometry": {
           "coordinates": [
            24.444720675928256,
            60.12642233516171
           ],
           "type": "Point"
          },
          "id": "124",
          "properties": {},
          "type": "Feature"
         },
         {
          "geometry": {
           "coordinates": [
            24.444472522366894,
            60.12629772332233
           ],
           "type": "Point"
          },
          "id": "125",
          "properties": {},
          "type": "Feature"
         },
         {
          "geometry": {
           "coordinates": [
            24.444188018594048,
            60.12620044844803
           ],
           "type": "Point"
          },
          "id": "126",
          "properties": {},
          "type": "Feature"
         },
         {
          "geometry": {
           "coordinates": [
            24.443846492655805,
            60.12615807605504
           ],
           "type": "Point"
          },
          "id": "127",
          "properties": {},
          "type": "Feature"
         },
         {
          "geometry": {
           "coordinates": [
            24.443505721449984,
            60.126114232120024
           ],
           "type": "Point"
          },
          "id": "128",
          "properties": {},
          "type": "Feature"
         },
         {
          "geometry": {
           "coordinates": [
            24.443161528818745,
            60.126077261778946
           ],
           "type": "Point"
          },
          "id": "129",
          "properties": {},
          "type": "Feature"
         },
         {
          "geometry": {
           "coordinates": [
            24.44300772761675,
            60.12597750144112
           ],
           "type": "Point"
          },
          "id": "130",
          "properties": {},
          "type": "Feature"
         },
         {
          "geometry": {
           "coordinates": [
            24.443025090740548,
            60.12580205411587
           ],
           "type": "Point"
          },
          "id": "131",
          "properties": {},
          "type": "Feature"
         },
         {
          "geometry": {
           "coordinates": [
            24.443038078974084,
            60.12562651724027
           ],
           "type": "Point"
          },
          "id": "132",
          "properties": {},
          "type": "Feature"
         },
         {
          "geometry": {
           "coordinates": [
            24.443049577976307,
            60.12545094987946
           ],
           "type": "Point"
          },
          "id": "133",
          "properties": {},
          "type": "Feature"
         },
         {
          "geometry": {
           "coordinates": [
            24.443061076832077,
            60.12527538251263
           ],
           "type": "Point"
          },
          "id": "134",
          "properties": {},
          "type": "Feature"
         },
         {
          "geometry": {
           "coordinates": [
            24.44307257554139,
            60.12509981513979
           ],
           "type": "Point"
          },
          "id": "135",
          "properties": {},
          "type": "Feature"
         },
         {
          "geometry": {
           "coordinates": [
            24.4430869,
            60.124924299999996
           ],
           "type": "Point"
          },
          "id": "136",
          "properties": {},
          "type": "Feature"
         },
         {
          "geometry": {
           "coordinates": [
            24.438874,
            60.123505200000004
           ],
           "type": "Point"
          },
          "id": "137",
          "properties": {},
          "type": "Feature"
         },
         {
          "geometry": {
           "coordinates": [
            24.438908117443162,
            60.12334335905496
           ],
           "type": "Point"
          },
          "id": "138",
          "properties": {},
          "type": "Feature"
         },
         {
          "geometry": {
           "coordinates": [
            24.438951501974,
            60.12318211041774
           ],
           "type": "Point"
          },
          "id": "139",
          "properties": {},
          "type": "Feature"
         },
         {
          "geometry": {
           "coordinates": [
            24.43900324886733,
            60.12302143805089
           ],
           "type": "Point"
          },
          "id": "140",
          "properties": {},
          "type": "Feature"
         },
         {
          "geometry": {
           "coordinates": [
            24.439167100000002,
            60.12291599999998
           ],
           "type": "Point"
          },
          "id": "141",
          "properties": {},
          "type": "Feature"
         },
         {
          "geometry": {
           "coordinates": [
            24.4394673,
            60.1235501
           ],
           "type": "Point"
          },
          "id": "142",
          "properties": {},
          "type": "Feature"
         },
         {
          "geometry": {
           "coordinates": [
            24.439438700000004,
            60.12366559999999
           ],
           "type": "Point"
          },
          "id": "143",
          "properties": {},
          "type": "Feature"
         },
         {
          "geometry": {
           "coordinates": [
            24.437238300000004,
            60.12571539999998
           ],
           "type": "Point"
          },
          "id": "144",
          "properties": {},
          "type": "Feature"
         },
         {
          "geometry": {
           "coordinates": [
            24.43720985606437,
            60.12590437075838
           ],
           "type": "Point"
          },
          "id": "145",
          "properties": {},
          "type": "Feature"
         },
         {
          "geometry": {
           "coordinates": [
            24.43718132323986,
            60.126093338183615
           ],
           "type": "Point"
          },
          "id": "146",
          "properties": {},
          "type": "Feature"
         },
         {
          "geometry": {
           "coordinates": [
            24.437143762183947,
            60.12627703202453
           ],
           "type": "Point"
          },
          "id": "147",
          "properties": {},
          "type": "Feature"
         },
         {
          "geometry": {
           "coordinates": [
            24.4367650013224,
            60.126262864222895
           ],
           "type": "Point"
          },
          "id": "148",
          "properties": {},
          "type": "Feature"
         },
         {
          "geometry": {
           "coordinates": [
            24.43638624081423,
            60.12624869533953
           ],
           "type": "Point"
          },
          "id": "149",
          "properties": {},
          "type": "Feature"
         },
         {
          "geometry": {
           "coordinates": [
            24.4364004823162,
            60.12606583658902
           ],
           "type": "Point"
          },
          "id": "150",
          "properties": {},
          "type": "Feature"
         },
         {
          "geometry": {
           "coordinates": [
            24.436429015992868,
            60.1258768692252
           ],
           "type": "Point"
          },
          "id": "151",
          "properties": {},
          "type": "Feature"
         },
         {
          "geometry": {
           "coordinates": [
            24.4364575,
            60.1256879
           ],
           "type": "Point"
          },
          "id": "152",
          "properties": {},
          "type": "Feature"
         },
         {
          "geometry": {
           "coordinates": [
            24.4386479,
            60.1248
           ],
           "type": "Point"
          },
          "id": "153",
          "properties": {},
          "type": "Feature"
         },
         {
          "geometry": {
           "coordinates": [
            24.439074200000004,
            60.124865899999996
           ],
           "type": "Point"
          },
          "id": "154",
          "properties": {},
          "type": "Feature"
         },
         {
          "geometry": {
           "coordinates": [
            24.4403154,
            60.1257891
           ],
           "type": "Point"
          },
          "id": "155",
          "properties": {},
          "type": "Feature"
         },
         {
          "geometry": {
           "coordinates": [
            24.440297491994695,
            60.12592585516417
           ],
           "type": "Point"
          },
          "id": "156",
          "properties": {},
          "type": "Feature"
         },
         {
          "geometry": {
           "coordinates": [
            24.439368,
            60.125695300000004
           ],
           "type": "Point"
          },
          "id": "0",
          "properties": {},
          "type": "Feature"
         },
         {
          "geometry": {
           "coordinates": [
            24.43962571650565,
            60.12556158349846
           ],
           "type": "Point"
          },
          "id": "1",
          "properties": {},
          "type": "Feature"
         },
         {
          "geometry": {
           "coordinates": [
            24.439361992840713,
            60.12543972782387
           ],
           "type": "Point"
          },
          "id": "2",
          "properties": {},
          "type": "Feature"
         },
         {
          "geometry": {
           "coordinates": [
            24.439071100000003,
            60.1253195
           ],
           "type": "Point"
          },
          "id": "3",
          "properties": {},
          "type": "Feature"
         },
         {
          "geometry": {
           "coordinates": [
            24.4401976,
            60.12581379999998
           ],
           "type": "Point"
          },
          "id": "4",
          "properties": {},
          "type": "Feature"
         },
         {
          "geometry": {
           "coordinates": [
            24.439935697401584,
            60.12569837403281
           ],
           "type": "Point"
          },
          "id": "5",
          "properties": {},
          "type": "Feature"
         },
         {
          "geometry": {
           "coordinates": [
            24.439743288594375,
            60.1255886844232
           ],
           "type": "Point"
          },
          "id": "6",
          "properties": {},
          "type": "Feature"
         },
         {
          "geometry": {
           "coordinates": [
            24.440021632408353,
            60.12548855513767
           ],
           "type": "Point"
          },
          "id": "7",
          "properties": {},
          "type": "Feature"
         },
         {
          "geometry": {
           "coordinates": [
            24.44033835641513,
            60.12541455951987
           ],
           "type": "Point"
          },
          "id": "8",
          "properties": {},
          "type": "Feature"
         },
         {
          "geometry": {
           "coordinates": [
            24.440609239150813,
            60.12530929179325
           ],
           "type": "Point"
          },
          "id": "9",
          "properties": {},
          "type": "Feature"
         },
         {
          "geometry": {
           "coordinates": [
            24.44062413667923,
            60.125140478146456
           ],
           "type": "Point"
          },
          "id": "10",
          "properties": {},
          "type": "Feature"
         },
         {
          "geometry": {
           "coordinates": [
            24.440455100000005,
            60.124998800000014
           ],
           "type": "Point"
          },
          "id": "11",
          "properties": {},
          "type": "Feature"
         },
         {
          "geometry": {
           "coordinates": [
            24.438602541676094,
            60.12468129261103
           ],
           "type": "Point"
          },
          "id": "13",
          "properties": {},
          "type": "Feature"
         },
         {
          "geometry": {
           "coordinates": [
            24.438962291595598,
            60.12468312262647
           ],
           "type": "Point"
          },
          "id": "14",
          "properties": {},
          "type": "Feature"
         },
         {
          "geometry": {
           "coordinates": [
            24.439327189787882,
            60.12469175614694
           ],
           "type": "Point"
          },
          "id": "15",
          "properties": {},
          "type": "Feature"
         },
         {
          "geometry": {
           "coordinates": [
            24.439655846988607,
            60.124749485757505
           ],
           "type": "Point"
          },
          "id": "16",
          "properties": {},
          "type": "Feature"
         },
         {
          "geometry": {
           "coordinates": [
            24.439808139440427,
            60.12491281249513
           ],
           "type": "Point"
          },
          "id": "17",
          "properties": {},
          "type": "Feature"
         },
         {
          "geometry": {
           "coordinates": [
            24.439689143733396,
            60.12508122220196
           ],
           "type": "Point"
          },
          "id": "18",
          "properties": {},
          "type": "Feature"
         },
         {
          "geometry": {
           "coordinates": [
            24.439341892633763,
            60.125129316161946
           ],
           "type": "Point"
          },
          "id": "19",
          "properties": {},
          "type": "Feature"
         },
         {
          "geometry": {
           "coordinates": [
            24.4391996,
            60.12528409999999
           ],
           "type": "Point"
          },
          "id": "20",
          "properties": {},
          "type": "Feature"
         },
         {
          "geometry": {
           "coordinates": [
            24.4403194,
            60.1237891
           ],
           "type": "Point"
          },
          "id": "21",
          "properties": {},
          "type": "Feature"
         },
         {
          "geometry": {
           "coordinates": [
            24.44036065965974,
            60.1239619198839
           ],
           "type": "Point"
          },
          "id": "22",
          "properties": {},
          "type": "Feature"
         },
         {
          "geometry": {
           "coordinates": [
            24.440364356696165,
            60.124136757527204
           ],
           "type": "Point"
          },
          "id": "23",
          "properties": {},
          "type": "Feature"
         },
         {
          "geometry": {
           "coordinates": [
            24.44033188046662,
            60.12429879979397
           ],
           "type": "Point"
          },
          "id": "24",
          "properties": {},
          "type": "Feature"
         },
         {
          "geometry": {
           "coordinates": [
            24.440568790225065,
            60.124416986163354
           ],
           "type": "Point"
          },
          "id": "25",
          "properties": {},
          "type": "Feature"
         },
         {
          "geometry": {
           "coordinates": [
            24.440526912202206,
            60.12459065445228
           ],
           "type": "Point"
          },
          "id": "26",
          "properties": {},
          "type": "Feature"
         },
         {
          "geometry": {
           "coordinates": [
            24.44053144461667,
            60.12476625095643
           ],
           "type": "Point"
          },
          "id": "27",
          "properties": {},
          "type": "Feature"
         },
         {
          "geometry": {
           "coordinates": [
            24.440509115819548,
            60.12493877593803
           ],
           "type": "Point"
          },
          "id": "28",
          "properties": {},
          "type": "Feature"
         },
         {
          "geometry": {
           "coordinates": [
            24.440325854311844,
            60.125088070596014
           ],
           "type": "Point"
          },
          "id": "29",
          "properties": {},
          "type": "Feature"
         },
         {
          "geometry": {
           "coordinates": [
            24.440118594410617,
            60.125229697519195
           ],
           "type": "Point"
          },
          "id": "30",
          "properties": {},
          "type": "Feature"
         },
         {
          "geometry": {
           "coordinates": [
            24.439822509199086,
            60.12532393959162
           ],
           "type": "Point"
          },
          "id": "31",
          "properties": {},
          "type": "Feature"
         },
         {
          "geometry": {
           "coordinates": [
            24.4394946,
            60.1253776
           ],
           "type": "Point"
          },
          "id": "32",
          "properties": {},
          "type": "Feature"
         },
         {
          "geometry": {
           "coordinates": [
            24.439984130753203,
            60.123869733872795
           ],
           "type": "Point"
          },
          "id": "34",
          "properties": {},
          "type": "Feature"
         },
         {
          "geometry": {
           "coordinates": [
            24.439648859882375,
            60.12395036688502
           ],
           "type": "Point"
          },
          "id": "35",
          "properties": {},
          "type": "Feature"
         },
         {
          "geometry": {
           "coordinates": [
            24.43932439861857,
            60.12404118467035
           ],
           "type": "Point"
          },
          "id": "36",
          "properties": {},
          "type": "Feature"
         },
         {
          "geometry": {
           "coordinates": [
            24.43903428855635,
            60.12415751703602
           ],
           "type": "Point"
          },
          "id": "37",
          "properties": {},
          "type": "Feature"
         },
         {
          "geometry": {
           "coordinates": [
            24.4387441993697,
            60.12427386297864
           ],
           "type": "Point"
          },
          "id": "38",
          "properties": {},
          "type": "Feature"
         },
         {
          "geometry": {
           "coordinates": [
            24.438495631905788,
            60.12440578745635
           ],
           "type": "Point"
          },
          "id": "39",
          "properties": {},
          "type": "Feature"
         },
         {
          "geometry": {
           "coordinates": [
            24.438336844624292,
            60.12457276008803
           ],
           "type": "Point"
          },
          "id": "40",
          "properties": {},
          "type": "Feature"
         },
         {
          "geometry": {
           "coordinates": [
            24.439677000000003,
            60.12508900000001
           ],
           "type": "Point"
          },
          "id": "42",
          "properties": {},
          "type": "Feature"
         },
         {
          "geometry": {
           "coordinates": [
            24.43981020978461,
            60.12526738961978
           ],
           "type": "Point"
          },
          "id": "43",
          "properties": {},
          "type": "Feature"
         },
         {
          "geometry": {
           "coordinates": [
            24.439951594074234,
            60.1254441842977
           ],
           "type": "Point"
          },
          "id": "44",
          "properties": {},
          "type": "Feature"
         },
         {
          "geometry": {
           "coordinates": [
            24.440102295965108,
            60.12561906244207
           ],
           "type": "Point"
          },
          "id": "45",
          "properties": {},
          "type": "Feature"
         },
         {
          "geometry": {
           "coordinates": [
            24.4402499,
            60.1257946
           ],
           "type": "Point"
          },
          "id": "46",
          "properties": {},
          "type": "Feature"
         },
         {
          "geometry": {
           "coordinates": [
            24.437725,
            60.1248527
           ],
           "type": "Point"
          },
          "id": "47",
          "properties": {},
          "type": "Feature"
         },
         {
          "geometry": {
           "coordinates": [
            24.437445300000004,
            60.124855
           ],
           "type": "Point"
          },
          "id": "48",
          "properties": {},
          "type": "Feature"
         },
         {
          "geometry": {
           "coordinates": [
            24.4364465,
            60.1249193
           ],
           "type": "Point"
          },
          "id": "49",
          "properties": {},
          "type": "Feature"
         },
         {
          "geometry": {
           "coordinates": [
            24.4362387,
            60.1249179
           ],
           "type": "Point"
          },
          "id": "50",
          "properties": {},
          "type": "Feature"
         },
         {
          "geometry": {
           "coordinates": [
            24.4414781,
            60.124065599999994
           ],
           "type": "Point"
          },
          "id": "51",
          "properties": {},
          "type": "Feature"
         },
         {
          "geometry": {
           "coordinates": [
            24.441434173111933,
            60.124202114723424
           ],
           "type": "Point"
          },
          "id": "52",
          "properties": {},
          "type": "Feature"
         },
         {
          "geometry": {
           "coordinates": [
            24.4413612,
            60.12433550000002
           ],
           "type": "Point"
          },
          "id": "53",
          "properties": {},
          "type": "Feature"
         },
         {
          "geometry": {
           "coordinates": [
            24.4394563,
            60.1236023
           ],
           "type": "Point"
          },
          "id": "54",
          "properties": {},
          "type": "Feature"
         },
         {
          "geometry": {
           "coordinates": [
            24.439822281504263,
            60.12362837301732
           ],
           "type": "Point"
          },
          "id": "55",
          "properties": {},
          "type": "Feature"
         },
         {
          "geometry": {
           "coordinates": [
            24.440190000000005,
            60.12364659999999
           ],
           "type": "Point"
          },
          "id": "56",
          "properties": {},
          "type": "Feature"
         },
         {
          "geometry": {
           "coordinates": [
            24.4443454,
            60.12624350000001
           ],
           "type": "Point"
          },
          "id": "57",
          "properties": {},
          "type": "Feature"
         },
         {
          "geometry": {
           "coordinates": [
            24.444588297747586,
            60.12612374762389
           ],
           "type": "Point"
          },
          "id": "58",
          "properties": {},
          "type": "Feature"
         },
         {
          "geometry": {
           "coordinates": [
            24.4434002,
            60.1259869
           ],
           "type": "Point"
          },
          "id": "60",
          "properties": {},
          "type": "Feature"
         },
         {
          "geometry": {
           "coordinates": [
            24.443236066596597,
            60.12612110653985
           ],
           "type": "Point"
          },
          "id": "61",
          "properties": {},
          "type": "Feature"
         },
         {
          "geometry": {
           "coordinates": [
            24.4432494,
            60.126257300000006
           ],
           "type": "Point"
          },
          "id": "62",
          "properties": {},
          "type": "Feature"
         },
         {
          "geometry": {
           "coordinates": [
            24.442795000000004,
            60.1256662
           ],
           "type": "Point"
          },
          "id": "63",
          "properties": {},
          "type": "Feature"
         },
         {
          "geometry": {
           "coordinates": [
            24.442421893778096,
            60.12565544158726
           ],
           "type": "Point"
          },
          "id": "64",
          "properties": {},
          "type": "Feature"
         },
         {
          "geometry": {
           "coordinates": [
            24.442048232120214,
            60.12564617987283
           ],
           "type": "Point"
          },
          "id": "65",
          "properties": {},
          "type": "Feature"
         },
         {
          "geometry": {
           "coordinates": [
            24.4416744,
            60.1256398
           ],
           "type": "Point"
          },
          "id": "66",
          "properties": {},
          "type": "Feature"
         },
         {
          "geometry": {
           "coordinates": [
            24.4421286,
            60.1256917
           ],
           "type": "Point"
          },
          "id": "67",
          "properties": {},
          "type": "Feature"
         },
         {
          "geometry": {
           "coordinates": [
            24.442144581284378,
            60.12551200069906
           ],
           "type": "Point"
          },
          "id": "68",
          "properties": {},
          "type": "Feature"
         },
         {
          "geometry": {
           "coordinates": [
            24.44216052105515,
            60.1253323004735
           ],
           "type": "Point"
          },
          "id": "69",
          "properties": {},
          "type": "Feature"
         },
         {
          "geometry": {
           "coordinates": [
            24.442176460627024,
            60.12515260024047
           ],
           "type": "Point"
          },
          "id": "70",
          "properties": {},
          "type": "Feature"
         },
         {
          "geometry": {
           "coordinates": [
            24.4421924,
            60.12497290000001
           ],
           "type": "Point"
          },
          "id": "71",
          "properties": {},
          "type": "Feature"
         },
         {
          "geometry": {
           "coordinates": [
            24.4431636,
            60.12618789999999
           ],
           "type": "Point"
          },
          "id": "72",
          "properties": {},
          "type": "Feature"
         },
         {
          "geometry": {
           "coordinates": [
            24.4428272,
            60.1262137
           ],
           "type": "Point"
          },
          "id": "73",
          "properties": {},
          "type": "Feature"
         },
         {
          "geometry": {
           "coordinates": [
            24.445035800000003,
            60.12590199999998
           ],
           "type": "Point"
          },
          "id": "74",
          "properties": {},
          "type": "Feature"
         },
         {
          "geometry": {
           "coordinates": [
            24.44529627790667,
            60.12603490139793
           ],
           "type": "Point"
          },
          "id": "75",
          "properties": {},
          "type": "Feature"
         },
         {
          "geometry": {
           "coordinates": [
            24.445554175468775,
            60.12616903898819
           ],
           "type": "Point"
          },
          "id": "76",
          "properties": {},
          "type": "Feature"
         },
         {
          "geometry": {
           "coordinates": [
            24.445809654694667,
            60.12630433520057
           ],
           "type": "Point"
          },
          "id": "77",
          "properties": {},
          "type": "Feature"
         },
         {
          "geometry": {
           "coordinates": [
            24.446068726802668,
            60.126437890522354
           ],
           "type": "Point"
          },
          "id": "78",
          "properties": {},
          "type": "Feature"
         },
         {
          "geometry": {
           "coordinates": [
            24.445983384360307,
            60.126570196800344
           ],
           "type": "Point"
          },
          "id": "79",
          "properties": {},
          "type": "Feature"
         },
         {
          "geometry": {
           "coordinates": [
            24.4457227,
            60.126703000000006
           ],
           "type": "Point"
          },
          "id": "80",
          "properties": {},
          "type": "Feature"
         },
         {
          "geometry": {
           "coordinates": [
            24.4437388,
            60.12614289999999
           ],
           "type": "Point"
          },
          "id": "81",
          "properties": {},
          "type": "Feature"
         },
         {
          "geometry": {
           "coordinates": [
            24.44390677171975,
            60.12600454188632
           ],
           "type": "Point"
          },
          "id": "82",
          "properties": {},
          "type": "Feature"
         },
         {
          "geometry": {
           "coordinates": [
            24.44397536016536,
            60.12588837571189
           ],
           "type": "Point"
          },
          "id": "83",
          "properties": {},
          "type": "Feature"
         },
         {
          "geometry": {
           "coordinates": [
            24.443748900000003,
            60.12577239999999
           ],
           "type": "Point"
          },
          "id": "84",
          "properties": {},
          "type": "Feature"
         },
         {
          "geometry": {
           "coordinates": [
            24.4428419,
            60.12498479999999
           ],
           "type": "Point"
          },
          "id": "85",
          "properties": {},
          "type": "Feature"
         },
         {
          "geometry": {
           "coordinates": [
            24.442483817664737,
            60.12497206819662
           ],
           "type": "Point"
          },
          "id": "86",
          "properties": {},
          "type": "Feature"
         },
         {
          "geometry": {
           "coordinates": [
            24.442124802104345,
            60.12497166208604
           ],
           "type": "Point"
          },
          "id": "87",
          "properties": {},
          "type": "Feature"
         },
         {
          "geometry": {
           "coordinates": [
            24.441845371947647,
            60.12500772383369
           ],
           "type": "Point"
          },
          "id": "88",
          "properties": {},
          "type": "Feature"
         },
         {
          "geometry": {
           "coordinates": [
            24.44183218922553,
            60.12518675634198
           ],
           "type": "Point"
          },
          "id": "89",
          "properties": {},
          "type": "Feature"
         },
         {
          "geometry": {
           "coordinates": [
            24.44181900633528,
            60.12536578884363
           ],
           "type": "Point"
          },
          "id": "90",
          "properties": {},
          "type": "Feature"
         },
         {
          "geometry": {
           "coordinates": [
            24.4418058232769,
            60.12554482133866
           ],
           "type": "Point"
          },
          "id": "91",
          "properties": {},
          "type": "Feature"
         },
         {
          "geometry": {
           "coordinates": [
            24.44187206945701,
            60.125687003686956
           ],
           "type": "Point"
          },
          "id": "92",
          "properties": {},
          "type": "Feature"
         },
         {
          "geometry": {
           "coordinates": [
            24.442230902565523,
            60.12569356013268
           ],
           "type": "Point"
          },
          "id": "93",
          "properties": {},
          "type": "Feature"
         },
         {
          "geometry": {
           "coordinates": [
            24.442458222301862,
            60.125629429538456
           ],
           "type": "Point"
          },
          "id": "94",
          "properties": {},
          "type": "Feature"
         },
         {
          "geometry": {
           "coordinates": [
            24.44247169599094,
            60.12545040240843
           ],
           "type": "Point"
          },
          "id": "95",
          "properties": {},
          "type": "Feature"
         },
         {
          "geometry": {
           "coordinates": [
            24.44248516950874,
            60.125271375271694
           ],
           "type": "Point"
          },
          "id": "96",
          "properties": {},
          "type": "Feature"
         },
         {
          "geometry": {
           "coordinates": [
            24.442498642855263,
            60.12509234812824
           ],
           "type": "Point"
          },
          "id": "97",
          "properties": {},
          "type": "Feature"
         },
         {
          "geometry": {
           "coordinates": [
            24.4425108,
            60.124913299999996
           ],
           "type": "Point"
          },
          "id": "98",
          "properties": {},
          "type": "Feature"
         },
         {
          "geometry": {
           "coordinates": [
            24.442798786616653,
            60.12491965206663
           ],
           "type": "Point"
          },
          "id": "100",
          "properties": {},
          "type": "Feature"
         },
         {
          "geometry": {
           "coordinates": [
            24.4426671,
            60.12640700000001
           ],
           "type": "Point"
          },
          "id": "102",
          "properties": {},
          "type": "Feature"
         },
         {
          "geometry": {
           "coordinates": [
            24.442564159376158,
            60.126600695283216
           ],
           "type": "Point"
          },
          "id": "103",
          "properties": {},
          "type": "Feature"
         },
         {
          "geometry": {
           "coordinates": [
            24.442530503325724,
            60.126793407010716
           ],
           "type": "Point"
          },
          "id": "104",
          "properties": {},
          "type": "Feature"
         },
         {
          "geometry": {
           "coordinates": [
            24.442844969771418,
            60.126914182840075
           ],
           "type": "Point"
          },
          "id": "105",
          "properties": {},
          "type": "Feature"
         },
         {
          "geometry": {
           "coordinates": [
            24.443078300000003,
            60.12707710000003
           ],
           "type": "Point"
          },
          "id": "106",
          "properties": {},
          "type": "Feature"
         },
         {
          "geometry": {
           "coordinates": [
            24.4433567,
            60.12532950000002
           ],
           "type": "Point"
          },
          "id": "107",
          "properties": {},
          "type": "Feature"
         },
         {
          "geometry": {
           "coordinates": [
            24.443367100029985,
            60.12517056666789
           ],
           "type": "Point"
          },
          "id": "108",
          "properties": {},
          "type": "Feature"
         },
         {
          "geometry": {
           "coordinates": [
            24.442835,
            60.12508499999999
           ],
           "type": "Point"
          },
          "id": "111",
          "properties": {},
          "type": "Feature"
         },
         {
          "geometry": {
           "coordinates": [
            24.4433723,
            60.12509109999999
           ],
           "type": "Point"
          },
          "id": "112",
          "properties": {},
          "type": "Feature"
         },
         {
          "geometry": {
           "coordinates": [
            24.439373600000003,
            60.12354399999998
           ],
           "type": "Point"
          },
          "id": "113",
          "properties": {},
          "type": "Feature"
         },
         {
          "geometry": {
           "coordinates": [
            24.4395838,
            60.1235567
           ],
           "type": "Point"
          },
          "id": "114",
          "properties": {},
          "type": "Feature"
         },
         {
          "geometry": {
           "coordinates": [
            24.4394229,
            60.1233731
           ],
           "type": "Point"
          },
          "id": "115",
          "properties": {},
          "type": "Feature"
         },
         {
          "geometry": {
           "coordinates": [
            24.43937603224556,
            60.12353617696397
           ],
           "type": "Point"
          },
          "id": "116",
          "properties": {},
          "type": "Feature"
         },
         {
          "geometry": {
           "coordinates": [
            24.4390637,
            60.12351809999999
           ],
           "type": "Point"
          },
          "id": "117",
          "properties": {},
          "type": "Feature"
         },
         {
          "geometry": {
           "coordinates": [
            24.4406406,
            60.125171
           ],
           "type": "Point"
          },
          "id": "0",
          "properties": {},
          "type": "Feature"
         },
         {
          "geometry": {
           "coordinates": [
            24.4406187,
            60.12529990000001
           ],
           "type": "Point"
          },
          "id": "1",
          "properties": {},
          "type": "Feature"
         },
         {
          "geometry": {
           "coordinates": [
            24.4400913,
            60.1257648
           ],
           "type": "Point"
          },
          "id": "2",
          "properties": {},
          "type": "Feature"
         },
         {
          "geometry": {
           "coordinates": [
            24.440036907701483,
            60.12593791177877
           ],
           "type": "Point"
          },
          "id": "3",
          "properties": {},
          "type": "Feature"
         },
         {
          "geometry": {
           "coordinates": [
            24.44013044184278,
            60.1261121884816
           ],
           "type": "Point"
          },
          "id": "4",
          "properties": {},
          "type": "Feature"
         },
         {
          "geometry": {
           "coordinates": [
            24.440428531635767,
            60.12619541426501
           ],
           "type": "Point"
          },
          "id": "5",
          "properties": {},
          "type": "Feature"
         },
         {
          "geometry": {
           "coordinates": [
            24.440680200000017,
            60.12607874448605
           ],
           "type": "Point"
          },
          "id": "6",
          "properties": {},
          "type": "Feature"
         },
         {
          "geometry": {
           "coordinates": [
            24.4406909,
            60.125913800000006
           ],
           "type": "Point"
          },
          "id": "7",
          "properties": {},
          "type": "Feature"
         },
         {
          "geometry": {
           "coordinates": [
            24.4402954,
            60.1242867
           ],
           "type": "Point"
          },
          "id": "8",
          "properties": {},
          "type": "Feature"
         },
         {
          "geometry": {
           "coordinates": [
            24.4400204,
            60.1244001
           ],
           "type": "Point"
          },
          "id": "9",
          "properties": {},
          "type": "Feature"
         },
         {
          "geometry": {
           "coordinates": [
            24.4393257,
            60.126486200000016
           ],
           "type": "Point"
          },
          "id": "10",
          "properties": {},
          "type": "Feature"
         },
         {
          "geometry": {
           "coordinates": [
            24.439695687978634,
            60.12642241854742
           ],
           "type": "Point"
          },
          "id": "11",
          "properties": {},
          "type": "Feature"
         },
         {
          "geometry": {
           "coordinates": [
            24.4400561,
            60.12634210000001
           ],
           "type": "Point"
          },
          "id": "12",
          "properties": {},
          "type": "Feature"
         },
         {
          "geometry": {
           "coordinates": [
            24.440283200000003,
            60.1251184
           ],
           "type": "Point"
          },
          "id": "13",
          "properties": {},
          "type": "Feature"
         },
         {
          "geometry": {
           "coordinates": [
            24.4399051,
            60.1251776
           ],
           "type": "Point"
          },
          "id": "14",
          "properties": {},
          "type": "Feature"
         },
         {
          "geometry": {
           "coordinates": [
            24.4404497,
            60.125389
           ],
           "type": "Point"
          },
          "id": "15",
          "properties": {},
          "type": "Feature"
         },
         {
          "geometry": {
           "coordinates": [
            24.440611080058076,
            60.12556517219524
           ],
           "type": "Point"
          },
          "id": "16",
          "properties": {},
          "type": "Feature"
         },
         {
          "geometry": {
           "coordinates": [
            24.440701510617206,
            60.125753222405464
           ],
           "type": "Point"
          },
          "id": "17",
          "properties": {},
          "type": "Feature"
         },
         {
          "geometry": {
           "coordinates": [
            24.4404342,
            60.12583569999999
           ],
           "type": "Point"
          },
          "id": "18",
          "properties": {},
          "type": "Feature"
         },
         {
          "geometry": {
           "coordinates": [
            24.4392908,
            60.1251344
           ],
           "type": "Point"
          },
          "id": "19",
          "properties": {},
          "type": "Feature"
         },
         {
          "geometry": {
           "coordinates": [
            24.439091989929835,
            60.12500904423692
           ],
           "type": "Point"
          },
          "id": "20",
          "properties": {},
          "type": "Feature"
         },
         {
          "geometry": {
           "coordinates": [
            24.438976680932573,
            60.124852932781515
           ],
           "type": "Point"
          },
          "id": "21",
          "properties": {},
          "type": "Feature"
         },
         {
          "geometry": {
           "coordinates": [
            24.438888388168863,
            60.12469343380021
           ],
           "type": "Point"
          },
          "id": "22",
          "properties": {},
          "type": "Feature"
         },
         {
          "geometry": {
           "coordinates": [
            24.43896883966172,
            60.12453338526523
           ],
           "type": "Point"
          },
          "id": "23",
          "properties": {},
          "type": "Feature"
         },
         {
          "geometry": {
           "coordinates": [
            24.439063128770545,
            60.12437375653974
           ],
           "type": "Point"
          },
          "id": "24",
          "properties": {},
          "type": "Feature"
         },
         {
          "geometry": {
           "coordinates": [
            24.4393606,
            60.12431589999999
           ],
           "type": "Point"
          },
          "id": "25",
          "properties": {},
          "type": "Feature"
         },
         {
          "geometry": {
           "coordinates": [
            24.4401851,
            60.125450099999995
           ],
           "type": "Point"
          },
          "id": "26",
          "properties": {},
          "type": "Feature"
         },
         {
          "geometry": {
           "coordinates": [
            24.44023082865905,
            60.12531616624157
           ],
           "type": "Point"
          },
          "id": "27",
          "properties": {},
          "type": "Feature"
         },
         {
          "geometry": {
           "coordinates": [
            24.4392185,
            60.1246905
           ],
           "type": "Point"
          },
          "id": "29",
          "properties": {},
          "type": "Feature"
         },
         {
          "geometry": {
           "coordinates": [
            24.439287128070262,
            60.1245095857447
           ],
           "type": "Point"
          },
          "id": "30",
          "properties": {},
          "type": "Feature"
         },
         {
          "geometry": {
           "coordinates": [
            24.439355755362417,
            60.12432867144451
           ],
           "type": "Point"
          },
          "id": "31",
          "properties": {},
          "type": "Feature"
         },
         {
          "geometry": {
           "coordinates": [
            24.439701839837145,
            60.1243253505904
           ],
           "type": "Point"
          },
          "id": "32",
          "properties": {},
          "type": "Feature"
         },
         {
          "geometry": {
           "coordinates": [
            24.44002296106449,
            60.124401583239035
           ],
           "type": "Point"
          },
          "id": "33",
          "properties": {},
          "type": "Feature"
         },
         {
          "geometry": {
           "coordinates": [
            24.440094535805432,
            60.12455693006713
           ],
           "type": "Point"
          },
          "id": "34",
          "properties": {},
          "type": "Feature"
         },
         {
          "geometry": {
           "coordinates": [
            24.43997141236188,
            60.124730505906165
           ],
           "type": "Point"
          },
          "id": "35",
          "properties": {},
          "type": "Feature"
         },
         {
          "geometry": {
           "coordinates": [
            24.4397796,
            60.12486410000001
           ],
           "type": "Point"
          },
          "id": "36",
          "properties": {},
          "type": "Feature"
         },
         {
          "geometry": {
           "coordinates": [
            24.438947899999995,
            60.125444499999986
           ],
           "type": "Point"
          },
          "id": "38",
          "properties": {},
          "type": "Feature"
         },
         {
          "geometry": {
           "coordinates": [
            24.4405119,
            60.125272200000005
           ],
           "type": "Point"
          },
          "id": "39",
          "properties": {},
          "type": "Feature"
         },
         {
          "geometry": {
           "coordinates": [
            24.440243,
            60.12530459999999
           ],
           "type": "Point"
          },
          "id": "40",
          "properties": {},
          "type": "Feature"
         },
         {
          "geometry": {
           "coordinates": [
            24.4362361,
            60.12559599999999
           ],
           "type": "Point"
          },
          "id": "41",
          "properties": {},
          "type": "Feature"
         },
         {
          "geometry": {
           "coordinates": [
            24.435891350155156,
            60.12558524877809
           ],
           "type": "Point"
          },
          "id": "42",
          "properties": {},
          "type": "Feature"
         },
         {
          "geometry": {
           "coordinates": [
            24.4355465,
            60.12557520000001
           ],
           "type": "Point"
          },
          "id": "43",
          "properties": {},
          "type": "Feature"
         },
         {
          "geometry": {
           "coordinates": [
            24.436159300000003,
            60.12598979999998
           ],
           "type": "Point"
          },
          "id": "44",
          "properties": {},
          "type": "Feature"
         },
         {
          "geometry": {
           "coordinates": [
            24.4358925,
            60.12608480000001
           ],
           "type": "Point"
          },
          "id": "45",
          "properties": {},
          "type": "Feature"
         },
         {
          "geometry": {
           "coordinates": [
            24.441197,
            60.12518949999998
           ],
           "type": "Point"
          },
          "id": "46",
          "properties": {},
          "type": "Feature"
         },
         {
          "geometry": {
           "coordinates": [
            24.44123835575293,
            60.12538542657098
           ],
           "type": "Point"
          },
          "id": "47",
          "properties": {},
          "type": "Feature"
         },
         {
          "geometry": {
           "coordinates": [
            24.441257400000005,
            60.1255822
           ],
           "type": "Point"
          },
          "id": "48",
          "properties": {},
          "type": "Feature"
         },
         {
          "geometry": {
           "coordinates": [
            24.44172313354483,
            60.126720797075855
           ],
           "type": "Point"
          },
          "id": "50",
          "properties": {},
          "type": "Feature"
         },
         {
          "geometry": {
           "coordinates": [
            24.4415357,
            60.12657200000002
           ],
           "type": "Point"
          },
          "id": "51",
          "properties": {},
          "type": "Feature"
         },
         {
          "geometry": {
           "coordinates": [
            24.441368100000002,
            60.1263774
           ],
           "type": "Point"
          },
          "id": "52",
          "properties": {},
          "type": "Feature"
         },
         {
          "geometry": {
           "coordinates": [
            24.4411256,
            60.126463599999994
           ],
           "type": "Point"
          },
          "id": "53",
          "properties": {},
          "type": "Feature"
         },
         {
          "geometry": {
           "coordinates": [
            24.441255721359777,
            60.125749224841755
           ],
           "type": "Point"
          },
          "id": "57",
          "properties": {},
          "type": "Feature"
         },
         {
          "geometry": {
           "coordinates": [
            24.441288062825144,
            60.125915352616666
           ],
           "type": "Point"
          },
          "id": "58",
          "properties": {},
          "type": "Feature"
         },
         {
          "geometry": {
           "coordinates": [
            24.441352983783766,
            60.126079079463175
           ],
           "type": "Point"
          },
          "id": "59",
          "properties": {},
          "type": "Feature"
         },
         {
          "geometry": {
           "coordinates": [
            24.4414336,
            60.12624110000001
           ],
           "type": "Point"
          },
          "id": "60",
          "properties": {},
          "type": "Feature"
         },
         {
          "geometry": {
           "coordinates": [
            24.4412273,
            60.12616190000001
           ],
           "type": "Point"
          },
          "id": "61",
          "properties": {},
          "type": "Feature"
         },
         {
          "geometry": {
           "coordinates": [
            24.441147172719475,
            60.12596946226353
           ],
           "type": "Point"
          },
          "id": "62",
          "properties": {},
          "type": "Feature"
         },
         {
          "geometry": {
           "coordinates": [
            24.441107854559764,
            60.125773885089124
           ],
           "type": "Point"
          },
          "id": "63",
          "properties": {},
          "type": "Feature"
         },
         {
          "geometry": {
           "coordinates": [
            24.441102525840165,
            60.12557728804635
           ],
           "type": "Point"
          },
          "id": "64",
          "properties": {},
          "type": "Feature"
         },
         {
          "geometry": {
           "coordinates": [
            24.441115090763265,
            60.12538074923463
           ],
           "type": "Point"
          },
          "id": "65",
          "properties": {},
          "type": "Feature"
         },
         {
          "geometry": {
           "coordinates": [
            24.4410478,
            60.12637680000002
           ],
           "type": "Point"
          },
          "id": "67",
          "properties": {},
          "type": "Feature"
         },
         {
          "geometry": {
           "coordinates": [
            24.4414708,
            60.1267086
           ],
           "type": "Point"
          },
          "id": "0",
          "properties": {},
          "type": "Feature"
         },
         {
          "geometry": {
           "coordinates": [
            24.4412667756387,
            60.12657142271522
           ],
           "type": "Point"
          },
          "id": "1",
          "properties": {},
          "type": "Feature"
         },
         {
          "geometry": {
           "coordinates": [
            24.44097138531487,
            60.126532691664366
           ],
           "type": "Point"
          },
          "id": "2",
          "properties": {},
          "type": "Feature"
         },
         {
          "geometry": {
           "coordinates": [
            24.440634984335883,
            60.12657547247228
           ],
           "type": "Point"
          },
          "id": "3",
          "properties": {},
          "type": "Feature"
         },
         {
          "geometry": {
           "coordinates": [
            24.44030957221243,
            60.126635685974264
           ],
           "type": "Point"
          },
          "id": "4",
          "properties": {},
          "type": "Feature"
         },
         {
          "geometry": {
           "coordinates": [
            24.439983261373218,
            60.12669478032056
           ],
           "type": "Point"
          },
          "id": "5",
          "properties": {},
          "type": "Feature"
         },
         {
          "geometry": {
           "coordinates": [
            24.439651957069948,
            60.12674618203482
           ],
           "type": "Point"
          },
          "id": "6",
          "properties": {},
          "type": "Feature"
         },
         {
          "geometry": {
           "coordinates": [
            24.439311895729993,
            60.126780443166
           ],
           "type": "Point"
          },
          "id": "7",
          "properties": {},
          "type": "Feature"
         },
         {
          "geometry": {
           "coordinates": [
            24.4390523,
            60.126876
           ],
           "type": "Point"
          },
          "id": "8",
          "properties": {},
          "type": "Feature"
         },
         {
          "geometry": {
           "coordinates": [
            24.43829337659999,
            60.126953113723026
           ],
           "type": "Point"
          },
          "id": "10",
          "properties": {},
          "type": "Feature"
         },
         {
          "geometry": {
           "coordinates": [
            24.4378907,
            60.1269648
           ],
           "type": "Point"
          },
          "id": "11",
          "properties": {},
          "type": "Feature"
         },
         {
          "geometry": {
           "coordinates": [
            24.4391417,
            60.12507659999999
           ],
           "type": "Point"
          },
          "id": "12",
          "properties": {},
          "type": "Feature"
         },
         {
          "geometry": {
           "coordinates": [
            24.438758465397726,
            60.125032870723736
           ],
           "type": "Point"
          },
          "id": "13",
          "properties": {},
          "type": "Feature"
         },
         {
          "geometry": {
           "coordinates": [
            24.4387985005715,
            60.12486944100186
           ],
           "type": "Point"
          },
          "id": "14",
          "properties": {},
          "type": "Feature"
         },
         {
          "geometry": {
           "coordinates": [
            24.4388833,
            60.124678200000005
           ],
           "type": "Point"
          },
          "id": "15",
          "properties": {},
          "type": "Feature"
         },
         {
          "geometry": {
           "coordinates": [
            24.438925900000005,
            60.12368889999997
           ],
           "type": "Point"
          },
          "id": "16",
          "properties": {},
          "type": "Feature"
         },
         {
          "geometry": {
           "coordinates": [
            24.438878329522957,
            60.12384899045175
           ],
           "type": "Point"
          },
          "id": "17",
          "properties": {},
          "type": "Feature"
         },
         {
          "geometry": {
           "coordinates": [
            24.438780479750804,
            60.123980059765664
           ],
           "type": "Point"
          },
          "id": "18",
          "properties": {},
          "type": "Feature"
         },
         {
          "geometry": {
           "coordinates": [
            24.438458959295556,
            60.12396009901049
           ],
           "type": "Point"
          },
          "id": "19",
          "properties": {},
          "type": "Feature"
         },
         {
          "geometry": {
           "coordinates": [
            24.4381377,
            60.123949999999994
           ],
           "type": "Point"
          },
          "id": "20",
          "properties": {},
          "type": "Feature"
         },
         {
          "geometry": {
           "coordinates": [
            24.4390221,
            60.1236955
           ],
           "type": "Point"
          },
          "id": "21",
          "properties": {},
          "type": "Feature"
         },
         {
          "geometry": {
           "coordinates": [
            24.438590298773892,
            60.12366585367558
           ],
           "type": "Point"
          },
          "id": "22",
          "properties": {},
          "type": "Feature"
         },
         {
          "geometry": {
           "coordinates": [
            24.438158500000004,
            60.123636199999986
           ],
           "type": "Point"
          },
          "id": "23",
          "properties": {},
          "type": "Feature"
         },
         {
          "geometry": {
           "coordinates": [
            24.439209,
            60.12321849999999
           ],
           "type": "Point"
          },
          "id": "24",
          "properties": {},
          "type": "Feature"
         },
         {
          "geometry": {
           "coordinates": [
            24.4391599,
            60.123255300000004
           ],
           "type": "Point"
          },
          "id": "25",
          "properties": {},
          "type": "Feature"
         },
         {
          "geometry": {
           "coordinates": [
            24.439398198727524,
            60.12384047249658
           ],
           "type": "Point"
          },
          "id": "27",
          "properties": {},
          "type": "Feature"
         },
         {
          "geometry": {
           "coordinates": [
            24.43912750395695,
            60.12395146486747
           ],
           "type": "Point"
          },
          "id": "28",
          "properties": {},
          "type": "Feature"
         },
         {
          "geometry": {
           "coordinates": [
            24.438852472544454,
            60.1240618522765
           ],
           "type": "Point"
          },
          "id": "29",
          "properties": {},
          "type": "Feature"
         },
         {
          "geometry": {
           "coordinates": [
            24.43858563329335,
            60.12417710221653
           ],
           "type": "Point"
          },
          "id": "30",
          "properties": {},
          "type": "Feature"
         },
         {
          "geometry": {
           "coordinates": [
            24.4389173,
            60.12329980000001
           ],
           "type": "Point"
          },
          "id": "32",
          "properties": {},
          "type": "Feature"
         },
         {
          "geometry": {
           "coordinates": [
            24.438996423404543,
            60.12343932876312
           ],
           "type": "Point"
          },
          "id": "33",
          "properties": {},
          "type": "Feature"
         },
         {
          "geometry": {
           "coordinates": [
            24.43929629946984,
            60.12346712042404
           ],
           "type": "Point"
          },
          "id": "34",
          "properties": {},
          "type": "Feature"
         },
         {
          "geometry": {
           "coordinates": [
            24.439363769042238,
            60.12336155355649
           ],
           "type": "Point"
          },
          "id": "35",
          "properties": {},
          "type": "Feature"
         },
         {
          "geometry": {
           "coordinates": [
            24.439191231780857,
            60.12325805184935
           ],
           "type": "Point"
          },
          "id": "36",
          "properties": {},
          "type": "Feature"
         },
         {
          "geometry": {
           "coordinates": [
            24.442285919455795,
            60.12651263061663
           ],
           "type": "Point"
          },
          "id": "39",
          "properties": {},
          "type": "Feature"
         },
         {
          "geometry": {
           "coordinates": [
            24.44263581398044,
            60.1264152182355
           ],
           "type": "Point"
          },
          "id": "40",
          "properties": {},
          "type": "Feature"
         },
         {
          "geometry": {
           "coordinates": [
            24.442804313830177,
            60.126237954976546
           ],
           "type": "Point"
          },
          "id": "41",
          "properties": {},
          "type": "Feature"
         },
         {
          "geometry": {
           "coordinates": [
            24.4429774,
            60.12605750000001
           ],
           "type": "Point"
          },
          "id": "42",
          "properties": {},
          "type": "Feature"
         },
         {
          "geometry": {
           "coordinates": [
            24.441498,
            60.12494339999999
           ],
           "type": "Point"
          },
          "id": "43",
          "properties": {},
          "type": "Feature"
         },
         {
          "geometry": {
           "coordinates": [
            24.44148715861591,
            60.12511430371946
           ],
           "type": "Point"
          },
          "id": "44",
          "properties": {},
          "type": "Feature"
         },
         {
          "geometry": {
           "coordinates": [
            24.44147630969697,
            60.125285207316566
           ],
           "type": "Point"
          },
          "id": "45",
          "properties": {},
          "type": "Feature"
         },
         {
          "geometry": {
           "coordinates": [
            24.44146546064281,
            60.12545611090804
           ],
           "type": "Point"
          },
          "id": "46",
          "properties": {},
          "type": "Feature"
         },
         {
          "geometry": {
           "coordinates": [
            24.441454611453423,
            60.12562701449393
           ],
           "type": "Point"
          },
          "id": "47",
          "properties": {},
          "type": "Feature"
         },
         {
          "geometry": {
           "coordinates": [
            24.44148016688838,
            60.125797307156645
           ],
           "type": "Point"
          },
          "id": "48",
          "properties": {},
          "type": "Feature"
         },
         {
          "geometry": {
           "coordinates": [
            24.44151504900824,
            60.12596737022011
           ],
           "type": "Point"
          },
          "id": "49",
          "properties": {},
          "type": "Feature"
         },
         {
          "geometry": {
           "coordinates": [
            24.4415986269441,
            60.12613319695866
           ],
           "type": "Point"
          },
          "id": "50",
          "properties": {},
          "type": "Feature"
         },
         {
          "geometry": {
           "coordinates": [
            24.441682205701174,
            60.12629902364606
           ],
           "type": "Point"
          },
          "id": "51",
          "properties": {},
          "type": "Feature"
         },
         {
          "geometry": {
           "coordinates": [
            24.441802526391104,
            60.12645877172479
           ],
           "type": "Point"
          },
          "id": "52",
          "properties": {},
          "type": "Feature"
         },
         {
          "geometry": {
           "coordinates": [
            24.4353734,
            60.1269053
           ],
           "type": "Point"
          },
          "id": "54",
          "properties": {},
          "type": "Feature"
         },
         {
          "geometry": {
           "coordinates": [
            24.43504082603339,
            60.126821953705935
           ],
           "type": "Point"
          },
          "id": "55",
          "properties": {},
          "type": "Feature"
         },
         {
          "geometry": {
           "coordinates": [
            24.4347057,
            60.12674129999999
           ],
           "type": "Point"
          },
          "id": "56",
          "properties": {},
          "type": "Feature"
         },
         {
          "geometry": {
           "coordinates": [
            24.439719100000005,
            60.1232725
           ],
           "type": "Point"
          },
          "id": "57",
          "properties": {},
          "type": "Feature"
         },
         {
          "geometry": {
           "coordinates": [
            24.439675653934696,
            60.123448359569885
           ],
           "type": "Point"
          },
          "id": "58",
          "properties": {},
          "type": "Feature"
         },
         {
          "geometry": {
           "coordinates": [
            24.4397235,
            60.12358669999998
           ],
           "type": "Point"
          },
          "id": "59",
          "properties": {},
          "type": "Feature"
         },
         {
          "geometry": {
           "coordinates": [
            24.43712469875723,
            60.12483743826255
           ],
           "type": "Point"
          },
          "id": "61",
          "properties": {},
          "type": "Feature"
         },
         {
          "geometry": {
           "coordinates": [
            24.436804099197836,
            60.12481986951846
           ],
           "type": "Point"
          },
          "id": "62",
          "properties": {},
          "type": "Feature"
         },
         {
          "geometry": {
           "coordinates": [
            24.4364835,
            60.1248023
           ],
           "type": "Point"
          },
          "id": "63",
          "properties": {},
          "type": "Feature"
         },
         {
          "geometry": {
           "coordinates": [
            24.437997256863706,
            60.12480405929427
           ],
           "type": "Point"
          },
          "id": "65",
          "properties": {},
          "type": "Feature"
         },
         {
          "geometry": {
           "coordinates": [
            24.439055470336704,
            60.12363928139441
           ],
           "type": "Point"
          },
          "id": "68",
          "properties": {},
          "type": "Feature"
         },
         {
          "geometry": {
           "coordinates": [
            24.4386725258567,
            60.12361195118096
           ],
           "type": "Point"
          },
          "id": "69",
          "properties": {},
          "type": "Feature"
         },
         {
          "geometry": {
           "coordinates": [
            24.438329934516627,
            60.12355526341757
           ],
           "type": "Point"
          },
          "id": "70",
          "properties": {},
          "type": "Feature"
         },
         {
          "geometry": {
           "coordinates": [
            24.438690270713842,
            60.12354813715176
           ],
           "type": "Point"
          },
          "id": "71",
          "properties": {},
          "type": "Feature"
         },
         {
          "geometry": {
           "coordinates": [
            24.439073196651016,
            60.12357553009514
           ],
           "type": "Point"
          },
          "id": "72",
          "properties": {},
          "type": "Feature"
         },
         {
          "geometry": {
           "coordinates": [
            24.442105071140734,
            60.12676661381287
           ],
           "type": "Point"
          },
          "id": "75",
          "properties": {},
          "type": "Feature"
         },
         {
          "geometry": {
           "coordinates": [
            24.4422847,
            60.12691390000001
           ],
           "type": "Point"
          },
          "id": "76",
          "properties": {},
          "type": "Feature"
         },
         {
          "geometry": {
           "coordinates": [
            24.4361814,
            60.1255937
           ],
           "type": "Point"
          },
          "id": "77",
          "properties": {},
          "type": "Feature"
         },
         {
          "geometry": {
           "coordinates": [
            24.436153068935397,
            60.125769309245854
           ],
           "type": "Point"
          },
          "id": "78",
          "properties": {},
          "type": "Feature"
         },
         {
          "geometry": {
           "coordinates": [
            24.436124737544947,
            60.12594491847952
           ],
           "type": "Point"
          },
          "id": "79",
          "properties": {},
          "type": "Feature"
         },
         {
          "geometry": {
           "coordinates": [
            24.43608491738935,
            60.12611994172873
           ],
           "type": "Point"
          },
          "id": "80",
          "properties": {},
          "type": "Feature"
         },
         {
          "geometry": {
           "coordinates": [
            24.435848315081458,
            60.12621759264764
           ],
           "type": "Point"
          },
          "id": "81",
          "properties": {},
          "type": "Feature"
         },
         {
          "geometry": {
           "coordinates": [
            24.4355516,
            60.126127100000005
           ],
           "type": "Point"
          },
          "id": "82",
          "properties": {},
          "type": "Feature"
         },
         {
          "geometry": {
           "coordinates": [
            24.440337,
            60.12657449999999
           ],
           "type": "Point"
          },
          "id": "83",
          "properties": {},
          "type": "Feature"
         },
         {
          "geometry": {
           "coordinates": [
            24.440008841539854,
            60.12663601709251
           ],
           "type": "Point"
          },
          "id": "84",
          "properties": {},
          "type": "Feature"
         },
         {
          "geometry": {
           "coordinates": [
            24.439677255393608,
            60.126692570106044
           ],
           "type": "Point"
          },
          "id": "85",
          "properties": {},
          "type": "Feature"
         },
         {
          "geometry": {
           "coordinates": [
            24.43933568755513,
            60.1267312255487
           ],
           "type": "Point"
          },
          "id": "86",
          "properties": {},
          "type": "Feature"
         },
         {
          "geometry": {
           "coordinates": [
            24.438988001018316,
            60.12675269320849
           ],
           "type": "Point"
          },
          "id": "87",
          "properties": {},
          "type": "Feature"
         },
         {
          "geometry": {
           "coordinates": [
            24.438638388957592,
            60.126759319319405
           ],
           "type": "Point"
          },
          "id": "88",
          "properties": {},
          "type": "Feature"
         },
         {
          "geometry": {
           "coordinates": [
            24.438288771798796,
            60.12674849483073
           ],
           "type": "Point"
          },
          "id": "89",
          "properties": {},
          "type": "Feature"
         },
         {
          "geometry": {
           "coordinates": [
            24.43794189820606,
            60.12672402202538
           ],
           "type": "Point"
          },
          "id": "90",
          "properties": {},
          "type": "Feature"
         },
         {
          "geometry": {
           "coordinates": [
            24.437599860331666,
            60.12668569355748
           ],
           "type": "Point"
          },
          "id": "91",
          "properties": {},
          "type": "Feature"
         },
         {
          "geometry": {
           "coordinates": [
            24.437274607130828,
            60.126621073590435
           ],
           "type": "Point"
          },
          "id": "92",
          "properties": {},
          "type": "Feature"
         },
         {
          "geometry": {
           "coordinates": [
            24.436958409897425,
            60.12654564771873
           ],
           "type": "Point"
          },
          "id": "93",
          "properties": {},
          "type": "Feature"
         },
         {
          "geometry": {
           "coordinates": [
            24.436643505114763,
            60.12646879921971
           ],
           "type": "Point"
          },
          "id": "94",
          "properties": {},
          "type": "Feature"
         },
         {
          "geometry": {
           "coordinates": [
            24.436328601815617,
            60.12639194998014
           ],
           "type": "Point"
          },
          "id": "95",
          "properties": {},
          "type": "Feature"
         },
         {
          "geometry": {
           "coordinates": [
            24.4388394,
            60.12398
           ],
           "type": "Point"
          },
          "id": "97",
          "properties": {},
          "type": "Feature"
         },
         {
          "geometry": {
           "coordinates": [
            24.4390832,
            60.124137899999994
           ],
           "type": "Point"
          },
          "id": "98",
          "properties": {},
          "type": "Feature"
         },
         {
          "geometry": {
           "coordinates": [
            24.4390326,
            60.123988900000015
           ],
           "type": "Point"
          },
          "id": "99",
          "properties": {},
          "type": "Feature"
         },
         {
          "geometry": {
           "coordinates": [
            24.43905696241747,
            60.123821653688
           ],
           "type": "Point"
          },
          "id": "100",
          "properties": {},
          "type": "Feature"
         },
         {
          "geometry": {
           "coordinates": [
            24.439396900000002,
            60.123845199999984
           ],
           "type": "Point"
          },
          "id": "101",
          "properties": {},
          "type": "Feature"
         },
         {
          "geometry": {
           "coordinates": [
            24.4397312,
            60.12356479999999
           ],
           "type": "Point"
          },
          "id": "102",
          "properties": {},
          "type": "Feature"
         },
         {
          "geometry": {
           "coordinates": [
            24.440105837456237,
            60.123590515931284
           ],
           "type": "Point"
          },
          "id": "103",
          "properties": {},
          "type": "Feature"
         },
         {
          "geometry": {
           "coordinates": [
            24.4404829,
            60.12360169999997
           ],
           "type": "Point"
          },
          "id": "104",
          "properties": {},
          "type": "Feature"
         },
         {
          "geometry": {
           "coordinates": [
            24.44069685257269,
            60.12647933914888
           ],
           "type": "Point"
          },
          "id": "106",
          "properties": {},
          "type": "Feature"
         },
         {
          "geometry": {
           "coordinates": [
            24.440734947600177,
            60.126525555807824
           ],
           "type": "Point"
          },
          "id": "109",
          "properties": {},
          "type": "Feature"
         },
         {
          "geometry": {
           "coordinates": [
            24.4396709,
            60.123740100000006
           ],
           "type": "Point"
          },
          "id": "4",
          "properties": {},
          "type": "Feature"
         },
         {
          "geometry": {
           "coordinates": [
            24.439346894841556,
            60.12371640077742
           ],
           "type": "Point"
          },
          "id": "5",
          "properties": {},
          "type": "Feature"
         },
         {
          "geometry": {
           "coordinates": [
            24.438631170330094,
            60.123487283839566
           ],
           "type": "Point"
          },
          "id": "8",
          "properties": {},
          "type": "Feature"
         },
         {
          "geometry": {
           "coordinates": [
            24.4381988,
            60.1234559
           ],
           "type": "Point"
          },
          "id": "9",
          "properties": {},
          "type": "Feature"
         },
         {
          "geometry": {
           "coordinates": [
            24.4389326,
            60.1232408
           ],
           "type": "Point"
          },
          "id": "11",
          "properties": {},
          "type": "Feature"
         },
         {
          "geometry": {
           "coordinates": [
            24.4391734,
            60.12347430000002
           ],
           "type": "Point"
          },
          "id": "13",
          "properties": {},
          "type": "Feature"
         },
         {
          "geometry": {
           "coordinates": [
            24.438475,
            60.122599799999996
           ],
           "type": "Point"
          },
          "id": "14",
          "properties": {},
          "type": "Feature"
         },
         {
          "geometry": {
           "coordinates": [
            24.438395145336923,
            60.12278345468196
           ],
           "type": "Point"
          },
          "id": "15",
          "properties": {},
          "type": "Feature"
         },
         {
          "geometry": {
           "coordinates": [
            24.43832493343913,
            60.12296794006546
           ],
           "type": "Point"
          },
          "id": "16",
          "properties": {},
          "type": "Feature"
         },
         {
          "geometry": {
           "coordinates": [
            24.438276755372247,
            60.123154323587485
           ],
           "type": "Point"
          },
          "id": "17",
          "properties": {},
          "type": "Feature"
         },
         {
          "geometry": {
           "coordinates": [
            24.4382285767338,
            60.12334070708373
           ],
           "type": "Point"
          },
          "id": "18",
          "properties": {},
          "type": "Feature"
         },
         {
          "geometry": {
           "coordinates": [
            24.438179932887596,
            60.12352706026775
           ],
           "type": "Point"
          },
          "id": "19",
          "properties": {},
          "type": "Feature"
         },
         {
          "geometry": {
           "coordinates": [
            24.43814273294405,
            60.12371403824891
           ],
           "type": "Point"
          },
          "id": "20",
          "properties": {},
          "type": "Feature"
         },
         {
          "geometry": {
           "coordinates": [
            24.43812701799544,
            60.12390087402682
           ],
           "type": "Point"
          },
          "id": "21",
          "properties": {},
          "type": "Feature"
         },
         {
          "geometry": {
           "coordinates": [
            24.438125740668003,
            60.124087672690344
           ],
           "type": "Point"
          },
          "id": "22",
          "properties": {},
          "type": "Feature"
         },
         {
          "geometry": {
           "coordinates": [
            24.438089995613336,
            60.12427475183972
           ],
           "type": "Point"
          },
          "id": "23",
          "properties": {},
          "type": "Feature"
         },
         {
          "geometry": {
           "coordinates": [
            24.438046200000002,
            60.12446139999999
           ],
           "type": "Point"
          },
          "id": "24",
          "properties": {},
          "type": "Feature"
         },
         {
          "geometry": {
           "coordinates": [
            24.439682,
            60.12371209999999
           ],
           "type": "Point"
          },
          "id": "26",
          "properties": {},
          "type": "Feature"
         },
         {
          "geometry": {
           "coordinates": [
            24.4390298,
            60.123657800000004
           ],
           "type": "Point"
          },
          "id": "27",
          "properties": {},
          "type": "Feature"
         },
         {
          "geometry": {
           "coordinates": [
            24.4390548,
            60.123558300000006
           ],
           "type": "Point"
          },
          "id": "28",
          "properties": {},
          "type": "Feature"
         },
         {
          "geometry": {
           "coordinates": [
            24.438026310577385,
            60.12466092229096
           ],
           "type": "Point"
          },
          "id": "30",
          "properties": {},
          "type": "Feature"
         },
         {
          "geometry": {
           "coordinates": [
            24.43787667730927,
            60.12484556533168
           ],
           "type": "Point"
          },
          "id": "31",
          "properties": {},
          "type": "Feature"
         },
         {
          "geometry": {
           "coordinates": [
            24.4376158,
            60.12498610000001
           ],
           "type": "Point"
          },
          "id": "32",
          "properties": {},
          "type": "Feature"
         },
         {
          "geometry": {
           "coordinates": [
            24.4375525,
            60.124983900000004
           ],
           "type": "Point"
          },
          "id": "35",
          "properties": {},
          "type": "Feature"
         },
         {
          "geometry": {
           "coordinates": [
            24.437183104701482,
            60.124958208903614
           ],
           "type": "Point"
          },
          "id": "36",
          "properties": {},
          "type": "Feature"
         },
         {
          "geometry": {
           "coordinates": [
            24.436813699100384,
            60.12493255565616
           ],
           "type": "Point"
          },
          "id": "37",
          "properties": {},
          "type": "Feature"
         },
         {
          "geometry": {
           "coordinates": [
            24.4365097,
            60.12471929999999
           ],
           "type": "Point"
          },
          "id": "39",
          "properties": {},
          "type": "Feature"
         },
         {
          "geometry": {
           "coordinates": [
            24.436872135408642,
            60.12473860953773
           ],
           "type": "Point"
          },
          "id": "40",
          "properties": {},
          "type": "Feature"
         },
         {
          "geometry": {
           "coordinates": [
            24.437234571267215,
            60.12475791808571
           ],
           "type": "Point"
          },
          "id": "41",
          "properties": {},
          "type": "Feature"
         },
         {
          "geometry": {
           "coordinates": [
            24.437489000000003,
            60.12471149999999
           ],
           "type": "Point"
          },
          "id": "42",
          "properties": {},
          "type": "Feature"
         },
         {
          "geometry": {
           "coordinates": [
            24.437536500000004,
            60.12498279999999
           ],
           "type": "Point"
          },
          "id": "43",
          "properties": {},
          "type": "Feature"
         },
         {
          "geometry": {
           "coordinates": [
            24.43750646999602,
            60.12517149880685
           ],
           "type": "Point"
          },
          "id": "44",
          "properties": {},
          "type": "Feature"
         },
         {
          "geometry": {
           "coordinates": [
            24.43747647068238,
            60.125360198837264
           ],
           "type": "Point"
          },
          "id": "45",
          "properties": {},
          "type": "Feature"
         },
         {
          "geometry": {
           "coordinates": [
            24.4374465,
            60.1255489
           ],
           "type": "Point"
          },
          "id": "46",
          "properties": {},
          "type": "Feature"
         },
         {
          "geometry": {
           "coordinates": [
            24.43712427003462,
            60.12553588921429
           ],
           "type": "Point"
          },
          "id": "48",
          "properties": {},
          "type": "Feature"
         },
         {
          "geometry": {
           "coordinates": [
            24.4370451,
            60.1256648
           ],
           "type": "Point"
          },
          "id": "49",
          "properties": {},
          "type": "Feature"
         },
         {
          "geometry": {
           "coordinates": [
            24.4394851,
            60.1257871
           ],
           "type": "Point"
          },
          "id": "50",
          "properties": {},
          "type": "Feature"
         },
         {
          "geometry": {
           "coordinates": [
            24.439136644536706,
            60.12581310103846
           ],
           "type": "Point"
          },
          "id": "51",
          "properties": {},
          "type": "Feature"
         },
         {
          "geometry": {
           "coordinates": [
            24.438781679851868,
            60.125812968821926
           ],
           "type": "Point"
          },
          "id": "52",
          "properties": {},
          "type": "Feature"
         },
         {
          "geometry": {
           "coordinates": [
            24.438476104667213,
            60.12589467871178
           ],
           "type": "Point"
          },
          "id": "53",
          "properties": {},
          "type": "Feature"
         },
         {
          "geometry": {
           "coordinates": [
            24.438212336618307,
            60.12599492941492
           ],
           "type": "Point"
          },
          "id": "54",
          "properties": {},
          "type": "Feature"
         },
         {
          "geometry": {
           "coordinates": [
            24.43785556365563,
            60.12598947316285
           ],
           "type": "Point"
          },
          "id": "55",
          "properties": {},
          "type": "Feature"
         },
         {
          "geometry": {
           "coordinates": [
            24.4374999,
            60.12598049999998
           ],
           "type": "Point"
          },
          "id": "56",
          "properties": {},
          "type": "Feature"
         },
         {
          "geometry": {
           "coordinates": [
            24.4372258,
            60.12661090000001
           ],
           "type": "Point"
          },
          "id": "57",
          "properties": {},
          "type": "Feature"
         },
         {
          "geometry": {
           "coordinates": [
            24.437043100000004,
            60.12681909999999
           ],
           "type": "Point"
          },
          "id": "58",
          "properties": {},
          "type": "Feature"
         },
         {
          "geometry": {
           "coordinates": [
            24.4360843,
            60.126811599999996
           ],
           "type": "Point"
          },
          "id": "61",
          "properties": {},
          "type": "Feature"
         },
         {
          "geometry": {
           "coordinates": [
            24.43628622455834,
            60.12690850871301
           ],
           "type": "Point"
          },
          "id": "62",
          "properties": {},
          "type": "Feature"
         },
         {
          "geometry": {
           "coordinates": [
            24.4362931,
            60.12691600000001
           ],
           "type": "Point"
          },
          "id": "63",
          "properties": {},
          "type": "Feature"
         },
         {
          "geometry": {
           "coordinates": [
            24.436215700000005,
            60.12666559999998
           ],
           "type": "Point"
          },
          "id": "64",
          "properties": {},
          "type": "Feature"
         },
         {
          "geometry": {
           "coordinates": [
            24.436092456786465,
            60.12680253694613
           ],
           "type": "Point"
          },
          "id": "65",
          "properties": {},
          "type": "Feature"
         },
         {
          "geometry": {
           "coordinates": [
            24.4358278,
            60.12675439999998
           ],
           "type": "Point"
          },
          "id": "66",
          "properties": {},
          "type": "Feature"
         },
         {
          "geometry": {
           "coordinates": [
            24.4350167,
            60.1264952
           ],
           "type": "Point"
          },
          "id": "67",
          "properties": {},
          "type": "Feature"
         },
         {
          "geometry": {
           "coordinates": [
            24.4348437,
            60.126668200000005
           ],
           "type": "Point"
          },
          "id": "68",
          "properties": {},
          "type": "Feature"
         },
         {
          "geometry": {
           "coordinates": [
            24.4357704,
            60.126495799999994
           ],
           "type": "Point"
          },
          "id": "69",
          "properties": {},
          "type": "Feature"
         },
         {
          "geometry": {
           "coordinates": [
            24.4367722,
            60.12679579999998
           ],
           "type": "Point"
          },
          "id": "71",
          "properties": {},
          "type": "Feature"
         },
         {
          "geometry": {
           "coordinates": [
            24.436448243244556,
            60.12671915126774
           ],
           "type": "Point"
          },
          "id": "72",
          "properties": {},
          "type": "Feature"
         },
         {
          "geometry": {
           "coordinates": [
            24.436264375914025,
            60.12662063801393
           ],
           "type": "Point"
          },
          "id": "73",
          "properties": {},
          "type": "Feature"
         },
         {
          "geometry": {
           "coordinates": [
            24.435974732309973,
            60.126541310520096
           ],
           "type": "Point"
          },
          "id": "74",
          "properties": {},
          "type": "Feature"
         },
         {
          "geometry": {
           "coordinates": [
            24.435646055243687,
            60.12646986456266
           ],
           "type": "Point"
          },
          "id": "75",
          "properties": {},
          "type": "Feature"
         },
         {
          "geometry": {
           "coordinates": [
            24.43531530783979,
            60.126400807642156
           ],
           "type": "Point"
          },
          "id": "76",
          "properties": {},
          "type": "Feature"
         },
         {
          "geometry": {
           "coordinates": [
            24.43506803932242,
            60.126444018784014
           ],
           "type": "Point"
          },
          "id": "77",
          "properties": {},
          "type": "Feature"
         },
         {
          "geometry": {
           "coordinates": [
            24.435235718351006,
            60.126548664284776
           ],
           "type": "Point"
          },
          "id": "78",
          "properties": {},
          "type": "Feature"
         },
         {
          "geometry": {
           "coordinates": [
            24.4351682,
            60.1266909
           ],
           "type": "Point"
          },
          "id": "79",
          "properties": {},
          "type": "Feature"
         }
        ],
        "type": "FeatureCollection"
       },
       "point_style": {
        "color": "black",
        "radius": 1
       }
      }
     }
    },
    "version_major": 2,
    "version_minor": 0
   }
  }
 },
 "nbformat": 4,
 "nbformat_minor": 5
}
