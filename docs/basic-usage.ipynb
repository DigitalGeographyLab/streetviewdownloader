{
 "cells": [
  {
   "cell_type": "markdown",
   "id": "f1c4253e",
   "metadata": {},
   "source": [
    "# Usage"
   ]
  },
  {
   "cell_type": "markdown",
   "id": "b9d160af",
   "metadata": {},
   "source": [
    "## API key\n",
    "\n",
    "Before you can download any images (or any metadata about them) from Google StreetView, you have to register for Google’s Static StreetView API. Go to https://developers.google.com/maps/documentation/streetview/get-api-key and follow the instructions there. Be sure to also generate an URL signing secret."
   ]
  },
  {
   "cell_type": "markdown",
   "id": "9319e933",
   "metadata": {},
   "source": [
    "## Command line utility\n",
    "\n",
    "The quickest way of downloading StreetView images and their metadata is to use the command line utility `streetviewdownloader`:"
   ]
  },
  {
   "cell_type": "markdown",
   "id": "0b7459d8",
   "metadata": {},
   "source": [
    "```bash\n",
    "$ streetviewdownloader --api-key ABCDEF --url-signing-key GHIJKL --extent \"POLYGON((24.40 60.12, 24.45 60.11, 24.46 60.13, 24.40 60.12))\"\n",
    "```"
   ]
  },
  {
   "cell_type": "markdown",
   "id": "cd224d77",
   "metadata": {},
   "source": [
    "## Python\n",
    "\n",
    "For more advanced applications, such as saving the metadata only, or for integrating the StreetView data download into a workflow pipeline, you can also use Streetviewdownloader’s [Python API](reference.html)."
   ]
  },
  {
   "cell_type": "code",
   "execution_count": null,
   "id": "439ee015",
   "metadata": {
    "nbsphinx": "hidden",
    "tags": [
     "remove-cell"
    ]
   },
   "outputs": [],
   "source": [
    "# this cell is hidden from output\n",
    "# it’s used to \n",
    "# - import credentials\n",
    "# - hide the warnings that are displayed because \n",
    "#   of a current mismatch in geos versions between \n",
    "#   shapely and pygeos\n",
    "# - set sys.path to point to the local streetviewdownloader repo\n",
    "\n",
    "import yaml\n",
    "import os.path\n",
    "with open(os.path.expanduser(\"~/.config/streetviewdownloader.yaml\")) as _config_file:\n",
    "    _config = yaml.safe_load(_config_file)\n",
    "\n",
    "API_KEY = _config[\"API_KEY\"]\n",
    "URL_SIGNING_KEY = _config[\"URL_SIGNING_KEY\"]\n",
    "del _config\n",
    "\n",
    "import warnings\n",
    "warnings.simplefilter(\"ignore\")\n",
    "\n",
    "import sys\n",
    "sys.path.append(\"../src/\")"
   ]
  },
  {
   "cell_type": "markdown",
   "id": "53f7a7cc",
   "metadata": {},
   "source": [
    "### Define download extent and download directory\n",
    "\n",
    "For all examples below, we’ll download data for an area in the municipality of Kirkkonummi, about 50 km west of Helsinki, Finland. We’ll save the downloaded images and/or an associated `metadata.gpkg` into a subfolder of `~/Downloads/`:"
   ]
  },
  {
   "cell_type": "code",
   "execution_count": null,
   "id": "846bfb43",
   "metadata": {},
   "outputs": [],
   "source": [
    "import shapely.wkt\n",
    "import ipyleaflet\n",
    "\n",
    "output_directory = \"/home/USER/Downloads/StreetView/\"\n",
    "kirkkonummi = shapely.wkt.loads(\"POLYGON((24.4343 60.1269, 24.4478 60.1272, 24.4384 60.1225, 24.4343 60.1269))\")\n",
    "\n",
    "map1 = ipyleaflet.Map()\n",
    "map1.add_layer(ipyleaflet.WKTLayer(wkt_string=kirkkonummi.wkt))\n",
    "map1.fit_bounds(((kirkkonummi.bounds[1],kirkkonummi.bounds[0]),(kirkkonummi.bounds[3],kirkkonummi.bounds[2])))\n",
    "\n",
    "map1"
   ]
  },
  {
   "cell_type": "markdown",
   "id": "e278cace",
   "metadata": {},
   "source": [
    "### Using `StreetViewDownloader()`\n",
    "\n",
    "The simplest way of accessing the Python API is to use the `StreetViewDownloader()` class."
   ]
  },
  {
   "cell_type": "code",
   "execution_count": null,
   "id": "241d40a5",
   "metadata": {},
   "outputs": [],
   "source": [
    "from streetviewdownloader import StreetViewDownloader\n",
    "\n",
    "downloader = StreetViewDownloader(API_KEY, URL_SIGNING_KEY)\n",
    "downloader.download(kirkkonummi, output_directory)"
   ]
  },
  {
   "cell_type": "markdown",
   "id": "9727e479",
   "metadata": {},
   "source": [
    "This downloads the metadata to `metadata.gpkg`, and all images into the output directory. Note that, by default, data is appended to an existing metadata dataset, and images existing in the directory are not downloaded again. If you want the metadata only, call `download()` with `metadata_only=True`.\n",
    "\n",
    "Depending on the location and size of the extent, this operation can take a while. In the background, Streetviewdownloader carries out multiple steps:\n",
    "\n",
    "1. Decide which OSM extract from either geofabrik.de or bbbike.org fits best for the extent (the smallest extract in which the extent is fully contained)\n",
    "2. Download this OSM extract, and extract and clip the street network to the extent\n",
    "3. Generate a point data set on this street network with at most 25 meter distance between points\n",
    "4. Query the StreetView Static API for panoramas in the immediate vicinity of each point (and remove duplicates afterwards)\n",
    "5. Download six images each for every panorama.\n",
    "\n",
    "The results of the first two steps are cached for up to seven days, as they are the most expensive ones in respect to download time and processing time. They should complete fast in subsequent runs."
   ]
  },
  {
   "cell_type": "markdown",
   "id": "0ae1849c",
   "metadata": {},
   "source": [
    "### Step by step"
   ]
  },
  {
   "cell_type": "markdown",
   "id": "80391788",
   "metadata": {},
   "source": [
    "Some of these steps can be carried out individually, in order to fine-tune the results, or to save intermediary data sets."
   ]
  },
  {
   "cell_type": "markdown",
   "id": "9c5ce7cf",
   "metadata": {},
   "source": [
    "#### 1-3. Generate equidistant points on the street network"
   ]
  },
  {
   "cell_type": "code",
   "execution_count": null,
   "id": "27333c5f",
   "metadata": {},
   "outputs": [],
   "source": [
    "from streetviewdownloader import StreetNetworkPointGenerator\n",
    "point_generator = StreetNetworkPointGenerator()\n",
    "points = point_generator.points_on_street_network(kirkkonummi)\n",
    "points.head()"
   ]
  },
  {
   "cell_type": "code",
   "execution_count": null,
   "id": "ad054118",
   "metadata": {},
   "outputs": [],
   "source": [
    "map2 = ipyleaflet.Map()\n",
    "map2.add_layer(ipyleaflet.WKTLayer(wkt_string=kirkkonummi.wkt))\n",
    "map2.add_layer(ipyleaflet.GeoData(geo_dataframe=points, point_style={\"radius\": 1, \"color\": \"black\"}))\n",
    "map2.center = map1.center\n",
    "map2.zoom = map1.zoom + 2\n",
    "\n",
    "map2"
   ]
  },
  {
   "cell_type": "markdown",
   "id": "8302d304",
   "metadata": {},
   "source": [
    "#### 4. Query the StreetView API for panoramas close to each point"
   ]
  },
  {
   "cell_type": "code",
   "execution_count": null,
   "id": "e31f3879",
   "metadata": {},
   "outputs": [],
   "source": [
    "from streetviewdownloader import StreetViewMetadataDownloader\n",
    "metadata_downloader = StreetViewMetadataDownloader(API_KEY, URL_SIGNING_KEY)\n",
    "metadata = metadata_downloader.download(points)\n",
    "metadata.head()"
   ]
  },
  {
   "cell_type": "code",
   "execution_count": null,
   "id": "346a3522",
   "metadata": {},
   "outputs": [],
   "source": [
    "map3 = ipyleaflet.Map()\n",
    "map3.add_layer(ipyleaflet.WKTLayer(wkt_string=kirkkonummi.wkt))\n",
    "map3.add_layer(ipyleaflet.GeoData(geo_dataframe=metadata[[\"geometry\"]], point_style={\"radius\": 0.5, \"color\": \"black\" }))\n",
    "map3.center = map1.center\n",
    "map3.zoom = map1.zoom + 2\n",
    "map3"
   ]
  },
  {
   "cell_type": "markdown",
   "id": "0e896fa9",
   "metadata": {},
   "source": [
    "The metadata describes all panoramas that are available inside in the extent.\\\n",
    "\n",
    "This is a good moment to estimate the costs of downloading all images (querying metadata is free). At the time of this writing, the [price for downloading one image is 0.007 USD](https://developers.google.com/maps/documentation/streetview/usage-and-billing#static-street-view). The way Streetviewdownloader obtains the images, each panorama consists of six individual images covering a field-of-view of 60°, each."
   ]
  },
  {
   "cell_type": "code",
   "execution_count": null,
   "id": "5a8a0efd",
   "metadata": {},
   "outputs": [],
   "source": [
    "estimated_costs = len(metadata) * 6 * 0.007\n",
    "estimated_costs"
   ]
  },
  {
   "cell_type": "markdown",
   "id": "1b059133",
   "metadata": {},
   "source": [
    "#### 5. Download the individual images"
   ]
  },
  {
   "cell_type": "code",
   "execution_count": null,
   "id": "2d78c98a",
   "metadata": {},
   "outputs": [],
   "source": [
    "from streetviewdownloader import StreetViewImageDownloader\n",
    "image_downloader = StreetViewImageDownloader(API_KEY, URL_SIGNING_KEY)\n",
    "image_downloader.download(metadata, output_directory)"
   ]
  },
  {
   "cell_type": "markdown",
   "id": "f332db5d",
   "metadata": {},
   "source": [
    "## Output files"
   ]
  },
  {
   "cell_type": "markdown",
   "id": "22c8bd7a",
   "metadata": {},
   "source": [
    "The downloaded images and metadata are saved into the specified output folder. \n",
    "\n",
    "The metadata are saved in GeoPackage format that can be opened using any GIS software, e.g. [QGIS](https://qgis.org/) or [Geopandas](https://geopandas.org/). \n",
    "\n",
    "The images are saved into a directory structure derived from their IDs. Each panorama’s ID is a case-sensitive (!) alphanumeric+underscore+dash string (see above for some sample IDs in the metadata table). To optimise access times when handling thousands or millions of panoramas, Streetviewdownloader creates a three-tier subfolder structure, with the top-most directory being the first character of the ID, the second directory the first two characters, the third layer of directories the full ID. Inside each panorama’s directory, the individal images are named `{ID}_{HEADING}.jpg`, where `{ID}` is the panorama ID, and `{HEADING}` one of `000`, `060`, `120`, `180`, `240`, `300` for the direction the camera pointed to. In general, all six images should exist for each panorama.\n",
    "\n",
    "For example, an image for heading 0 (North) for the StreetView panorama with `ID = \"ABCDEF123456ABC\"` would be saved to `output_directory/A/AB/ABCDEF123456ABC_000.jpg`."
   ]
  }
 ],
 "metadata": {
  "kernelspec": {
   "display_name": "Python 3 (ipykernel)",
   "language": "python",
   "name": "python3"
  },
  "language_info": {
   "codemirror_mode": {
    "name": "ipython",
    "version": 3
   },
   "file_extension": ".py",
   "mimetype": "text/x-python",
   "name": "python",
   "nbconvert_exporter": "python",
   "pygments_lexer": "ipython3",
   "version": "3.10.1"
  }
 },
 "nbformat": 4,
 "nbformat_minor": 5
}
