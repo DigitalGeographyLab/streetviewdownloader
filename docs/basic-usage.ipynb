{
 "cells": [
  {
   "cell_type": "markdown",
   "id": "f1c4253e",
   "metadata": {},
   "source": [
    "# Basic Usage"
   ]
  },
  {
   "cell_type": "code",
   "execution_count": null,
   "id": "439ee015",
   "metadata": {
    "nbsphinx": "hidden",
    "tags": [
     "remove-cell"
    ]
   },
   "outputs": [],
   "source": [
    "# this cell is hidden from output\n",
    "# it’s used to \n",
    "# - import credentials\n",
    "# - hide the warnings that are displayed because \n",
    "#   of a current mismatch in geos versions between \n",
    "#   shapely and pygeos\n",
    "# - set sys.path to point to the local streetviewdownloader repo\n",
    "\n",
    "import yaml\n",
    "import os.path\n",
    "with open(os.path.expanduser(\"~/.config/streetviewdownloader.yaml\")) as _config_file:\n",
    "    _config = yaml.safe_load(_config_file)\n",
    "\n",
    "API_KEY = _config[\"API_KEY\"]\n",
    "URL_SIGNING_KEY = _config[\"URL_SIGNING_KEY\"]\n",
    "del _config\n",
    "\n",
    "import warnings\n",
    "warnings.simplefilter(\"ignore\")\n",
    "\n",
    "import sys\n",
    "sys.path.append(\"../src/\")"
   ]
  },
  {
   "cell_type": "code",
   "execution_count": null,
   "id": "3d3f27ea",
   "metadata": {
    "tags": [
     "remove-output"
    ]
   },
   "outputs": [],
   "source": [
    "import shapely.wkt\n",
    "import ipyleaflet\n",
    "\n",
    "from streetviewdownloader import StreetViewDownloader"
   ]
  },
  {
   "cell_type": "markdown",
   "id": "1e417b97",
   "metadata": {},
   "source": [
    "First, let’s define where to save the data, and for which area we want to download data:"
   ]
  },
  {
   "cell_type": "code",
   "execution_count": null,
   "id": "846bfb43",
   "metadata": {},
   "outputs": [],
   "source": [
    "output_directory = \"/home/${USER}/Downloads/StreetView/\"\n",
    "kirkkonummi = shapely.wkt.loads(\"POLYGON((24.40 60.12, 24.45 60.11, 24.46 60.13, 24.40 60.12))\")\n",
    "\n",
    "map1 = ipyleaflet.Map()\n",
    "map1.add_layer(ipyleaflet.WKTLayer(wkt_string=kirkkonummi.wkt))\n",
    "map1.fit_bounds(((kirkkonummi.bounds[1],kirkkonummi.bounds[0]),(kirkkonummi.bounds[3],kirkkonummi.bounds[2])))\n",
    "map1"
   ]
  },
  {
   "cell_type": "code",
   "execution_count": null,
   "id": "27333c5f",
   "metadata": {},
   "outputs": [],
   "source": [
    "from streetviewdownloader import StreetNetworkPointGenerator, StreetViewDownloader, StreetViewMetadataDownloader\n",
    "points = StreetNetworkPointGenerator().points_on_street_network(kirkkonummi)\n",
    "points.head()"
   ]
  },
  {
   "cell_type": "code",
   "execution_count": null,
   "id": "ad054118",
   "metadata": {},
   "outputs": [],
   "source": [
    "map2 = ipyleaflet.Map()\n",
    "map2.add_layer(ipyleaflet.WKTLayer(wkt_string=kirkkonummi.wkt))\n",
    "map2.add_layer(ipyleaflet.GeoData(geo_dataframe=points, point_style={\"radius\": 1, \"color\": \"black\"}))\n",
    "map2.center = map1.center\n",
    "map2.zoom = map1.zoom + 2\n",
    "\n",
    "map2"
   ]
  },
  {
   "cell_type": "code",
   "execution_count": null,
   "id": "e31f3879",
   "metadata": {},
   "outputs": [],
   "source": [
    "metadata = StreetViewMetadataDownloader(API_KEY, URL_SIGNING_KEY).download(points)"
   ]
  },
  {
   "cell_type": "code",
   "execution_count": null,
   "id": "a8140d75",
   "metadata": {},
   "outputs": [],
   "source": [
    "metadata.head()"
   ]
  },
  {
   "cell_type": "code",
   "execution_count": null,
   "id": "346a3522",
   "metadata": {},
   "outputs": [],
   "source": [
    "map3 = ipyleaflet.Map()\n",
    "map3.add_layer(ipyleaflet.WKTLayer(wkt_string=kirkkonummi.wkt))\n",
    "map3.add_layer(ipyleaflet.GeoData(geo_dataframe=metadata[[\"geometry\"]], point_style={\"radius\": 0.5, \"color\": \"black\" }))\n",
    "map3.center = map1.center\n",
    "map3.zoom = map1.zoom + 2\n",
    "map3"
   ]
  },
  {
   "cell_type": "markdown",
   "id": "1b059133",
   "metadata": {},
   "source": [
    "The "
   ]
  }
 ],
 "metadata": {
  "kernelspec": {
   "display_name": "Python 3 (ipykernel)",
   "language": "python",
   "name": "python3"
  },
  "language_info": {
   "codemirror_mode": {
    "name": "ipython",
    "version": 3
   },
   "file_extension": ".py",
   "mimetype": "text/x-python",
   "name": "python",
   "nbconvert_exporter": "python",
   "pygments_lexer": "ipython3",
   "version": "3.10.1"
  }
 },
 "nbformat": 4,
 "nbformat_minor": 5
}
