{
 "cells": [
  {
   "cell_type": "markdown",
   "id": "f1c4253e",
   "metadata": {},
   "source": [
    "# Basic Usage"
   ]
  },
  {
   "cell_type": "code",
   "execution_count": null,
   "id": "439ee015",
   "metadata": {
    "nbsphinx": "hidden",
    "tags": [
     "remove-cell"
    ]
   },
   "outputs": [],
   "source": [
    "# this cell is hidden from output\n",
    "# it’s used to \n",
    "# - import credentials\n",
    "# - hide the warnings that are displayed because \n",
    "#   of a current mismatch in geos versions between \n",
    "#   shapely and pygeos\n",
    "# - set sys.path to point to the local streetviewdownloader repo\n",
    "\n",
    "import yaml\n",
    "import os.path\n",
    "with open(os.path.expanduser(\"~/.config/streetviewdownloader.yaml\")) as _config_file:\n",
    "    _config = yaml.safe_load(_config_file)\n",
    "\n",
    "API_KEY = _config[\"API_KEY\"]\n",
    "URL_SIGNING_KEY = _config[\"URL_SIGNING_KEY\"]\n",
    "del _config\n",
    "\n",
    "import warnings\n",
    "warnings.simplefilter(\"ignore\")\n",
    "\n",
    "import sys\n",
    "sys.path.append(\"../src/\")"
   ]
  },
  {
   "cell_type": "code",
   "execution_count": null,
   "id": "3d3f27ea",
   "metadata": {
    "tags": [
     "remove-output"
    ]
   },
   "outputs": [],
   "source": [
    "import shapely.wkt\n",
    "import ipyleaflet\n",
    "\n",
    "from streetviewdownloader import StreetViewDownloader"
   ]
  },
  {
   "cell_type": "markdown",
   "id": "1e417b97",
   "metadata": {},
   "source": [
    "First, let’s define where to save the data, and for which area we want to download data:"
   ]
  },
  {
   "cell_type": "code",
   "execution_count": null,
   "id": "846bfb43",
   "metadata": {},
   "outputs": [],
   "source": [
    "output_directory = \"/home/${USER}/Downloads/StreetView/\"\n",
    "kirkkonummi = shapely.wkt.loads(\"POLYGON((24.40 60.12, 24.45 60.11, 24.46 60.13, 24.40 60.12))\")\n",
    "\n",
    "map_ = ipyleaflet.Map()\n",
    "map_.add_layer(ipyleaflet.WKTLayer(wkt_string=kirkkonummi.wkt))\n",
    "map_.fit_bounds(((kirkkonummi.bounds[1],kirkkonummi.bounds[0]),(kirkkonummi.bounds[3],kirkkonummi.bounds[2])))\n",
    "map_"
   ]
  },
  {
   "cell_type": "code",
   "execution_count": null,
   "id": "27333c5f",
   "metadata": {},
   "outputs": [],
   "source": [
    "output_directory = \"/home/${USER}/Downloads/StreetView/\""
   ]
  },
  {
   "cell_type": "markdown",
   "id": "1b059133",
   "metadata": {},
   "source": [
    "The "
   ]
  }
 ],
 "metadata": {
  "celltoolbar": "Edit Metadata",
  "kernelspec": {
   "display_name": "Python 3 (ipykernel)",
   "language": "python",
   "name": "python3"
  },
  "language_info": {
   "codemirror_mode": {
    "name": "ipython",
    "version": 3
   },
   "file_extension": ".py",
   "mimetype": "text/x-python",
   "name": "python",
   "nbconvert_exporter": "python",
   "pygments_lexer": "ipython3",
   "version": "3.9.7"
  }
 },
 "nbformat": 4,
 "nbformat_minor": 5
}
