{
 "cells": [
  {
   "cell_type": "markdown",
   "id": "f1c4253e",
   "metadata": {},
   "source": [
    "# Basic Usage"
   ]
  },
  {
   "cell_type": "code",
   "execution_count": 1,
   "id": "439ee015",
   "metadata": {
    "nbsphinx": "hidden",
    "tags": [
     "remove-cell"
    ]
   },
   "outputs": [],
   "source": [
    "# this cell is hidden from output\n",
    "# it’s used to \n",
    "# - import credentials\n",
    "# - hide the warnings that are displayed because \n",
    "#   of a current mismatch in geos versions between \n",
    "#   shapely and pygeos\n",
    "# - set sys.path to point to the local streetviewdownloader repo\n",
    "\n",
    "import yaml\n",
    "import os.path\n",
    "with open(os.path.expanduser(\"~/.config/streetviewdownloader.yaml\")) as _config_file:\n",
    "    _config = yaml.safe_load(_config_file)\n",
    "\n",
    "API_KEY = _config[\"API_KEY\"]\n",
    "URL_SIGNING_KEY = _config[\"URL_SIGNING_KEY\"]\n",
    "del _config\n",
    "\n",
    "import warnings\n",
    "warnings.simplefilter(\"ignore\")\n",
    "\n",
    "import sys\n",
    "sys.path.append(\"../src/\")"
   ]
  },
  {
   "cell_type": "code",
   "execution_count": 2,
   "id": "3d3f27ea",
   "metadata": {
    "scrolled": false,
    "tags": [
     "remove-output"
    ]
   },
   "outputs": [],
   "source": [
    "import shapely.wkt\n",
    "import ipyleaflet\n",
    "\n",
    "from streetviewdownloader import StreetViewDownloader"
   ]
  },
  {
   "cell_type": "markdown",
   "id": "1e417b97",
   "metadata": {},
   "source": [
    "First, let’s define where to save the data, and for which area we want to download data:"
   ]
  },
  {
   "cell_type": "code",
   "execution_count": 3,
   "id": "846bfb43",
   "metadata": {},
   "outputs": [
    {
     "data": {
      "application/vnd.jupyter.widget-view+json": {
       "model_id": "c2ba4e8a9bc148e3b8dd56927c57b0ac",
       "version_major": 2,
       "version_minor": 0
      },
      "text/plain": [
       "Map(center=[0.0, 0.0], controls=(ZoomControl(options=['position', 'zoom_in_text', 'zoom_in_title', 'zoom_out_t…"
      ]
     },
     "metadata": {},
     "output_type": "display_data"
    }
   ],
   "source": [
    "output_directory = \"/home/${USER}/Downloads/StreetView/\"\n",
    "kirkkonummi = shapely.wkt.loads(\"POLYGON((24.40 60.12, 24.45 60.11, 24.46 60.13, 24.40 60.12))\")\n",
    "\n",
    "map_ = ipyleaflet.Map()\n",
    "map_.add_layer(ipyleaflet.WKTLayer(wkt_string=kirkkonummi.wkt))\n",
    "map_.fit_bounds(((kirkkonummi.bounds[1],kirkkonummi.bounds[0]),(kirkkonummi.bounds[3],kirkkonummi.bounds[2])))\n",
    "map_"
   ]
  },
  {
   "cell_type": "code",
   "execution_count": 4,
   "id": "27333c5f",
   "metadata": {},
   "outputs": [],
   "source": [
    "output_directory = \"/home/${USER}/Downloads/StreetView/\""
   ]
  },
  {
   "cell_type": "markdown",
   "id": "1b059133",
   "metadata": {},
   "source": [
    "The "
   ]
  }
 ],
 "metadata": {
  "celltoolbar": "Edit Metadata",
  "kernelspec": {
   "display_name": "Python 3 (ipykernel)",
   "language": "python",
   "name": "python3"
  },
  "language_info": {
   "codemirror_mode": {
    "name": "ipython",
    "version": 3
   },
   "file_extension": ".py",
   "mimetype": "text/x-python",
   "name": "python",
   "nbconvert_exporter": "python",
   "pygments_lexer": "ipython3",
   "version": "3.9.7"
  },
  "widgets": {
   "application/vnd.jupyter.widget-state+json": {
    "state": {
     "0e5113aa0b9c439eaffd9986e0bf5e46": {
      "model_module": "jupyter-leaflet",
      "model_module_version": "^0.14.0",
      "model_name": "LeafletZoomControlModel",
      "state": {
       "_model_module_version": "^0.14.0",
       "_view_module_version": "^0.14.0",
       "options": [
        "position",
        "zoom_in_text",
        "zoom_in_title",
        "zoom_out_text",
        "zoom_out_title"
       ]
      }
     },
     "14240ec6271b49c9b28c99da4eca7af5": {
      "model_module": "jupyter-leaflet",
      "model_module_version": "^0.14.0",
      "model_name": "LeafletAttributionControlModel",
      "state": {
       "_model_module_version": "^0.14.0",
       "_view_module_version": "^0.14.0",
       "options": [
        "position",
        "prefix"
       ],
       "position": "bottomright",
       "prefix": "ipyleaflet"
      }
     },
     "154b073ac7e04732b1e61f888e052fed": {
      "model_module": "jupyter-leaflet",
      "model_module_version": "^0.14.0",
      "model_name": "LeafletTileLayerModel",
      "state": {
       "_model_module_version": "^0.14.0",
       "_view_module_version": "^0.14.0",
       "base": true,
       "max_native_zoom": 18,
       "max_zoom": 19,
       "min_native_zoom": 0,
       "min_zoom": 1,
       "options": [
        "attribution",
        "detect_retina",
        "max_native_zoom",
        "max_zoom",
        "min_native_zoom",
        "min_zoom",
        "no_wrap",
        "tile_size",
        "tms"
       ]
      }
     },
     "30fcb644d7bc45409cdcc20bc55c299f": {
      "model_module": "jupyter-leaflet",
      "model_module_version": "^0.14.0",
      "model_name": "LeafletMapStyleModel",
      "state": {
       "_model_module_version": "^0.14.0",
       "cursor": "move"
      }
     },
     "40262fe2bd9348408b8dfeeb53745273": {
      "model_module": "jupyter-leaflet",
      "model_module_version": "^0.14.0",
      "model_name": "LeafletMapStyleModel",
      "state": {
       "_model_module_version": "^0.14.0"
      }
     },
     "5ad4b8fe74724f7fbe3d0c2b6f44c9a5": {
      "model_module": "jupyter-leaflet",
      "model_module_version": "^0.14.0",
      "model_name": "LeafletMapStyleModel",
      "state": {
       "_model_module_version": "^0.14.0"
      }
     },
     "8f714a26136941129c3020eeaf3787ee": {
      "model_module": "jupyter-leaflet",
      "model_module_version": "^0.14.0",
      "model_name": "LeafletGeoJSONModel",
      "state": {
       "_model_module": "jupyter-leaflet",
       "_model_module_version": "^0.14.0",
       "_view_count": null,
       "_view_module": "jupyter-leaflet",
       "_view_module_version": "^0.14.0",
       "base": false,
       "bottom": false,
       "data": {
        "geometry": {
         "coordinates": [
          [
           [
            24.4,
            60.12
           ],
           [
            24.45,
            60.11
           ],
           [
            24.46,
            60.13
           ],
           [
            24.4,
            60.12
           ]
          ]
         ],
         "type": "Polygon"
        },
        "properties": {},
        "type": "Feature"
       },
       "name": "",
       "options": [],
       "popup": null,
       "popup_max_height": null,
       "popup_max_width": 300,
       "popup_min_width": 50
      }
     },
     "c2ba4e8a9bc148e3b8dd56927c57b0ac": {
      "model_module": "jupyter-leaflet",
      "model_module_version": "^0.14.0",
      "model_name": "LeafletMapModel",
      "state": {
       "_dragging": true,
       "_model_module_version": "^0.14.0",
       "_view_module_version": "^0.14.0",
       "bottom": 607812,
       "center": [
        60.120000000000005,
        24.43
       ],
       "controls": [
        "IPY_MODEL_0e5113aa0b9c439eaffd9986e0bf5e46",
        "IPY_MODEL_14240ec6271b49c9b28c99da4eca7af5"
       ],
       "default_style": "IPY_MODEL_5ad4b8fe74724f7fbe3d0c2b6f44c9a5",
       "dragging_style": "IPY_MODEL_30fcb644d7bc45409cdcc20bc55c299f",
       "east": 24.513931274414066,
       "fullscreen": false,
       "interpolation": "bilinear",
       "layers": [
        "IPY_MODEL_154b073ac7e04732b1e61f888e052fed",
        "IPY_MODEL_8f714a26136941129c3020eeaf3787ee"
       ],
       "layout": "IPY_MODEL_f29c7220c6464a1c8199de1118f7f75b",
       "left": 1190402,
       "modisdate": "yesterday",
       "north": 60.13706034449873,
       "options": [
        "bounce_at_zoom_limits",
        "box_zoom",
        "center",
        "close_popup_on_click",
        "double_click_zoom",
        "dragging",
        "fullscreen",
        "inertia",
        "inertia_deceleration",
        "inertia_max_speed",
        "interpolation",
        "keyboard",
        "keyboard_pan_offset",
        "keyboard_zoom_offset",
        "max_zoom",
        "min_zoom",
        "scroll_wheel_zoom",
        "tap",
        "tap_tolerance",
        "touch_zoom",
        "world_copy_jump",
        "zoom",
        "zoom_animation_threshold",
        "zoom_delta",
        "zoom_snap",
        "zoom_start"
       ],
       "right": 1191380,
       "south": 60.10285264641446,
       "style": "IPY_MODEL_5ad4b8fe74724f7fbe3d0c2b6f44c9a5",
       "top": 607412,
       "west": 24.346046447753906,
       "window_url": "http://[fdcf::3]:8888/notebooks/basic-usage.ipynb#",
       "zoom": 13
      }
     },
     "f29c7220c6464a1c8199de1118f7f75b": {
      "model_module": "@jupyter-widgets/base",
      "model_module_version": "1.2.0",
      "model_name": "LayoutModel",
      "state": {}
     }
    },
    "version_major": 2,
    "version_minor": 0
   }
  }
 },
 "nbformat": 4,
 "nbformat_minor": 5
}
